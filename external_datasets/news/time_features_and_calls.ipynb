{
  "nbformat": 4,
  "nbformat_minor": 0,
  "metadata": {
    "colab": {
      "provenance": [],
      "toc_visible": true,
      "authorship_tag": "ABX9TyNJEvkZBjmYBRUo/QP+KBRb",
      "include_colab_link": true
    },
    "kernelspec": {
      "name": "python3",
      "display_name": "Python 3"
    },
    "language_info": {
      "name": "python"
    }
  },
  "cells": [
    {
      "cell_type": "markdown",
      "metadata": {
        "id": "view-in-github",
        "colab_type": "text"
      },
      "source": [
        "<a href=\"https://colab.research.google.com/github/bsenst/UWWi_DataDive_Dec22/blob/main/external_datasets/news/time_features_and_calls.ipynb\" target=\"_parent\"><img src=\"https://colab.research.google.com/assets/colab-badge.svg\" alt=\"Open In Colab\"/></a>"
      ]
    },
    {
      "cell_type": "markdown",
      "source": [
        "# import libraries"
      ],
      "metadata": {
        "id": "IVMXkDrXLSYy"
      }
    },
    {
      "cell_type": "code",
      "source": [
        "import numpy as np\n",
        "import pandas as pd\n",
        "import matplotlib.pyplot as plt\n",
        "\n",
        "from sklearn.preprocessing import MinMaxScaler"
      ],
      "metadata": {
        "id": "5is1Gvg_FDwE"
      },
      "execution_count": 51,
      "outputs": []
    },
    {
      "cell_type": "markdown",
      "source": [
        "# create calls per day dataframe"
      ],
      "metadata": {
        "id": "rx1z1KRSK8cP"
      }
    },
    {
      "cell_type": "code",
      "execution_count": 3,
      "metadata": {
        "colab": {
          "base_uri": "https://localhost:8080/"
        },
        "id": "cmRGapIkCJ7p",
        "outputId": "2ece261a-ac77-426e-d349-085df04b9665"
      },
      "outputs": [
        {
          "output_type": "execute_result",
          "data": {
            "text/plain": [
              "(14357, 40)"
            ]
          },
          "metadata": {},
          "execution_count": 3
        }
      ],
      "source": [
        "uwwi22 = pd.read_csv(\"https://github.com/datakind/UWWi_DataDive_Dec22/raw/main/uwwi_datasets/uwwi_dataset_interactions/uwwi_dataset_interactions_2022.csv\")\n",
        "uwwi21 = pd.read_csv(\"https://github.com/datakind/UWWi_DataDive_Dec22/raw/main/uwwi_datasets/uwwi_dataset_interactions/uwwi_dataset_interactions_2021.csv\")\n",
        "uwwi20 = pd.read_csv(\"https://github.com/datakind/UWWi_DataDive_Dec22/raw/main/uwwi_datasets/uwwi_dataset_interactions/uwwi_dataset_interactions_2020.csv\")\n",
        "uwwi = pd.concat([uwwi22, uwwi21, uwwi20])\n",
        "uwwi[\"Interaction_CreateStamp\"] = pd.to_datetime(uwwi.Interaction_CreateStamp, utc=True)\n",
        "uwwi[\"Interaction_EditStamp\"] = pd.to_datetime(uwwi.Interaction_EditStamp, utc=True)\n",
        "uwwi20.shape"
      ]
    },
    {
      "cell_type": "code",
      "source": [
        "uwwi[\"Interaction_CreateStamp\"].groupby([uwwi.Interaction_CreateStamp.dt.year, uwwi.Interaction_CreateStamp.dt.month,  uwwi.Interaction_CreateStamp.dt.day]).agg('count')"
      ],
      "metadata": {
        "colab": {
          "base_uri": "https://localhost:8080/"
        },
        "id": "hsy9BaWqIE3z",
        "outputId": "d9409e6d-ef30-4d5d-c795-700e9984c96d"
      },
      "execution_count": 27,
      "outputs": [
        {
          "output_type": "execute_result",
          "data": {
            "text/plain": [
              "Interaction_CreateStamp  Interaction_CreateStamp  Interaction_CreateStamp\n",
              "2020                     1                        1                          35\n",
              "                                                  2                          46\n",
              "                                                  3                          43\n",
              "                                                  4                          34\n",
              "                                                  5                          14\n",
              "                                                                             ..\n",
              "2022                     11                       27                         12\n",
              "                                                  28                         28\n",
              "                                                  29                         24\n",
              "                                                  30                         23\n",
              "                         12                       1                          13\n",
              "Name: Interaction_CreateStamp, Length: 1066, dtype: int64"
            ]
          },
          "metadata": {},
          "execution_count": 27
        }
      ]
    },
    {
      "cell_type": "code",
      "source": [
        "calls = list(uwwi[\"Interaction_CreateStamp\"].groupby([uwwi.Interaction_CreateStamp.dt.year, uwwi.Interaction_CreateStamp.dt.month,  uwwi.Interaction_CreateStamp.dt.day]).agg('count'))\n",
        "print(len(calls), 3*365)"
      ],
      "metadata": {
        "colab": {
          "base_uri": "https://localhost:8080/"
        },
        "id": "u-DKMR1DF5-d",
        "outputId": "6e5a546e-87ff-4b64-ed9c-efc1772aded9"
      },
      "execution_count": 7,
      "outputs": [
        {
          "output_type": "stream",
          "name": "stdout",
          "text": [
            "1066 1095\n"
          ]
        }
      ]
    },
    {
      "cell_type": "code",
      "source": [
        "dates = sorted(uwwi.Interaction_CreateStamp.dt.strftime(\"%Y-%m-%d\").unique())\n",
        "len(dates)"
      ],
      "metadata": {
        "colab": {
          "base_uri": "https://localhost:8080/"
        },
        "id": "zII6i7ApGqaQ",
        "outputId": "5c96b694-9280-4173-a646-a076f389f0b5"
      },
      "execution_count": 26,
      "outputs": [
        {
          "output_type": "execute_result",
          "data": {
            "text/plain": [
              "1066"
            ]
          },
          "metadata": {},
          "execution_count": 26
        }
      ]
    },
    {
      "cell_type": "code",
      "source": [
        "calls_per_day = pd.DataFrame()\n",
        "calls_per_day[\"dates\"] = pd.to_datetime(dates)\n",
        "calls_per_day[\"calls\"] = calls\n",
        "calls_per_day"
      ],
      "metadata": {
        "colab": {
          "base_uri": "https://localhost:8080/",
          "height": 424
        },
        "id": "5u5LoMtJIHC6",
        "outputId": "73af5179-3d76-4106-b50e-72fe2f53d800"
      },
      "execution_count": 41,
      "outputs": [
        {
          "output_type": "execute_result",
          "data": {
            "text/plain": [
              "          dates  calls\n",
              "0    2020-01-01     35\n",
              "1    2020-01-02     46\n",
              "2    2020-01-03     43\n",
              "3    2020-01-04     34\n",
              "4    2020-01-05     14\n",
              "...         ...    ...\n",
              "1061 2022-11-27     12\n",
              "1062 2022-11-28     28\n",
              "1063 2022-11-29     24\n",
              "1064 2022-11-30     23\n",
              "1065 2022-12-01     13\n",
              "\n",
              "[1066 rows x 2 columns]"
            ],
            "text/html": [
              "\n",
              "  <div id=\"df-fa6b6bd2-e721-481d-b4fe-ea676a9ca9f5\">\n",
              "    <div class=\"colab-df-container\">\n",
              "      <div>\n",
              "<style scoped>\n",
              "    .dataframe tbody tr th:only-of-type {\n",
              "        vertical-align: middle;\n",
              "    }\n",
              "\n",
              "    .dataframe tbody tr th {\n",
              "        vertical-align: top;\n",
              "    }\n",
              "\n",
              "    .dataframe thead th {\n",
              "        text-align: right;\n",
              "    }\n",
              "</style>\n",
              "<table border=\"1\" class=\"dataframe\">\n",
              "  <thead>\n",
              "    <tr style=\"text-align: right;\">\n",
              "      <th></th>\n",
              "      <th>dates</th>\n",
              "      <th>calls</th>\n",
              "    </tr>\n",
              "  </thead>\n",
              "  <tbody>\n",
              "    <tr>\n",
              "      <th>0</th>\n",
              "      <td>2020-01-01</td>\n",
              "      <td>35</td>\n",
              "    </tr>\n",
              "    <tr>\n",
              "      <th>1</th>\n",
              "      <td>2020-01-02</td>\n",
              "      <td>46</td>\n",
              "    </tr>\n",
              "    <tr>\n",
              "      <th>2</th>\n",
              "      <td>2020-01-03</td>\n",
              "      <td>43</td>\n",
              "    </tr>\n",
              "    <tr>\n",
              "      <th>3</th>\n",
              "      <td>2020-01-04</td>\n",
              "      <td>34</td>\n",
              "    </tr>\n",
              "    <tr>\n",
              "      <th>4</th>\n",
              "      <td>2020-01-05</td>\n",
              "      <td>14</td>\n",
              "    </tr>\n",
              "    <tr>\n",
              "      <th>...</th>\n",
              "      <td>...</td>\n",
              "      <td>...</td>\n",
              "    </tr>\n",
              "    <tr>\n",
              "      <th>1061</th>\n",
              "      <td>2022-11-27</td>\n",
              "      <td>12</td>\n",
              "    </tr>\n",
              "    <tr>\n",
              "      <th>1062</th>\n",
              "      <td>2022-11-28</td>\n",
              "      <td>28</td>\n",
              "    </tr>\n",
              "    <tr>\n",
              "      <th>1063</th>\n",
              "      <td>2022-11-29</td>\n",
              "      <td>24</td>\n",
              "    </tr>\n",
              "    <tr>\n",
              "      <th>1064</th>\n",
              "      <td>2022-11-30</td>\n",
              "      <td>23</td>\n",
              "    </tr>\n",
              "    <tr>\n",
              "      <th>1065</th>\n",
              "      <td>2022-12-01</td>\n",
              "      <td>13</td>\n",
              "    </tr>\n",
              "  </tbody>\n",
              "</table>\n",
              "<p>1066 rows × 2 columns</p>\n",
              "</div>\n",
              "      <button class=\"colab-df-convert\" onclick=\"convertToInteractive('df-fa6b6bd2-e721-481d-b4fe-ea676a9ca9f5')\"\n",
              "              title=\"Convert this dataframe to an interactive table.\"\n",
              "              style=\"display:none;\">\n",
              "        \n",
              "  <svg xmlns=\"http://www.w3.org/2000/svg\" height=\"24px\"viewBox=\"0 0 24 24\"\n",
              "       width=\"24px\">\n",
              "    <path d=\"M0 0h24v24H0V0z\" fill=\"none\"/>\n",
              "    <path d=\"M18.56 5.44l.94 2.06.94-2.06 2.06-.94-2.06-.94-.94-2.06-.94 2.06-2.06.94zm-11 1L8.5 8.5l.94-2.06 2.06-.94-2.06-.94L8.5 2.5l-.94 2.06-2.06.94zm10 10l.94 2.06.94-2.06 2.06-.94-2.06-.94-.94-2.06-.94 2.06-2.06.94z\"/><path d=\"M17.41 7.96l-1.37-1.37c-.4-.4-.92-.59-1.43-.59-.52 0-1.04.2-1.43.59L10.3 9.45l-7.72 7.72c-.78.78-.78 2.05 0 2.83L4 21.41c.39.39.9.59 1.41.59.51 0 1.02-.2 1.41-.59l7.78-7.78 2.81-2.81c.8-.78.8-2.07 0-2.86zM5.41 20L4 18.59l7.72-7.72 1.47 1.35L5.41 20z\"/>\n",
              "  </svg>\n",
              "      </button>\n",
              "      \n",
              "  <style>\n",
              "    .colab-df-container {\n",
              "      display:flex;\n",
              "      flex-wrap:wrap;\n",
              "      gap: 12px;\n",
              "    }\n",
              "\n",
              "    .colab-df-convert {\n",
              "      background-color: #E8F0FE;\n",
              "      border: none;\n",
              "      border-radius: 50%;\n",
              "      cursor: pointer;\n",
              "      display: none;\n",
              "      fill: #1967D2;\n",
              "      height: 32px;\n",
              "      padding: 0 0 0 0;\n",
              "      width: 32px;\n",
              "    }\n",
              "\n",
              "    .colab-df-convert:hover {\n",
              "      background-color: #E2EBFA;\n",
              "      box-shadow: 0px 1px 2px rgba(60, 64, 67, 0.3), 0px 1px 3px 1px rgba(60, 64, 67, 0.15);\n",
              "      fill: #174EA6;\n",
              "    }\n",
              "\n",
              "    [theme=dark] .colab-df-convert {\n",
              "      background-color: #3B4455;\n",
              "      fill: #D2E3FC;\n",
              "    }\n",
              "\n",
              "    [theme=dark] .colab-df-convert:hover {\n",
              "      background-color: #434B5C;\n",
              "      box-shadow: 0px 1px 3px 1px rgba(0, 0, 0, 0.15);\n",
              "      filter: drop-shadow(0px 1px 2px rgba(0, 0, 0, 0.3));\n",
              "      fill: #FFFFFF;\n",
              "    }\n",
              "  </style>\n",
              "\n",
              "      <script>\n",
              "        const buttonEl =\n",
              "          document.querySelector('#df-fa6b6bd2-e721-481d-b4fe-ea676a9ca9f5 button.colab-df-convert');\n",
              "        buttonEl.style.display =\n",
              "          google.colab.kernel.accessAllowed ? 'block' : 'none';\n",
              "\n",
              "        async function convertToInteractive(key) {\n",
              "          const element = document.querySelector('#df-fa6b6bd2-e721-481d-b4fe-ea676a9ca9f5');\n",
              "          const dataTable =\n",
              "            await google.colab.kernel.invokeFunction('convertToInteractive',\n",
              "                                                     [key], {});\n",
              "          if (!dataTable) return;\n",
              "\n",
              "          const docLinkHtml = 'Like what you see? Visit the ' +\n",
              "            '<a target=\"_blank\" href=https://colab.research.google.com/notebooks/data_table.ipynb>data table notebook</a>'\n",
              "            + ' to learn more about interactive tables.';\n",
              "          element.innerHTML = '';\n",
              "          dataTable['output_type'] = 'display_data';\n",
              "          await google.colab.output.renderOutput(dataTable, element);\n",
              "          const docLink = document.createElement('div');\n",
              "          docLink.innerHTML = docLinkHtml;\n",
              "          element.appendChild(docLink);\n",
              "        }\n",
              "      </script>\n",
              "    </div>\n",
              "  </div>\n",
              "  "
            ]
          },
          "metadata": {},
          "execution_count": 41
        }
      ]
    },
    {
      "cell_type": "code",
      "source": [
        "calls_per_day.to_csv(\"calls_per_day.csv\")"
      ],
      "metadata": {
        "id": "e-fP4i4ZUVV7"
      },
      "execution_count": 72,
      "outputs": []
    },
    {
      "cell_type": "code",
      "source": [
        "plt.figure(figsize=(24,6))\n",
        "plt.plot(calls_per_day.dates, calls_per_day.calls)\n",
        "plt.show()"
      ],
      "metadata": {
        "colab": {
          "base_uri": "https://localhost:8080/",
          "height": 261
        },
        "id": "FVbU-coaKE8M",
        "outputId": "d3355866-fa97-4351-d854-b9a40ad14546"
      },
      "execution_count": 44,
      "outputs": [
        {
          "output_type": "display_data",
          "data": {
            "text/plain": [
              "<Figure size 1728x432 with 1 Axes>"
            ],
            "image/png": "[encoded data removed]"
          },
          "metadata": {
            "needs_background": "light"
          }
        }
      ]
    },
    {
      "cell_type": "code",
      "source": [
        "# https://www.kaggle.com/code/anirbank/callcenteroptimization/notebook\n",
        "\n",
        "scaler = MinMaxScaler(feature_range=(0, 1))\n",
        "calls_scaled = scaler.fit_transform(np.array(calls_per_day.calls).reshape(-1, 1))\n",
        "calls_per_day[\"calls_scaled\"] = list(calls_scaled.flatten())\n",
        "\n",
        "plt.plot(calls_per_day.dates.loc[103:109], calls_per_day.calls_scaled.loc[103:109])\n",
        "plt.show()"
      ],
      "metadata": {
        "colab": {
          "base_uri": "https://localhost:8080/",
          "height": 265
        },
        "id": "MtjjwGg5LKfs",
        "outputId": "19bf950f-d730-46de-b905-b6eead7277d8"
      },
      "execution_count": 71,
      "outputs": [
        {
          "output_type": "display_data",
          "data": {
            "text/plain": [
              "<Figure size 432x288 with 1 Axes>"
            ],
            "image/png": "[encoded data removed]"
          },
          "metadata": {
            "needs_background": "light"
          }
        }
      ]
    },
    {
      "cell_type": "code",
      "source": [
        "train_size = int(len(calls_scaled)*0.8)\n",
        "test_size = len(calls_scaled) - train_size\n",
        "train, test = calls_scaled[0:train_size,:], calls_scaled[train_size:len(calls_scaled),:]\n",
        "print(len(train), len(test))"
      ],
      "metadata": {
        "colab": {
          "base_uri": "https://localhost:8080/"
        },
        "id": "7m4uaIJ9M-u9",
        "outputId": "0d548a8c-cc40-4252-cf0e-af004e3cf27f"
      },
      "execution_count": 60,
      "outputs": [
        {
          "output_type": "stream",
          "name": "stdout",
          "text": [
            "852 214\n"
          ]
        }
      ]
    },
    {
      "cell_type": "markdown",
      "source": [
        "# add weather features"
      ],
      "metadata": {
        "id": "EwznEP_Ne6HW"
      }
    },
    {
      "cell_type": "markdown",
      "source": [
        "## missing row (10/03/2022) in stevens_point df"
      ],
      "metadata": {
        "id": "9ZRjXiNxkYI8"
      }
    },
    {
      "cell_type": "code",
      "source": [
        "weather = pd.read_csv(\"https://github.com/bsenst/UWWi_DataDive_Dec22/raw/main/external_datasets/Weather%20Datasets/Wisconsin_Weather_WY2017-2023.csv\")\n",
        "stevens_point = weather[weather.NAME==\"STEVENS POINT, WI US\"]\n",
        "stevens_point[\"DATE\"] = pd.to_datetime(stevens_point.DATE)\n",
        "stevens_point = stevens_point.iloc[1187:,:]\n",
        "stevens_point.DATE"
      ],
      "metadata": {
        "colab": {
          "base_uri": "https://localhost:8080/"
        },
        "id": "h8RRFhJyeIkj",
        "outputId": "046e55bd-b48f-484f-9146-222e4075ceae"
      },
      "execution_count": 154,
      "outputs": [
        {
          "output_type": "stream",
          "name": "stderr",
          "text": [
            "/usr/local/lib/python3.8/dist-packages/IPython/core/interactiveshell.py:3326: DtypeWarning: Columns (21,37,39,41,43,45,47,49) have mixed types.Specify dtype option on import or set low_memory=False.\n",
            "  exec(code_obj, self.user_global_ns, self.user_ns)\n",
            "<ipython-input-154-6e8beb90c5ac>:3: SettingWithCopyWarning: \n",
            "A value is trying to be set on a copy of a slice from a DataFrame.\n",
            "Try using .loc[row_indexer,col_indexer] = value instead\n",
            "\n",
            "See the caveats in the documentation: https://pandas.pydata.org/pandas-docs/stable/user_guide/indexing.html#returning-a-view-versus-a-copy\n",
            "  stevens_point[\"DATE\"] = pd.to_datetime(stevens_point.DATE)\n"
          ]
        },
        {
          "output_type": "execute_result",
          "data": {
            "text/plain": [
              "72694   2020-01-01\n",
              "72695   2020-01-02\n",
              "72696   2020-01-03\n",
              "72697   2020-01-04\n",
              "72698   2020-01-05\n",
              "           ...    \n",
              "73751   2022-11-24\n",
              "73752   2022-11-25\n",
              "73753   2022-11-26\n",
              "73754   2022-11-27\n",
              "73755   2022-11-28\n",
              "Name: DATE, Length: 1062, dtype: datetime64[ns]"
            ]
          },
          "metadata": {},
          "execution_count": 154
        }
      ]
    },
    {
      "cell_type": "code",
      "source": [
        "# calls_per_day = calls_per_day.iloc[:-3,:]\n",
        "calls_per_day.dates"
      ],
      "metadata": {
        "colab": {
          "base_uri": "https://localhost:8080/"
        },
        "id": "TD-H9xurgOYF",
        "outputId": "5b024f48-94d4-4794-cfc7-efc16670022c"
      },
      "execution_count": 81,
      "outputs": [
        {
          "output_type": "execute_result",
          "data": {
            "text/plain": [
              "0      2020-01-01\n",
              "1      2020-01-02\n",
              "2      2020-01-03\n",
              "3      2020-01-04\n",
              "4      2020-01-05\n",
              "          ...    \n",
              "1058   2022-11-24\n",
              "1059   2022-11-25\n",
              "1060   2022-11-26\n",
              "1061   2022-11-27\n",
              "1062   2022-11-28\n",
              "Name: dates, Length: 1063, dtype: datetime64[ns]"
            ]
          },
          "metadata": {},
          "execution_count": 81
        }
      ]
    },
    {
      "cell_type": "code",
      "source": [
        "l1 = list(calls_per_day.dates)\n",
        "l2 = list(stevens_point.DATE)\n",
        "for i in range(len(stevens_point.DATE)):\n",
        "  if l1[i] != l2[i]:\n",
        "    print(i, l1[i], l2[i], l1[0] == l2[0])\n",
        "    i -= 1\n",
        "    print(i, l1[i], l2[i], l1[0] == l2[0])\n",
        "    i += 2\n",
        "    print(i, l1[i], l2[i], l1[0] == l2[0])\n",
        "    break"
      ],
      "metadata": {
        "colab": {
          "base_uri": "https://localhost:8080/"
        },
        "id": "f4XrhoBIgoys",
        "outputId": "159258e2-160f-4fc6-e04d-a0c65228b483"
      },
      "execution_count": 155,
      "outputs": [
        {
          "output_type": "stream",
          "name": "stdout",
          "text": [
            "1006 2022-10-03 00:00:00 2022-10-04 00:00:00 True\n",
            "1005 2022-10-02 00:00:00 2022-10-02 00:00:00 True\n",
            "1007 2022-10-04 00:00:00 2022-10-05 00:00:00 True\n"
          ]
        }
      ]
    },
    {
      "cell_type": "code",
      "source": [
        "stevens_point[1004:1008].DATE"
      ],
      "metadata": {
        "colab": {
          "base_uri": "https://localhost:8080/"
        },
        "id": "Ulnn1_aFjDxk",
        "outputId": "de9473fd-7cc2-4abf-c146-f257db3166c5"
      },
      "execution_count": 156,
      "outputs": [
        {
          "output_type": "execute_result",
          "data": {
            "text/plain": [
              "73698   2022-10-01\n",
              "73699   2022-10-02\n",
              "73700   2022-10-04\n",
              "73701   2022-10-05\n",
              "Name: DATE, dtype: datetime64[ns]"
            ]
          },
          "metadata": {},
          "execution_count": 156
        }
      ]
    },
    {
      "cell_type": "code",
      "source": [
        "df1 = stevens_point[:1006]\n",
        "df1.DATE.tail()"
      ],
      "metadata": {
        "colab": {
          "base_uri": "https://localhost:8080/"
        },
        "id": "QDwXC1XYkV0r",
        "outputId": "ccd6457f-02af-4102-c9f6-de9b0557ecd0"
      },
      "execution_count": 157,
      "outputs": [
        {
          "output_type": "execute_result",
          "data": {
            "text/plain": [
              "73695   2022-09-28\n",
              "73696   2022-09-29\n",
              "73697   2022-09-30\n",
              "73698   2022-10-01\n",
              "73699   2022-10-02\n",
              "Name: DATE, dtype: datetime64[ns]"
            ]
          },
          "metadata": {},
          "execution_count": 157
        }
      ]
    },
    {
      "cell_type": "code",
      "source": [
        "df2 = stevens_point[1006:]\n",
        "df2.DATE.head()"
      ],
      "metadata": {
        "colab": {
          "base_uri": "https://localhost:8080/"
        },
        "id": "G1e7bI8VkgSv",
        "outputId": "83ec1398-9765-467f-e0fc-c343b4c91ce9"
      },
      "execution_count": 158,
      "outputs": [
        {
          "output_type": "execute_result",
          "data": {
            "text/plain": [
              "73700   2022-10-04\n",
              "73701   2022-10-05\n",
              "73702   2022-10-06\n",
              "73703   2022-10-07\n",
              "73704   2022-10-08\n",
              "Name: DATE, dtype: datetime64[ns]"
            ]
          },
          "metadata": {},
          "execution_count": 158
        }
      ]
    },
    {
      "cell_type": "code",
      "source": [
        "df3 = pd.DataFrame()\n",
        "df3 = stevens_point.iloc[100:101,:]\n",
        "df3[\"DATE\"] = pd.to_datetime(\"2022-10-03\")\n",
        "df3"
      ],
      "metadata": {
        "colab": {
          "base_uri": "https://localhost:8080/",
          "height": 313
        },
        "id": "9p9fpmQNkpSS",
        "outputId": "baf353dd-f7bc-4faf-9034-e1c7dab9ec9c"
      },
      "execution_count": 159,
      "outputs": [
        {
          "output_type": "stream",
          "name": "stderr",
          "text": [
            "<ipython-input-159-49fc5b0bf3ef>:3: SettingWithCopyWarning: \n",
            "A value is trying to be set on a copy of a slice from a DataFrame.\n",
            "Try using .loc[row_indexer,col_indexer] = value instead\n",
            "\n",
            "See the caveats in the documentation: https://pandas.pydata.org/pandas-docs/stable/user_guide/indexing.html#returning-a-view-versus-a-copy\n",
            "  df3[\"DATE\"] = pd.to_datetime(\"2022-10-03\")\n"
          ]
        },
        {
          "output_type": "execute_result",
          "data": {
            "text/plain": [
              "           STATION                  NAME  LATITUDE  LONGITUDE  ELEVATION  \\\n",
              "72794  USC00478171  STEVENS POINT, WI US   44.5115   -89.5853      328.9   \n",
              "\n",
              "            DATE  DAPR DAPR_ATTRIBUTES  MDPR MDPR_ATTRIBUTES  ...  WESF  \\\n",
              "72794 2022-10-03   NaN             NaN   NaN             NaN  ...   NaN   \n",
              "\n",
              "      WESF_ATTRIBUTES  WSF2 WSF2_ATTRIBUTES  WT02 WT02_ATTRIBUTES  WT08  \\\n",
              "72794             NaN   NaN             NaN   NaN             NaN   NaN   \n",
              "\n",
              "      WT08_ATTRIBUTES  WT09 WT09_ATTRIBUTES  \n",
              "72794             NaN   NaN             NaN  \n",
              "\n",
              "[1 rows x 50 columns]"
            ],
            "text/html": [
              "\n",
              "  <div id=\"df-7fd25712-7917-4dd3-a65d-2457604e1506\">\n",
              "    <div class=\"colab-df-container\">\n",
              "      <div>\n",
              "<style scoped>\n",
              "    .dataframe tbody tr th:only-of-type {\n",
              "        vertical-align: middle;\n",
              "    }\n",
              "\n",
              "    .dataframe tbody tr th {\n",
              "        vertical-align: top;\n",
              "    }\n",
              "\n",
              "    .dataframe thead th {\n",
              "        text-align: right;\n",
              "    }\n",
              "</style>\n",
              "<table border=\"1\" class=\"dataframe\">\n",
              "  <thead>\n",
              "    <tr style=\"text-align: right;\">\n",
              "      <th></th>\n",
              "      <th>STATION</th>\n",
              "      <th>NAME</th>\n",
              "      <th>LATITUDE</th>\n",
              "      <th>LONGITUDE</th>\n",
              "      <th>ELEVATION</th>\n",
              "      <th>DATE</th>\n",
              "      <th>DAPR</th>\n",
              "      <th>DAPR_ATTRIBUTES</th>\n",
              "      <th>MDPR</th>\n",
              "      <th>MDPR_ATTRIBUTES</th>\n",
              "      <th>...</th>\n",
              "      <th>WESF</th>\n",
              "      <th>WESF_ATTRIBUTES</th>\n",
              "      <th>WSF2</th>\n",
              "      <th>WSF2_ATTRIBUTES</th>\n",
              "      <th>WT02</th>\n",
              "      <th>WT02_ATTRIBUTES</th>\n",
              "      <th>WT08</th>\n",
              "      <th>WT08_ATTRIBUTES</th>\n",
              "      <th>WT09</th>\n",
              "      <th>WT09_ATTRIBUTES</th>\n",
              "    </tr>\n",
              "  </thead>\n",
              "  <tbody>\n",
              "    <tr>\n",
              "      <th>72794</th>\n",
              "      <td>USC00478171</td>\n",
              "      <td>STEVENS POINT, WI US</td>\n",
              "      <td>44.5115</td>\n",
              "      <td>-89.5853</td>\n",
              "      <td>328.9</td>\n",
              "      <td>2022-10-03</td>\n",
              "      <td>NaN</td>\n",
              "      <td>NaN</td>\n",
              "      <td>NaN</td>\n",
              "      <td>NaN</td>\n",
              "      <td>...</td>\n",
              "      <td>NaN</td>\n",
              "      <td>NaN</td>\n",
              "      <td>NaN</td>\n",
              "      <td>NaN</td>\n",
              "      <td>NaN</td>\n",
              "      <td>NaN</td>\n",
              "      <td>NaN</td>\n",
              "      <td>NaN</td>\n",
              "      <td>NaN</td>\n",
              "      <td>NaN</td>\n",
              "    </tr>\n",
              "  </tbody>\n",
              "</table>\n",
              "<p>1 rows × 50 columns</p>\n",
              "</div>\n",
              "      <button class=\"colab-df-convert\" onclick=\"convertToInteractive('df-7fd25712-7917-4dd3-a65d-2457604e1506')\"\n",
              "              title=\"Convert this dataframe to an interactive table.\"\n",
              "              style=\"display:none;\">\n",
              "        \n",
              "  <svg xmlns=\"http://www.w3.org/2000/svg\" height=\"24px\"viewBox=\"0 0 24 24\"\n",
              "       width=\"24px\">\n",
              "    <path d=\"M0 0h24v24H0V0z\" fill=\"none\"/>\n",
              "    <path d=\"M18.56 5.44l.94 2.06.94-2.06 2.06-.94-2.06-.94-.94-2.06-.94 2.06-2.06.94zm-11 1L8.5 8.5l.94-2.06 2.06-.94-2.06-.94L8.5 2.5l-.94 2.06-2.06.94zm10 10l.94 2.06.94-2.06 2.06-.94-2.06-.94-.94-2.06-.94 2.06-2.06.94z\"/><path d=\"M17.41 7.96l-1.37-1.37c-.4-.4-.92-.59-1.43-.59-.52 0-1.04.2-1.43.59L10.3 9.45l-7.72 7.72c-.78.78-.78 2.05 0 2.83L4 21.41c.39.39.9.59 1.41.59.51 0 1.02-.2 1.41-.59l7.78-7.78 2.81-2.81c.8-.78.8-2.07 0-2.86zM5.41 20L4 18.59l7.72-7.72 1.47 1.35L5.41 20z\"/>\n",
              "  </svg>\n",
              "      </button>\n",
              "      \n",
              "  <style>\n",
              "    .colab-df-container {\n",
              "      display:flex;\n",
              "      flex-wrap:wrap;\n",
              "      gap: 12px;\n",
              "    }\n",
              "\n",
              "    .colab-df-convert {\n",
              "      background-color: #E8F0FE;\n",
              "      border: none;\n",
              "      border-radius: 50%;\n",
              "      cursor: pointer;\n",
              "      display: none;\n",
              "      fill: #1967D2;\n",
              "      height: 32px;\n",
              "      padding: 0 0 0 0;\n",
              "      width: 32px;\n",
              "    }\n",
              "\n",
              "    .colab-df-convert:hover {\n",
              "      background-color: #E2EBFA;\n",
              "      box-shadow: 0px 1px 2px rgba(60, 64, 67, 0.3), 0px 1px 3px 1px rgba(60, 64, 67, 0.15);\n",
              "      fill: #174EA6;\n",
              "    }\n",
              "\n",
              "    [theme=dark] .colab-df-convert {\n",
              "      background-color: #3B4455;\n",
              "      fill: #D2E3FC;\n",
              "    }\n",
              "\n",
              "    [theme=dark] .colab-df-convert:hover {\n",
              "      background-color: #434B5C;\n",
              "      box-shadow: 0px 1px 3px 1px rgba(0, 0, 0, 0.15);\n",
              "      filter: drop-shadow(0px 1px 2px rgba(0, 0, 0, 0.3));\n",
              "      fill: #FFFFFF;\n",
              "    }\n",
              "  </style>\n",
              "\n",
              "      <script>\n",
              "        const buttonEl =\n",
              "          document.querySelector('#df-7fd25712-7917-4dd3-a65d-2457604e1506 button.colab-df-convert');\n",
              "        buttonEl.style.display =\n",
              "          google.colab.kernel.accessAllowed ? 'block' : 'none';\n",
              "\n",
              "        async function convertToInteractive(key) {\n",
              "          const element = document.querySelector('#df-7fd25712-7917-4dd3-a65d-2457604e1506');\n",
              "          const dataTable =\n",
              "            await google.colab.kernel.invokeFunction('convertToInteractive',\n",
              "                                                     [key], {});\n",
              "          if (!dataTable) return;\n",
              "\n",
              "          const docLinkHtml = 'Like what you see? Visit the ' +\n",
              "            '<a target=\"_blank\" href=https://colab.research.google.com/notebooks/data_table.ipynb>data table notebook</a>'\n",
              "            + ' to learn more about interactive tables.';\n",
              "          element.innerHTML = '';\n",
              "          dataTable['output_type'] = 'display_data';\n",
              "          await google.colab.output.renderOutput(dataTable, element);\n",
              "          const docLink = document.createElement('div');\n",
              "          docLink.innerHTML = docLinkHtml;\n",
              "          element.appendChild(docLink);\n",
              "        }\n",
              "      </script>\n",
              "    </div>\n",
              "  </div>\n",
              "  "
            ]
          },
          "metadata": {},
          "execution_count": 159
        }
      ]
    },
    {
      "cell_type": "code",
      "source": [
        "frames = [df1, df3, df2]\n",
        "stevens_point = pd.concat(frames)\n",
        "stevens_point[1004:1010].DATE"
      ],
      "metadata": {
        "colab": {
          "base_uri": "https://localhost:8080/"
        },
        "id": "_eXtEV2Gkz-b",
        "outputId": "c12b6e13-457b-4032-eafd-4393fa809527"
      },
      "execution_count": 160,
      "outputs": [
        {
          "output_type": "execute_result",
          "data": {
            "text/plain": [
              "73698   2022-10-01\n",
              "73699   2022-10-02\n",
              "72794   2022-10-03\n",
              "73700   2022-10-04\n",
              "73701   2022-10-05\n",
              "73702   2022-10-06\n",
              "Name: DATE, dtype: datetime64[ns]"
            ]
          },
          "metadata": {},
          "execution_count": 160
        }
      ]
    },
    {
      "cell_type": "code",
      "source": [
        "calls_per_day[\"snwd\"] = list(stevens_point.SNWD)\n",
        "calls_per_day = calls_per_day.drop([\"calls_scaled\"], axis=1)\n",
        "calls_per_day"
      ],
      "metadata": {
        "colab": {
          "base_uri": "https://localhost:8080/",
          "height": 548
        },
        "id": "cdvVY3NDmmfP",
        "outputId": "40a1c2b9-0832-4153-a3f9-ca73f1d5ec6b"
      },
      "execution_count": 164,
      "outputs": [
        {
          "output_type": "stream",
          "name": "stderr",
          "text": [
            "<ipython-input-164-a97b4158a75d>:1: SettingWithCopyWarning: \n",
            "A value is trying to be set on a copy of a slice from a DataFrame.\n",
            "Try using .loc[row_indexer,col_indexer] = value instead\n",
            "\n",
            "See the caveats in the documentation: https://pandas.pydata.org/pandas-docs/stable/user_guide/indexing.html#returning-a-view-versus-a-copy\n",
            "  calls_per_day[\"snwd\"] = list(stevens_point.SNWD)\n"
          ]
        },
        {
          "output_type": "execute_result",
          "data": {
            "text/plain": [
              "          dates  calls  snwd\n",
              "0    2020-01-01     35   6.0\n",
              "1    2020-01-02     46   6.0\n",
              "2    2020-01-03     43   6.0\n",
              "3    2020-01-04     34   5.0\n",
              "4    2020-01-05     14   4.0\n",
              "...         ...    ...   ...\n",
              "1058 2022-11-24     16   1.0\n",
              "1059 2022-11-25     21   0.0\n",
              "1060 2022-11-26     25   0.0\n",
              "1061 2022-11-27     12   0.0\n",
              "1062 2022-11-28     28   0.0\n",
              "\n",
              "[1063 rows x 3 columns]"
            ],
            "text/html": [
              "\n",
              "  <div id=\"df-833694c6-badc-4391-b6b0-ae54cdc7b882\">\n",
              "    <div class=\"colab-df-container\">\n",
              "      <div>\n",
              "<style scoped>\n",
              "    .dataframe tbody tr th:only-of-type {\n",
              "        vertical-align: middle;\n",
              "    }\n",
              "\n",
              "    .dataframe tbody tr th {\n",
              "        vertical-align: top;\n",
              "    }\n",
              "\n",
              "    .dataframe thead th {\n",
              "        text-align: right;\n",
              "    }\n",
              "</style>\n",
              "<table border=\"1\" class=\"dataframe\">\n",
              "  <thead>\n",
              "    <tr style=\"text-align: right;\">\n",
              "      <th></th>\n",
              "      <th>dates</th>\n",
              "      <th>calls</th>\n",
              "      <th>snwd</th>\n",
              "    </tr>\n",
              "  </thead>\n",
              "  <tbody>\n",
              "    <tr>\n",
              "      <th>0</th>\n",
              "      <td>2020-01-01</td>\n",
              "      <td>35</td>\n",
              "      <td>6.0</td>\n",
              "    </tr>\n",
              "    <tr>\n",
              "      <th>1</th>\n",
              "      <td>2020-01-02</td>\n",
              "      <td>46</td>\n",
              "      <td>6.0</td>\n",
              "    </tr>\n",
              "    <tr>\n",
              "      <th>2</th>\n",
              "      <td>2020-01-03</td>\n",
              "      <td>43</td>\n",
              "      <td>6.0</td>\n",
              "    </tr>\n",
              "    <tr>\n",
              "      <th>3</th>\n",
              "      <td>2020-01-04</td>\n",
              "      <td>34</td>\n",
              "      <td>5.0</td>\n",
              "    </tr>\n",
              "    <tr>\n",
              "      <th>4</th>\n",
              "      <td>2020-01-05</td>\n",
              "      <td>14</td>\n",
              "      <td>4.0</td>\n",
              "    </tr>\n",
              "    <tr>\n",
              "      <th>...</th>\n",
              "      <td>...</td>\n",
              "      <td>...</td>\n",
              "      <td>...</td>\n",
              "    </tr>\n",
              "    <tr>\n",
              "      <th>1058</th>\n",
              "      <td>2022-11-24</td>\n",
              "      <td>16</td>\n",
              "      <td>1.0</td>\n",
              "    </tr>\n",
              "    <tr>\n",
              "      <th>1059</th>\n",
              "      <td>2022-11-25</td>\n",
              "      <td>21</td>\n",
              "      <td>0.0</td>\n",
              "    </tr>\n",
              "    <tr>\n",
              "      <th>1060</th>\n",
              "      <td>2022-11-26</td>\n",
              "      <td>25</td>\n",
              "      <td>0.0</td>\n",
              "    </tr>\n",
              "    <tr>\n",
              "      <th>1061</th>\n",
              "      <td>2022-11-27</td>\n",
              "      <td>12</td>\n",
              "      <td>0.0</td>\n",
              "    </tr>\n",
              "    <tr>\n",
              "      <th>1062</th>\n",
              "      <td>2022-11-28</td>\n",
              "      <td>28</td>\n",
              "      <td>0.0</td>\n",
              "    </tr>\n",
              "  </tbody>\n",
              "</table>\n",
              "<p>1063 rows × 3 columns</p>\n",
              "</div>\n",
              "      <button class=\"colab-df-convert\" onclick=\"convertToInteractive('df-833694c6-badc-4391-b6b0-ae54cdc7b882')\"\n",
              "              title=\"Convert this dataframe to an interactive table.\"\n",
              "              style=\"display:none;\">\n",
              "        \n",
              "  <svg xmlns=\"http://www.w3.org/2000/svg\" height=\"24px\"viewBox=\"0 0 24 24\"\n",
              "       width=\"24px\">\n",
              "    <path d=\"M0 0h24v24H0V0z\" fill=\"none\"/>\n",
              "    <path d=\"M18.56 5.44l.94 2.06.94-2.06 2.06-.94-2.06-.94-.94-2.06-.94 2.06-2.06.94zm-11 1L8.5 8.5l.94-2.06 2.06-.94-2.06-.94L8.5 2.5l-.94 2.06-2.06.94zm10 10l.94 2.06.94-2.06 2.06-.94-2.06-.94-.94-2.06-.94 2.06-2.06.94z\"/><path d=\"M17.41 7.96l-1.37-1.37c-.4-.4-.92-.59-1.43-.59-.52 0-1.04.2-1.43.59L10.3 9.45l-7.72 7.72c-.78.78-.78 2.05 0 2.83L4 21.41c.39.39.9.59 1.41.59.51 0 1.02-.2 1.41-.59l7.78-7.78 2.81-2.81c.8-.78.8-2.07 0-2.86zM5.41 20L4 18.59l7.72-7.72 1.47 1.35L5.41 20z\"/>\n",
              "  </svg>\n",
              "      </button>\n",
              "      \n",
              "  <style>\n",
              "    .colab-df-container {\n",
              "      display:flex;\n",
              "      flex-wrap:wrap;\n",
              "      gap: 12px;\n",
              "    }\n",
              "\n",
              "    .colab-df-convert {\n",
              "      background-color: #E8F0FE;\n",
              "      border: none;\n",
              "      border-radius: 50%;\n",
              "      cursor: pointer;\n",
              "      display: none;\n",
              "      fill: #1967D2;\n",
              "      height: 32px;\n",
              "      padding: 0 0 0 0;\n",
              "      width: 32px;\n",
              "    }\n",
              "\n",
              "    .colab-df-convert:hover {\n",
              "      background-color: #E2EBFA;\n",
              "      box-shadow: 0px 1px 2px rgba(60, 64, 67, 0.3), 0px 1px 3px 1px rgba(60, 64, 67, 0.15);\n",
              "      fill: #174EA6;\n",
              "    }\n",
              "\n",
              "    [theme=dark] .colab-df-convert {\n",
              "      background-color: #3B4455;\n",
              "      fill: #D2E3FC;\n",
              "    }\n",
              "\n",
              "    [theme=dark] .colab-df-convert:hover {\n",
              "      background-color: #434B5C;\n",
              "      box-shadow: 0px 1px 3px 1px rgba(0, 0, 0, 0.15);\n",
              "      filter: drop-shadow(0px 1px 2px rgba(0, 0, 0, 0.3));\n",
              "      fill: #FFFFFF;\n",
              "    }\n",
              "  </style>\n",
              "\n",
              "      <script>\n",
              "        const buttonEl =\n",
              "          document.querySelector('#df-833694c6-badc-4391-b6b0-ae54cdc7b882 button.colab-df-convert');\n",
              "        buttonEl.style.display =\n",
              "          google.colab.kernel.accessAllowed ? 'block' : 'none';\n",
              "\n",
              "        async function convertToInteractive(key) {\n",
              "          const element = document.querySelector('#df-833694c6-badc-4391-b6b0-ae54cdc7b882');\n",
              "          const dataTable =\n",
              "            await google.colab.kernel.invokeFunction('convertToInteractive',\n",
              "                                                     [key], {});\n",
              "          if (!dataTable) return;\n",
              "\n",
              "          const docLinkHtml = 'Like what you see? Visit the ' +\n",
              "            '<a target=\"_blank\" href=https://colab.research.google.com/notebooks/data_table.ipynb>data table notebook</a>'\n",
              "            + ' to learn more about interactive tables.';\n",
              "          element.innerHTML = '';\n",
              "          dataTable['output_type'] = 'display_data';\n",
              "          await google.colab.output.renderOutput(dataTable, element);\n",
              "          const docLink = document.createElement('div');\n",
              "          docLink.innerHTML = docLinkHtml;\n",
              "          element.appendChild(docLink);\n",
              "        }\n",
              "      </script>\n",
              "    </div>\n",
              "  </div>\n",
              "  "
            ]
          },
          "metadata": {},
          "execution_count": 164
        }
      ]
    },
    {
      "cell_type": "code",
      "source": [
        "calls_per_day.snwd[\"snwd\"] = list(calls_per_day.snwd.fillna(calls_per_day.snwd.mean()))"
      ],
      "metadata": {
        "id": "-SiVnjSNoD5W"
      },
      "execution_count": 173,
      "outputs": []
    },
    {
      "cell_type": "code",
      "source": [
        "calls_per_day.to_csv(\"calls_per_day.csv\", index=False)"
      ],
      "metadata": {
        "id": "NIKLEYJnqANF"
      },
      "execution_count": 174,
      "outputs": []
    },
    {
      "cell_type": "markdown",
      "source": [
        "# prophet.streamlit.app\n",
        "\n",
        "https://bsenst.github.io/UWWi_DataDive_Dec22/"
      ],
      "metadata": {
        "id": "HSIRYeGbtniE"
      }
    }
  ]
}