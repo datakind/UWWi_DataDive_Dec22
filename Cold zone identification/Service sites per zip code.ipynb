{
 "cells": [
  {
   "cell_type": "markdown",
   "metadata": {},
   "source": [
    "# Socioeconomic scores : Area deprivation index (ADI)"
   ]
  },
  {
   "cell_type": "markdown",
   "metadata": {},
   "source": [
    "Area deprivation index (ADI): Is a composite index that ranks neighborhoods by socioeconomic disadvantage in a specific region of interest (state or national level). It was developed by the University of Wisconsin-Madison.\n",
    "\n",
    "    - The composite index is calculated with different inputs such as income, education, employment, and housing quality.\n",
    "    - It is originally aggregated at the Census block group level (neighborhood unit), but has a mapping file for zip codes.\n",
    "    - At the national level, the ADI scores are expressed as percentiles (1-100).\n",
    "    - At the state level, the ADI scores are expressed as deciles (1-10), where 1 represents the least disadvantaged neighborhoods, while 10 are the most disadvantaged neighborhood. \n",
    " \n",
    " \n",
    "You can find more information about the ADI here: https://www.neighborhoodatlas.medicine.wisc.edu/"
   ]
  },
  {
   "cell_type": "markdown",
   "metadata": {},
   "source": [
    "### 1. Loading ADI dataset"
   ]
  },
  {
   "cell_type": "markdown",
   "metadata": {},
   "source": [
    "We downloaded previously the ADI dataset for Wisconsin state only from https://www.neighborhoodatlas.medicine.wisc.edu/ and exported to a csv file. Each column represents:\n",
    "- ZIP_4: The 9 digit zip code ID \n",
    "- FIPS: The block group Census ID\n",
    "- GISJOIN: Key linkage field to the block group shapefile served by NHGIS\n",
    "- ADI_NATRANK: National percentile of block group ADI score\n",
    "- ADI_STATERNK: State-specific decile of block group ADI score"
   ]
  },
  {
   "cell_type": "code",
   "execution_count": null,
   "metadata": {},
   "outputs": [],
   "source": [
    "import pandas as pd\n",
    "\n",
    "SOCIOECONOMIC_FILE = './socioeconomic_scores_zipcode.csv'\n",
    "\n",
    "df_socioec_scores = pd.read_csv(SOCIOECONOMIC_FILE)\n",
    "df_socioec_scores.head(5)"
   ]
  },
  {
   "cell_type": "markdown",
   "metadata": {},
   "source": [
    "### 2. Cleaning the dataset"
   ]
  },
  {
   "cell_type": "markdown",
   "metadata": {},
   "source": [
    "We have some interesting challenges with this dataset and we'd only need 2 columns:\n",
    "    - ZIP_4: We would need to transform to 5 digit zip code only to align it with UWWisconsin dataset.\n",
    "    - ADI_STATERANK: It has more than 10 values, such as GQ,PH, GQ-PH. We'd need to clean it. More here: https://www.neighborhoodatlas.medicine.wisc.edu/\n",
    "\n",
    "An initial solution to clean this dataset: (up to discussion)\n",
    "    - Group the dataset by 5-digit zip code and assign the average rank within each group."
   ]
  },
  {
   "cell_type": "code",
   "execution_count": null,
   "metadata": {},
   "outputs": [],
   "source": [
    "def clean_adi(df_original):\n",
    "    \n",
    "    # Let's create the cleaned dataset\n",
    "    df_clean = df_original.copy()\n",
    "    \n",
    "    # Extract only 5 digits from zipcode\n",
    "    df_clean['ZIP'] = df_clean['ZIP_4'].astype(str).str[:5]\n",
    "    \n",
    "    # Remove zipcodes that don't have a valid decile\n",
    "    df_clean = df_clean.loc[(df_clean.ADI_STATERANK!='GQ') &\n",
    "                                         (df_clean.ADI_STATERANK!='PH') &\n",
    "                                          (df_clean.ADI_STATERANK!='GQ-PH') &\n",
    "                                        (~df_clean.ADI_STATERANK.isna())\n",
    "                                         ]\n",
    "    # Transform state rank to integer\n",
    "    df_clean['ADI_STATERANK'] = df_clean['ADI_STATERANK'].astype(int)\n",
    "    \n",
    "    # IMPORTANT: Assign each zipcode the average rank from their block neighborhoods \n",
    "    df_clean = df_clean[['ZIP','ADI_STATERANK']].groupby(['ZIP']).\\\n",
    "                                                                agg({'ADI_STATERANK':'mean'}).reset_index()\n",
    "    \n",
    "    \n",
    "    return df_clean[['ZIP','ADI_STATERANK']]"
   ]
  },
  {
   "cell_type": "code",
   "execution_count": null,
   "metadata": {},
   "outputs": [],
   "source": [
    "df_clean = clean_adi(df_socioec_scores)\n",
    "df_clean.head(5)"
   ]
  },
  {
   "cell_type": "markdown",
   "metadata": {},
   "source": [
    "### 3. Creating a Choropleth to show ADI by zip codes"
   ]
  },
  {
   "cell_type": "markdown",
   "metadata": {},
   "source": [
    "We will use the Folium library to plot the zipcodes and their corresponding ADI value. For this task we will need a ZIPCODE GeoJSON file for Wisconsin.\n"
   ]
  },
  {
   "cell_type": "code",
   "execution_count": null,
   "metadata": {},
   "outputs": [],
   "source": [
    "# Install folium library\n",
    "!pip install folium"
   ]
  },
  {
   "cell_type": "code",
   "execution_count": null,
   "metadata": {},
   "outputs": [],
   "source": [
    "import folium\n",
    "import pandas as pd\n",
    "import json\n",
    "import requests\n",
    "\n",
    "# GeoJSON file definition\n",
    "wisconsin_geojson = \"https://raw.githubusercontent.com/OpenDataDE/State-zip-code-GeoJSON/master/wi_wisconsin_zip_codes_geo.min.json\"\n",
    "\n",
    "\n",
    "# Creating the map centered at Wisconsin state\n",
    "m = folium.Map(location=[44.808444, -89.673194], \n",
    "               tiles=\"cartodbpositron\", \n",
    "               zoom_start=6.8)\n",
    "\n",
    "# Creating the Choropleth\n",
    "m.choropleth(geo_data=json.loads(requests.get(wisconsin_geojson).text),\n",
    "             data=df_clean,\n",
    "             columns=['ZIP', 'ADI_STATERANK'],\n",
    "             key_on='feature.properties.ZCTA5CE10', \n",
    "             fill_color='YlOrRd', fill_opacity=1, line_opacity=0.2,\n",
    "             legend_name='Area Deprivation Index : 1(Least disadvantaged)-10(Most disadvantaged))')\n",
    "\n",
    "m\n"
   ]
  },
  {
   "cell_type": "code",
   "execution_count": null,
   "metadata": {},
   "outputs": [],
   "source": [
    "m.save(outfile = './choropleth_wisconsin.html' )"
   ]
  },
  {
   "cell_type": "markdown",
   "metadata": {},
   "source": [
    "### 4. Final thoughts of this dataset"
   ]
  },
  {
   "cell_type": "markdown",
   "metadata": {},
   "source": [
    "Finally, let's reflect into the next questions before using this dataset for our Datadive event!\n",
    "    - Is the zipcode the best neighborhood unit to match information from UWWisconsin calls?\n",
    "    - Can we find another way to aggregate the scores (currently: average)?\n",
    "    - Is this information enough to draw conclusions for our analysis? Do we need an additional socioeconomic dataset?\n"
   ]
  },
  {
   "cell_type": "markdown",
   "metadata": {},
   "source": [
    "## Service Sites per Zip Code ##"
   ]
  },
  {
   "cell_type": "code",
   "execution_count": null,
   "metadata": {},
   "outputs": [],
   "source": [
    "sites = pd.read_csv('uwwi_dataset_sites.csv')\n",
    "sites.head()"
   ]
  },
  {
   "cell_type": "code",
   "execution_count": null,
   "metadata": {},
   "outputs": [],
   "source": [
    "sites_zip = sites[['Agency_Id', 'SiteAddressus_SiteAddressus_zip']]"
   ]
  },
  {
   "cell_type": "code",
   "execution_count": null,
   "metadata": {},
   "outputs": [],
   "source": [
    "sites_zip.isna().sum()"
   ]
  },
  {
   "cell_type": "markdown",
   "metadata": {},
   "source": [
    "## 4.7% of sites list no zip code. Removing these sites for now. ##"
   ]
  },
  {
   "cell_type": "code",
   "execution_count": null,
   "metadata": {},
   "outputs": [],
   "source": [
    "sites_zip = sites_zip.dropna()"
   ]
  },
  {
   "cell_type": "code",
   "execution_count": null,
   "metadata": {},
   "outputs": [],
   "source": [
    "sites_zip.columns = ['Agency_Id', 'Zip']\n",
    "sites_zip.head()"
   ]
  },
  {
   "cell_type": "code",
   "execution_count": null,
   "metadata": {},
   "outputs": [],
   "source": [
    "%%capture --no-display\n",
    "sites_zip['Zip-5'] = sites_zip['Zip'].astype(str).str[:5]"
   ]
  },
  {
   "cell_type": "code",
   "execution_count": null,
   "metadata": {},
   "outputs": [],
   "source": [
    "sites_zip "
   ]
  },
  {
   "cell_type": "code",
   "execution_count": null,
   "metadata": {},
   "outputs": [],
   "source": [
    "site_count = sites_zip[['Agency_Id', 'Zip-5']].groupby('Zip-5').agg('count').reset_index()\n",
    "site_count"
   ]
  },
  {
   "cell_type": "code",
   "execution_count": null,
   "metadata": {},
   "outputs": [],
   "source": [
    "site_count.columns = ['Zip','Number of Sites']"
   ]
  },
  {
   "cell_type": "code",
   "execution_count": null,
   "metadata": {},
   "outputs": [],
   "source": [
    "site_count[site_count['Number of Sites'] >300]"
   ]
  },
  {
   "cell_type": "code",
   "execution_count": null,
   "metadata": {},
   "outputs": [],
   "source": [
    "site_count.describe()"
   ]
  },
  {
   "cell_type": "code",
   "execution_count": null,
   "metadata": {},
   "outputs": [],
   "source": [
    "import matplotlib.pyplot as plt"
   ]
  },
  {
   "cell_type": "code",
   "execution_count": null,
   "metadata": {},
   "outputs": [],
   "source": [
    "plt.hist(site_count['Number of Sites'])\n",
    "plt.show()"
   ]
  },
  {
   "cell_type": "markdown",
   "metadata": {},
   "source": [
    "Zipcode quartiles:\n",
    "- First quartile have 1 site\n",
    "- Second quartile have 1-3 sites\n",
    "- Third quartile have 3-12 sites\n",
    "- Fourth quartile have 12-347 sites"
   ]
  },
  {
   "cell_type": "markdown",
   "metadata": {},
   "source": [
    "Creating Site Density Categories 1-4 using fairly arbitrary bins:"
   ]
  },
  {
   "cell_type": "code",
   "execution_count": null,
   "metadata": {},
   "outputs": [],
   "source": [
    "site_count['Category'] = pd.cut(site_count['Number of Sites'], bins=[0, 50, 100, 200, 350], labels = [1, 2, 3, 4])"
   ]
  },
  {
   "cell_type": "code",
   "execution_count": null,
   "metadata": {},
   "outputs": [],
   "source": [
    "site_count['Category'].value_counts()"
   ]
  },
  {
   "cell_type": "code",
   "execution_count": null,
   "metadata": {},
   "outputs": [],
   "source": [
    "# Creating the map centered at Wisconsin state\n",
    "m = folium.Map(location=[44.808444, -89.673194], \n",
    "               tiles=\"cartodbpositron\", \n",
    "               zoom_start=6.8)\n",
    "\n",
    "# Creating the Choropleth\n",
    "folium.Choropleth(geo_data=json.loads(requests.get(wisconsin_geojson).text),\n",
    "             data=site_count,\n",
    "             columns=['Zip', 'Number of Sites'],\n",
    "             key_on='feature.properties.ZCTA5CE10', \n",
    "             fill_color='YlOrRd', fill_opacity=1, line_opacity=0.2, nan_fill_color=\"White\",\n",
    "             legend_name='Number of Sites').add_to(m)\n",
    "\n",
    "m"
   ]
  },
  {
   "cell_type": "code",
   "execution_count": null,
   "metadata": {},
   "outputs": [],
   "source": [
    "# Creating the map centered at Wisconsin state\n",
    "cat_map = folium.Map(location=[44.808444, -89.673194], \n",
    "               tiles=\"cartodbpositron\", \n",
    "               zoom_start=6.8)\n",
    "\n",
    "# Creating the Choropleth\n",
    "folium.Choropleth(geo_data=json.loads(requests.get(wisconsin_geojson).text),\n",
    "             data=site_count,\n",
    "             columns=['Zip', 'Category'],\n",
    "             key_on='feature.properties.ZCTA5CE10', \n",
    "             fill_color='YlOrRd', fill_opacity=1, line_opacity=0.2, nan_fill_color=\"White\",\n",
    "             legend_name='Site Density Category: 1(Low)-4(High)').add_to(cat_map)\n",
    "\n",
    "cat_map"
   ]
  },
  {
   "cell_type": "code",
   "execution_count": null,
   "metadata": {},
   "outputs": [],
   "source": [
    "m.save(outfile = './sites_per_zip.html' )"
   ]
  },
  {
   "cell_type": "code",
   "execution_count": null,
   "metadata": {},
   "outputs": [],
   "source": [
    "site_count.columns=['ZIP', 'Number of Sites', 'Site Density Category']\n",
    "site_count"
   ]
  },
  {
   "cell_type": "code",
   "execution_count": null,
   "metadata": {},
   "outputs": [],
   "source": [
    "site_count.info()"
   ]
  },
  {
   "cell_type": "code",
   "execution_count": null,
   "metadata": {},
   "outputs": [],
   "source": [
    "zip_pop = pd.read_csv('./population_zip.csv')"
   ]
  },
  {
   "cell_type": "code",
   "execution_count": null,
   "metadata": {},
   "outputs": [],
   "source": [
    "zip_pop.head()"
   ]
  },
  {
   "cell_type": "code",
   "execution_count": null,
   "metadata": {},
   "outputs": [],
   "source": [
    "zip_pop['ZIP'] = zip_pop['ZIP'].astype(str)"
   ]
  },
  {
   "cell_type": "code",
   "execution_count": null,
   "metadata": {},
   "outputs": [],
   "source": [
    "site_pop = site_count.merge(zip_pop, on='ZIP')"
   ]
  },
  {
   "cell_type": "code",
   "execution_count": null,
   "metadata": {},
   "outputs": [],
   "source": [
    "site_pop.info()"
   ]
  },
  {
   "cell_type": "code",
   "execution_count": null,
   "metadata": {},
   "outputs": [],
   "source": [
    "site_pop['Sites Per Capita'] = (site_pop['Number of Sites'] / site_pop['Population'])\n",
    "site_pop.head()"
   ]
  },
  {
   "cell_type": "code",
   "execution_count": null,
   "metadata": {},
   "outputs": [],
   "source": [
    "site_pop.describe()"
   ]
  },
  {
   "cell_type": "code",
   "execution_count": null,
   "metadata": {},
   "outputs": [],
   "source": [
    "site_pop.to_csv('./site_pop.csv', index=False)"
   ]
  },
  {
   "cell_type": "code",
   "execution_count": null,
   "metadata": {},
   "outputs": [],
   "source": [
    "site_pop.info()"
   ]
  },
  {
   "cell_type": "code",
   "execution_count": null,
   "metadata": {},
   "outputs": [],
   "source": [
    "import numpy as np\n",
    "\n",
    "site_pop['Log Sites Per Capita'] = np.log10(site_pop['Sites Per Capita'])\n",
    "site_pop.describe()"
   ]
  },
  {
   "cell_type": "code",
   "execution_count": null,
   "metadata": {},
   "outputs": [],
   "source": [
    "# Creating the map centered at Wisconsin state\n",
    "percapita_map = folium.Map(location=[44.808444, -89.673194], \n",
    "               tiles=\"cartodbpositron\", \n",
    "               zoom_start=6.8)\n",
    "\n",
    "# Creating the Choropleth\n",
    "folium.Choropleth(geo_data=json.loads(requests.get(wisconsin_geojson).text),\n",
    "             data=site_pop,\n",
    "             columns=['ZIP', 'Log Sites Per Capita'],\n",
    "             key_on='feature.properties.ZCTA5CE10', \n",
    "             fill_color='YlOrRd', fill_opacity=1, line_opacity=0.2, nan_fill_color=\"White\",\n",
    "             legend_name='Sites Per Capita (log scale)').add_to(percapita_map)\n",
    "\n",
    "percapita_map"
   ]
  },
  {
   "cell_type": "code",
   "execution_count": null,
   "metadata": {},
   "outputs": [],
   "source": [
    "percapita_map.save(outfile = './per_capita_map.html' )"
   ]
  },
  {
   "cell_type": "markdown",
   "metadata": {},
   "source": [
    "## Identifying cold zones ##"
   ]
  },
  {
   "cell_type": "code",
   "execution_count": null,
   "metadata": {},
   "outputs": [],
   "source": [
    "sites_with_adi = site_count.merge(df_clean, on='ZIP', how='inner')\n",
    "sites_with_adi"
   ]
  },
  {
   "cell_type": "markdown",
   "metadata": {},
   "source": [
    "Creating a map and list of \"cold\" neighborhoods with low number of services and high Area Deprivation Index:"
   ]
  },
  {
   "cell_type": "code",
   "execution_count": null,
   "metadata": {},
   "outputs": [],
   "source": [
    "cold_zips = sites_with_adi[(sites_with_adi['Site Density Category'] == 1) & (sites_with_adi['ADI_STATERANK'] >= 8)]"
   ]
  },
  {
   "cell_type": "code",
   "execution_count": null,
   "metadata": {},
   "outputs": [],
   "source": [
    "cold_zips"
   ]
  },
  {
   "cell_type": "markdown",
   "metadata": {},
   "source": [
    "Map of Cold Zones"
   ]
  },
  {
   "cell_type": "code",
   "execution_count": null,
   "metadata": {},
   "outputs": [],
   "source": [
    "# Creating the map centered at Wisconsin state\n",
    "cold_map = folium.Map(location=[44.808444, -89.673194], \n",
    "               tiles=\"cartodbpositron\", \n",
    "               zoom_start=6.8)\n",
    "\n",
    "# Creating the Choropleth\n",
    "folium.Choropleth(geo_data=json.loads(requests.get(wisconsin_geojson).text),\n",
    "             data=cold_zips,\n",
    "             columns=['ZIP', 'ADI_STATERANK'],\n",
    "             key_on='feature.properties.ZCTA5CE10', \n",
    "             fill_color='OrRd', fill_opacity=1, line_opacity=0.2, nan_fill_color=\"White\",\n",
    "             legend_name='Area Deprivation Index : 1(Least disadvantaged)-10(Most disadvantaged)').add_to(cold_map)\n",
    "\n",
    "cold_map"
   ]
  },
  {
   "cell_type": "markdown",
   "metadata": {},
   "source": [
    "Merging with city list to get a list of \"cold\" cities:"
   ]
  },
  {
   "cell_type": "code",
   "execution_count": null,
   "metadata": {},
   "outputs": [],
   "source": [
    "sites_cities = sites[['SiteAddressus_SiteAddressus_zip', 'SiteAddressus_SiteAddressus_city']]"
   ]
  },
  {
   "cell_type": "code",
   "execution_count": null,
   "metadata": {},
   "outputs": [],
   "source": [
    "sites_cities.columns = ['ZIP', 'City']\n",
    "sites_cities = sites_cities.drop_duplicates(subset='ZIP')\n",
    "sites_cities['City'] = sites_cities['City'].str.title()\n",
    "sites_cities"
   ]
  },
  {
   "cell_type": "code",
   "execution_count": null,
   "metadata": {},
   "outputs": [],
   "source": [
    "cold_cities = cold_zips.merge(sites_cities, on='ZIP')\n",
    "cold_cities"
   ]
  },
  {
   "cell_type": "code",
   "execution_count": null,
   "metadata": {},
   "outputs": [],
   "source": [
    "cold_cities['City'].unique()"
   ]
  },
  {
   "cell_type": "code",
   "execution_count": null,
   "metadata": {},
   "outputs": [],
   "source": [
    "cold_map.save(outfile = './cold_zones.html' )"
   ]
  },
  {
   "cell_type": "code",
   "execution_count": null,
   "metadata": {},
   "outputs": [],
   "source": [
    "cold_cities = cold_cities.drop(columns = ['Site Density Category'])\n",
    "cold_cities"
   ]
  },
  {
   "cell_type": "code",
   "execution_count": null,
   "metadata": {},
   "outputs": [],
   "source": [
    "cold_cities.to_csv('./cold_cities.csv', index=False)"
   ]
  },
  {
   "cell_type": "code",
   "execution_count": null,
   "metadata": {},
   "outputs": [],
   "source": []
  }
 ],
 "metadata": {
  "kernelspec": {
   "display_name": "Python 3 (ipykernel)",
   "language": "python",
   "name": "python3"
  },
  "language_info": {
   "codemirror_mode": {
    "name": "ipython",
    "version": 3
   },
   "file_extension": ".py",
   "mimetype": "text/x-python",
   "name": "python",
   "nbconvert_exporter": "python",
   "pygments_lexer": "ipython3",
   "version": "3.9.7"
  }
 },
 "nbformat": 4,
 "nbformat_minor": 4
}
