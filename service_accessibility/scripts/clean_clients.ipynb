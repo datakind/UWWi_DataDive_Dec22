{
 "cells": [
  {
   "cell_type": "code",
   "execution_count": 1,
   "metadata": {},
   "outputs": [],
   "source": [
    "# Date: Dec 2, 2022\n",
    "# Author: Sashka Warner\n",
    "# Desc: Clean UWWI client dataset for use in calculating distances to services\n",
    "\n",
    "# Import libraries\n",
    "import pandas as pd"
   ]
  },
  {
   "cell_type": "code",
   "execution_count": 2,
   "metadata": {},
   "outputs": [
    {
     "name": "stderr",
     "output_type": "stream",
     "text": [
      "/var/folders/bx/8_p36bpd14nckr66rq2kk6kc0000gn/T/ipykernel_18142/24448644.py:2: DtypeWarning: Columns (8) have mixed types. Specify dtype option on import or set low_memory=False.\n",
      "  clients_raw = pd.read_csv(\"../../uwwi_datasets/uwwi_dataset_clients_v2.csv\")\n"
     ]
    }
   ],
   "source": [
    "# Load client data from csv\n",
    "clients_raw = pd.read_csv(\"../../uwwi_datasets/uwwi_dataset_clients_v2.csv\")"
   ]
  },
  {
   "cell_type": "code",
   "execution_count": 3,
   "metadata": {},
   "outputs": [
    {
     "data": {
      "text/html": [
       "<div>\n",
       "<style scoped>\n",
       "    .dataframe tbody tr th:only-of-type {\n",
       "        vertical-align: middle;\n",
       "    }\n",
       "\n",
       "    .dataframe tbody tr th {\n",
       "        vertical-align: top;\n",
       "    }\n",
       "\n",
       "    .dataframe thead th {\n",
       "        text-align: right;\n",
       "    }\n",
       "</style>\n",
       "<table border=\"1\" class=\"dataframe\">\n",
       "  <thead>\n",
       "    <tr style=\"text-align: right;\">\n",
       "      <th></th>\n",
       "      <th>Client_Id</th>\n",
       "      <th>Client_CreateStamp</th>\n",
       "      <th>Client_EditStamp</th>\n",
       "      <th>ClientOption_PreferredLanguageOfCaller</th>\n",
       "      <th>ClientSystem_PreferredLanguageOther</th>\n",
       "      <th>ClientAddressus_ClientAddressus_city</th>\n",
       "      <th>ClientAddressus_ClientAddressus_county</th>\n",
       "      <th>ClientAddressus_ClientAddressus_state</th>\n",
       "      <th>ClientAddressus_ClientAddressus_zip</th>\n",
       "      <th>ClientCustom_AgeOfPersonNeedingAssistance</th>\n",
       "      <th>ClientCustom_EthnicityOther</th>\n",
       "      <th>ClientOption_GenderOptionId</th>\n",
       "      <th>ClientOption_VeteranStatusOptionlist</th>\n",
       "    </tr>\n",
       "  </thead>\n",
       "  <tbody>\n",
       "    <tr>\n",
       "      <th>0</th>\n",
       "      <td>1</td>\n",
       "      <td>2017-04-07T15:34:04.872169-05:00</td>\n",
       "      <td>2022-04-23T00:53:31.812322-05:00</td>\n",
       "      <td>[]</td>\n",
       "      <td>NaN</td>\n",
       "      <td>FOND DU LAC</td>\n",
       "      <td>FOND DU LAC</td>\n",
       "      <td>WI</td>\n",
       "      <td>54935.0</td>\n",
       "      <td>NaN</td>\n",
       "      <td>NaN</td>\n",
       "      <td>[]</td>\n",
       "      <td>[]</td>\n",
       "    </tr>\n",
       "    <tr>\n",
       "      <th>1</th>\n",
       "      <td>2</td>\n",
       "      <td>2017-04-10T08:08:10.404723-05:00</td>\n",
       "      <td>2022-04-23T00:53:33.172375-05:00</td>\n",
       "      <td>[]</td>\n",
       "      <td>NaN</td>\n",
       "      <td>MADISON</td>\n",
       "      <td>DANE</td>\n",
       "      <td>WI</td>\n",
       "      <td>53705.0</td>\n",
       "      <td>NaN</td>\n",
       "      <td>NaN</td>\n",
       "      <td>[]</td>\n",
       "      <td>[]</td>\n",
       "    </tr>\n",
       "    <tr>\n",
       "      <th>2</th>\n",
       "      <td>3</td>\n",
       "      <td>2017-04-10T08:21:14.98351-05:00</td>\n",
       "      <td>2022-02-28T19:01:21.95251-06:00</td>\n",
       "      <td>[]</td>\n",
       "      <td>NaN</td>\n",
       "      <td>NaN</td>\n",
       "      <td>NaN</td>\n",
       "      <td>NaN</td>\n",
       "      <td>54115.0</td>\n",
       "      <td>NaN</td>\n",
       "      <td>NaN</td>\n",
       "      <td>[]</td>\n",
       "      <td>[]</td>\n",
       "    </tr>\n",
       "    <tr>\n",
       "      <th>3</th>\n",
       "      <td>4</td>\n",
       "      <td>2017-04-10T08:25:16.115921-05:00</td>\n",
       "      <td>2022-04-23T00:53:33.445243-05:00</td>\n",
       "      <td>[]</td>\n",
       "      <td>NaN</td>\n",
       "      <td>MENASHA</td>\n",
       "      <td>WINNEBAGO</td>\n",
       "      <td>WI</td>\n",
       "      <td>54952.0</td>\n",
       "      <td>NaN</td>\n",
       "      <td>NaN</td>\n",
       "      <td>[]</td>\n",
       "      <td>[]</td>\n",
       "    </tr>\n",
       "    <tr>\n",
       "      <th>4</th>\n",
       "      <td>5</td>\n",
       "      <td>2017-04-10T08:42:59.367602-05:00</td>\n",
       "      <td>2022-04-23T00:53:33.678873-05:00</td>\n",
       "      <td>[]</td>\n",
       "      <td>NaN</td>\n",
       "      <td>NEENAH</td>\n",
       "      <td>WINNEBAGO</td>\n",
       "      <td>WI</td>\n",
       "      <td>54956.0</td>\n",
       "      <td>NaN</td>\n",
       "      <td>NaN</td>\n",
       "      <td>[]</td>\n",
       "      <td>[]</td>\n",
       "    </tr>\n",
       "  </tbody>\n",
       "</table>\n",
       "</div>"
      ],
      "text/plain": [
       "   Client_Id                Client_CreateStamp  \\\n",
       "0          1  2017-04-07T15:34:04.872169-05:00   \n",
       "1          2  2017-04-10T08:08:10.404723-05:00   \n",
       "2          3   2017-04-10T08:21:14.98351-05:00   \n",
       "3          4  2017-04-10T08:25:16.115921-05:00   \n",
       "4          5  2017-04-10T08:42:59.367602-05:00   \n",
       "\n",
       "                   Client_EditStamp ClientOption_PreferredLanguageOfCaller  \\\n",
       "0  2022-04-23T00:53:31.812322-05:00                                     []   \n",
       "1  2022-04-23T00:53:33.172375-05:00                                     []   \n",
       "2   2022-02-28T19:01:21.95251-06:00                                     []   \n",
       "3  2022-04-23T00:53:33.445243-05:00                                     []   \n",
       "4  2022-04-23T00:53:33.678873-05:00                                     []   \n",
       "\n",
       "  ClientSystem_PreferredLanguageOther ClientAddressus_ClientAddressus_city  \\\n",
       "0                                 NaN                          FOND DU LAC   \n",
       "1                                 NaN                              MADISON   \n",
       "2                                 NaN                                  NaN   \n",
       "3                                 NaN                              MENASHA   \n",
       "4                                 NaN                               NEENAH   \n",
       "\n",
       "  ClientAddressus_ClientAddressus_county  \\\n",
       "0                            FOND DU LAC   \n",
       "1                                   DANE   \n",
       "2                                    NaN   \n",
       "3                              WINNEBAGO   \n",
       "4                              WINNEBAGO   \n",
       "\n",
       "  ClientAddressus_ClientAddressus_state ClientAddressus_ClientAddressus_zip  \\\n",
       "0                                    WI                             54935.0   \n",
       "1                                    WI                             53705.0   \n",
       "2                                   NaN                             54115.0   \n",
       "3                                    WI                             54952.0   \n",
       "4                                    WI                             54956.0   \n",
       "\n",
       "   ClientCustom_AgeOfPersonNeedingAssistance ClientCustom_EthnicityOther  \\\n",
       "0                                        NaN                         NaN   \n",
       "1                                        NaN                         NaN   \n",
       "2                                        NaN                         NaN   \n",
       "3                                        NaN                         NaN   \n",
       "4                                        NaN                         NaN   \n",
       "\n",
       "  ClientOption_GenderOptionId ClientOption_VeteranStatusOptionlist  \n",
       "0                          []                                   []  \n",
       "1                          []                                   []  \n",
       "2                          []                                   []  \n",
       "3                          []                                   []  \n",
       "4                          []                                   []  "
      ]
     },
     "execution_count": 3,
     "metadata": {},
     "output_type": "execute_result"
    }
   ],
   "source": [
    "# Inspect the data\n",
    "clients_raw.head()"
   ]
  },
  {
   "cell_type": "code",
   "execution_count": 4,
   "metadata": {},
   "outputs": [
    {
     "data": {
      "text/plain": [
       "str"
      ]
     },
     "execution_count": 4,
     "metadata": {},
     "output_type": "execute_result"
    }
   ],
   "source": [
    "# Inspect type of time stamp fields\n",
    "type(clients_raw[\"Client_CreateStamp\"][0])\n",
    "type(clients_raw[\"Client_EditStamp\"][0])"
   ]
  },
  {
   "cell_type": "code",
   "execution_count": 5,
   "metadata": {},
   "outputs": [],
   "source": [
    "# Make a copy of the data\n",
    "clients = clients_raw.copy()"
   ]
  },
  {
   "cell_type": "code",
   "execution_count": 6,
   "metadata": {},
   "outputs": [],
   "source": [
    "# Convert time stamps to date time format (takes a long time, which is why there are separate scripts for each dataset)\n",
    "clients[\"Client_CreateStamp\"] = pd.to_datetime(clients[\"Client_CreateStamp\"])"
   ]
  },
  {
   "cell_type": "code",
   "execution_count": 7,
   "metadata": {},
   "outputs": [],
   "source": [
    "# Continue converting time stamps to date time format\n",
    "clients[\"Client_EditStamp\"] = pd.to_datetime(clients[\"Client_EditStamp\"])"
   ]
  },
  {
   "cell_type": "code",
   "execution_count": 8,
   "metadata": {},
   "outputs": [],
   "source": [
    "# Some zip codes are not floats\n",
    "#not_floats = clients_clean[\"CLIENT_ZIPCODE\"].apply(lambda x: not isinstance(x, float))\n",
    "#clients_clean.shape # (830450, 4)\n",
    "#not_floats[not_floats].shape #(482703,)\n",
    "#clients_not_floats = clients_clean[not_floats]\n",
    "\n",
    "# Some zip codes have dashes in the middle for full zipcode\n",
    "#long_zipcode = clients_clean[\"CLIENT_ZIPCODE\"].apply(lambda x: len(str(x)) > 7)\n",
    "\n",
    "# Truncate the zipcode data to 5 chars so that we can better use it for geocoding (some geocoding libraries do not seem to support full zipcodes)\n",
    "clients[\"CLIENT_ZIPCODE_TRUNC\"] = clients[\"ClientAddressus_ClientAddressus_zip\"].apply(lambda x: str(x)[0:5])"
   ]
  },
  {
   "cell_type": "code",
   "execution_count": 9,
   "metadata": {},
   "outputs": [
    {
     "name": "stderr",
     "output_type": "stream",
     "text": [
      "/var/folders/bx/8_p36bpd14nckr66rq2kk6kc0000gn/T/ipykernel_18142/1197042023.py:5: SettingWithCopyWarning: \n",
      "A value is trying to be set on a copy of a slice from a DataFrame\n",
      "\n",
      "See the caveats in the documentation: https://pandas.pydata.org/pandas-docs/stable/user_guide/indexing.html#returning-a-view-versus-a-copy\n",
      "  clients_clean.rename(\n"
     ]
    },
    {
     "data": {
      "text/html": [
       "<div>\n",
       "<style scoped>\n",
       "    .dataframe tbody tr th:only-of-type {\n",
       "        vertical-align: middle;\n",
       "    }\n",
       "\n",
       "    .dataframe tbody tr th {\n",
       "        vertical-align: top;\n",
       "    }\n",
       "\n",
       "    .dataframe thead th {\n",
       "        text-align: right;\n",
       "    }\n",
       "</style>\n",
       "<table border=\"1\" class=\"dataframe\">\n",
       "  <thead>\n",
       "    <tr style=\"text-align: right;\">\n",
       "      <th></th>\n",
       "      <th>CLIENT_ID</th>\n",
       "      <th>CLIENT_CREATESTAMP</th>\n",
       "      <th>CLIENT_EDITSTAMP</th>\n",
       "      <th>CLIENT_ZIPCODE_TRUNC</th>\n",
       "    </tr>\n",
       "  </thead>\n",
       "  <tbody>\n",
       "    <tr>\n",
       "      <th>0</th>\n",
       "      <td>1</td>\n",
       "      <td>2017-04-07 15:34:04.872169-05:00</td>\n",
       "      <td>2022-04-23 00:53:31.812322-05:00</td>\n",
       "      <td>54935</td>\n",
       "    </tr>\n",
       "    <tr>\n",
       "      <th>1</th>\n",
       "      <td>2</td>\n",
       "      <td>2017-04-10 08:08:10.404723-05:00</td>\n",
       "      <td>2022-04-23 00:53:33.172375-05:00</td>\n",
       "      <td>53705</td>\n",
       "    </tr>\n",
       "    <tr>\n",
       "      <th>2</th>\n",
       "      <td>3</td>\n",
       "      <td>2017-04-10 08:21:14.983510-05:00</td>\n",
       "      <td>2022-02-28 19:01:21.952510-06:00</td>\n",
       "      <td>54115</td>\n",
       "    </tr>\n",
       "    <tr>\n",
       "      <th>3</th>\n",
       "      <td>4</td>\n",
       "      <td>2017-04-10 08:25:16.115921-05:00</td>\n",
       "      <td>2022-04-23 00:53:33.445243-05:00</td>\n",
       "      <td>54952</td>\n",
       "    </tr>\n",
       "    <tr>\n",
       "      <th>4</th>\n",
       "      <td>5</td>\n",
       "      <td>2017-04-10 08:42:59.367602-05:00</td>\n",
       "      <td>2022-04-23 00:53:33.678873-05:00</td>\n",
       "      <td>54956</td>\n",
       "    </tr>\n",
       "  </tbody>\n",
       "</table>\n",
       "</div>"
      ],
      "text/plain": [
       "   CLIENT_ID                CLIENT_CREATESTAMP  \\\n",
       "0          1  2017-04-07 15:34:04.872169-05:00   \n",
       "1          2  2017-04-10 08:08:10.404723-05:00   \n",
       "2          3  2017-04-10 08:21:14.983510-05:00   \n",
       "3          4  2017-04-10 08:25:16.115921-05:00   \n",
       "4          5  2017-04-10 08:42:59.367602-05:00   \n",
       "\n",
       "                   CLIENT_EDITSTAMP CLIENT_ZIPCODE_TRUNC  \n",
       "0  2022-04-23 00:53:31.812322-05:00                54935  \n",
       "1  2022-04-23 00:53:33.172375-05:00                53705  \n",
       "2  2022-02-28 19:01:21.952510-06:00                54115  \n",
       "3  2022-04-23 00:53:33.445243-05:00                54952  \n",
       "4  2022-04-23 00:53:33.678873-05:00                54956  "
      ]
     },
     "execution_count": 9,
     "metadata": {},
     "output_type": "execute_result"
    }
   ],
   "source": [
    "# Get subset of fields\n",
    "clients_clean = clients[[\"Client_Id\", \"Client_CreateStamp\", \"Client_EditStamp\", \"CLIENT_ZIPCODE_TRUNC\"]]\n",
    "\n",
    "# Rename columns\n",
    "clients_clean.rename(\n",
    "    columns= {\n",
    "    \"Client_Id\": \"CLIENT_ID\", \n",
    "    \"Client_CreateStamp\": \"CLIENT_CREATESTAMP\",\n",
    "    \"Client_EditStamp\": \"CLIENT_EDITSTAMP\"\n",
    "    },\n",
    "    inplace=True\n",
    "    )\n",
    "\n",
    "clients_clean.head()"
   ]
  },
  {
   "cell_type": "code",
   "execution_count": 12,
   "metadata": {},
   "outputs": [],
   "source": [
    "# Save output to csv in a `clean/` directory\n",
    "# Specify index=False so that columns match DB\n",
    "# Specify header=False to match snowflake input requirements\n",
    "clients_clean.to_csv(\"../data/uwwi_dataset_clients_cleaned.csv\", index=False, header=False)"
   ]
  },
  {
   "cell_type": "code",
   "execution_count": 108,
   "metadata": {},
   "outputs": [],
   "source": [
    "# For testing DB upload\n",
    "#clients_clean.head().to_csv(\"client_test.csv\", index=False, header=False)"
   ]
  }
 ],
 "metadata": {
  "kernelspec": {
   "display_name": "Python 3.9.7 ('venv': venv)",
   "language": "python",
   "name": "python3"
  },
  "language_info": {
   "codemirror_mode": {
    "name": "ipython",
    "version": 3
   },
   "file_extension": ".py",
   "mimetype": "text/x-python",
   "name": "python",
   "nbconvert_exporter": "python",
   "pygments_lexer": "ipython3",
   "version": "3.9.7"
  },
  "orig_nbformat": 4,
  "vscode": {
   "interpreter": {
    "hash": "872fb03961b1428d2c38eeb3808adf9144c89ba04a2f5e105a6d8f8fdc0609eb"
   }
  }
 },
 "nbformat": 4,
 "nbformat_minor": 2
}
