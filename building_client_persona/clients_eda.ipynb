{
  "nbformat": 4,
  "nbformat_minor": 0,
  "metadata": {
    "colab": {
      "provenance": [],
      "toc_visible": true,
      "authorship_tag": "ABX9TyO7tU+3wUJMYVhblPpJBLmM",
      "include_colab_link": true
    },
    "kernelspec": {
      "name": "python3",
      "display_name": "Python 3"
    },
    "language_info": {
      "name": "python"
    }
  },
  "cells": [
    {
      "cell_type": "markdown",
      "metadata": {
        "id": "view-in-github",
        "colab_type": "text"
      },
      "source": [
        "<a href=\"https://colab.research.google.com/github/bsenst/UWWi_DataDive_Dec22/blob/main/external_datasets/news/clients_eda.ipynb\" target=\"_parent\"><img src=\"https://colab.research.google.com/assets/colab-badge.svg\" alt=\"Open In Colab\"/></a>"
      ]
    },
    {
      "cell_type": "code",
      "execution_count": 3,
      "metadata": {
        "colab": {
          "base_uri": "https://localhost:8080/"
        },
        "id": "SJGijwUDEZOs",
        "outputId": "535ff118-ce75-4a82-93e1-fcb91eb4c5c2"
      },
      "outputs": [
        {
          "output_type": "stream",
          "name": "stdout",
          "text": [
            "--2022-12-04 09:51:16--  https://github.com/bsenst/UWWi_DataDive_Dec22/raw/main/building_client_persona/client_data_with_ADI_SVI_Indices.csv.zip\n",
            "Resolving github.com (github.com)... 140.82.113.4\n",
            "Connecting to github.com (github.com)|140.82.113.4|:443... connected.\n",
            "HTTP request sent, awaiting response... 302 Found\n",
            "Location: https://raw.githubusercontent.com/bsenst/UWWi_DataDive_Dec22/main/building_client_persona/client_data_with_ADI_SVI_Indices.csv.zip [following]\n",
            "--2022-12-04 09:51:16--  https://raw.githubusercontent.com/bsenst/UWWi_DataDive_Dec22/main/building_client_persona/client_data_with_ADI_SVI_Indices.csv.zip\n",
            "Resolving raw.githubusercontent.com (raw.githubusercontent.com)... 185.199.110.133, 185.199.111.133, 185.199.108.133, ...\n",
            "Connecting to raw.githubusercontent.com (raw.githubusercontent.com)|185.199.110.133|:443... connected.\n",
            "HTTP request sent, awaiting response... 200 OK\n",
            "Length: 23275537 (22M) [application/zip]\n",
            "Saving to: ‘client_data_with_ADI_SVI_Indices.csv.zip’\n",
            "\n",
            "client_data_with_AD 100%[===================>]  22.20M  --.-KB/s    in 0.1s    \n",
            "\n",
            "2022-12-04 09:51:17 (152 MB/s) - ‘client_data_with_ADI_SVI_Indices.csv.zip’ saved [23275537/23275537]\n",
            "\n"
          ]
        }
      ],
      "source": [
        "! wget https://github.com/bsenst/UWWi_DataDive_Dec22/raw/main/building_client_persona/client_data_with_ADI_SVI_Indices.csv.zip"
      ]
    },
    {
      "cell_type": "code",
      "source": [
        "! unzip /content/client_data_with_ADI_SVI_Indices.csv.zip"
      ],
      "metadata": {
        "colab": {
          "base_uri": "https://localhost:8080/"
        },
        "id": "Y9B0-TrnEsPT",
        "outputId": "31eb67f6-e88f-4aa3-dc11-9240bb9e93d7"
      },
      "execution_count": 4,
      "outputs": [
        {
          "output_type": "stream",
          "name": "stdout",
          "text": [
            "Archive:  /content/client_data_with_ADI_SVI_Indices.csv.zip\n",
            "  inflating: client_data_with_ADI_SVI_Indices.csv  \n"
          ]
        }
      ]
    },
    {
      "cell_type": "code",
      "source": [
        "import pandas as pd\n",
        "import numpy as np\n",
        "import matplotlib.pyplot as plt\n",
        "\n",
        "clients = pd.read_csv(\"/content/client_data_with_ADI_SVI_Indices.csv.zip\")"
      ],
      "metadata": {
        "colab": {
          "base_uri": "https://localhost:8080/"
        },
        "id": "ghYW_yE4Ew9r",
        "outputId": "fd9cc1e0-a4a4-4ed1-a8ab-e33ebbfb1e69"
      },
      "execution_count": 139,
      "outputs": [
        {
          "output_type": "stream",
          "name": "stderr",
          "text": [
            "/usr/local/lib/python3.8/dist-packages/IPython/core/interactiveshell.py:3326: DtypeWarning: Columns (4,10) have mixed types.Specify dtype option on import or set low_memory=False.\n",
            "  exec(code_obj, self.user_global_ns, self.user_ns)\n"
          ]
        }
      ]
    },
    {
      "cell_type": "code",
      "source": [
        "clients.info()"
      ],
      "metadata": {
        "colab": {
          "base_uri": "https://localhost:8080/"
        },
        "id": "mc2RiZT9E42p",
        "outputId": "a56cf476-adb8-4b9f-c783-b021970b800e"
      },
      "execution_count": 6,
      "outputs": [
        {
          "output_type": "stream",
          "name": "stdout",
          "text": [
            "<class 'pandas.core.frame.DataFrame'>\n",
            "RangeIndex: 796761 entries, 0 to 796760\n",
            "Data columns (total 19 columns):\n",
            " #   Column                                     Non-Null Count   Dtype  \n",
            "---  ------                                     --------------   -----  \n",
            " 0   Client_Id                                  796761 non-null  int64  \n",
            " 1   Client_CreateStamp                         796761 non-null  object \n",
            " 2   Client_EditStamp                           796761 non-null  object \n",
            " 3   ClientOption_PreferredLanguageOfCaller     796761 non-null  object \n",
            " 4   ClientSystem_PreferredLanguageOther        431 non-null     object \n",
            " 5   ClientAddressus_ClientAddressus_city       795992 non-null  object \n",
            " 6   ClientAddressus_ClientAddressus_county     796761 non-null  object \n",
            " 7   ClientAddressus_ClientAddressus_state      796761 non-null  object \n",
            " 8   ClientAddressus_ClientAddressus_zip        756533 non-null  float64\n",
            " 9   ClientCustom_AgeOfPersonNeedingAssistance  91447 non-null   float64\n",
            " 10  ClientCustom_EthnicityOther                187 non-null     object \n",
            " 11  ClientOption_GenderOptionId                796761 non-null  object \n",
            " 12  ClientOption_VeteranStatusOptionlist       796761 non-null  object \n",
            " 13  ADI_STATERANK                              466932 non-null  float64\n",
            " 14  RPL_THEMES                                 779225 non-null  float64\n",
            " 15  RPL_THEME1                                 779225 non-null  float64\n",
            " 16  RPL_THEME2                                 779225 non-null  float64\n",
            " 17  RPL_THEME3                                 779225 non-null  float64\n",
            " 18  RPL_THEME4                                 779225 non-null  float64\n",
            "dtypes: float64(8), int64(1), object(10)\n",
            "memory usage: 115.5+ MB\n"
          ]
        }
      ]
    },
    {
      "cell_type": "markdown",
      "source": [
        "# Almost 800k Clients"
      ],
      "metadata": {
        "id": "wStgeYOoGgCN"
      }
    },
    {
      "cell_type": "code",
      "source": [
        "len(clients.Client_Id.unique())"
      ],
      "metadata": {
        "colab": {
          "base_uri": "https://localhost:8080/"
        },
        "id": "-FYB4lGGE-D1",
        "outputId": "90748636-8a1e-47cb-fc4f-8fcd6527ebba"
      },
      "execution_count": 7,
      "outputs": [
        {
          "output_type": "execute_result",
          "data": {
            "text/plain": [
              "796761"
            ]
          },
          "metadata": {},
          "execution_count": 7
        }
      ]
    },
    {
      "cell_type": "markdown",
      "source": [
        "# Available Client Features"
      ],
      "metadata": {
        "id": "rl7Pp6yoHK3f"
      }
    },
    {
      "cell_type": "code",
      "source": [
        "clients.isna().sum()"
      ],
      "metadata": {
        "colab": {
          "base_uri": "https://localhost:8080/"
        },
        "id": "chfJ76czFK9f",
        "outputId": "6098a6e4-90f1-43c6-b280-95b684a334ed"
      },
      "execution_count": 8,
      "outputs": [
        {
          "output_type": "execute_result",
          "data": {
            "text/plain": [
              "Client_Id                                         0\n",
              "Client_CreateStamp                                0\n",
              "Client_EditStamp                                  0\n",
              "ClientOption_PreferredLanguageOfCaller            0\n",
              "ClientSystem_PreferredLanguageOther          796330\n",
              "ClientAddressus_ClientAddressus_city            769\n",
              "ClientAddressus_ClientAddressus_county            0\n",
              "ClientAddressus_ClientAddressus_state             0\n",
              "ClientAddressus_ClientAddressus_zip           40228\n",
              "ClientCustom_AgeOfPersonNeedingAssistance    705314\n",
              "ClientCustom_EthnicityOther                  796574\n",
              "ClientOption_GenderOptionId                       0\n",
              "ClientOption_VeteranStatusOptionlist              0\n",
              "ADI_STATERANK                                329829\n",
              "RPL_THEMES                                    17536\n",
              "RPL_THEME1                                    17536\n",
              "RPL_THEME2                                    17536\n",
              "RPL_THEME3                                    17536\n",
              "RPL_THEME4                                    17536\n",
              "dtype: int64"
            ]
          },
          "metadata": {},
          "execution_count": 8
        }
      ]
    },
    {
      "cell_type": "markdown",
      "source": [
        "# demographic features"
      ],
      "metadata": {
        "id": "6vJlQHWO1Tic"
      }
    },
    {
      "cell_type": "markdown",
      "source": [
        "## twice as many women as men"
      ],
      "metadata": {
        "id": "73uQai4DNR8E"
      }
    },
    {
      "cell_type": "code",
      "source": [
        "\n",
        "for k, v in clients.ClientOption_GenderOptionId.value_counts().items():\n",
        "  if k == \"[]\":\n",
        "    k = \"Not answered\"\n",
        "  else:\n",
        "    k = k.split(\"'\")[1]\n",
        "  print(k.ljust(14), v)"
      ],
      "metadata": {
        "colab": {
          "base_uri": "https://localhost:8080/"
        },
        "id": "M42jDGtaLuFm",
        "outputId": "2c94eed4-af9f-4438-f812-3a78d051d9f7"
      },
      "execution_count": 9,
      "outputs": [
        {
          "output_type": "stream",
          "name": "stdout",
          "text": [
            "Not answered   549757\n",
            "Female         166417\n",
            "Male           79077\n",
            "Unknown        1227\n",
            "Transgender    200\n",
            "Refused        47\n",
            "Other          27\n",
            "DO NOT USE - Transgendered Female to Male 9\n"
          ]
        }
      ]
    },
    {
      "cell_type": "code",
      "source": [
        "age = pd.Series(clients.ClientCustom_AgeOfPersonNeedingAssistance[clients.ClientCustom_AgeOfPersonNeedingAssistance.notna()].astype(np.int64))\n",
        "age"
      ],
      "metadata": {
        "colab": {
          "base_uri": "https://localhost:8080/"
        },
        "id": "TT0k1CzfzwjW",
        "outputId": "eb2013e5-f9b6-452e-b9ea-ec4e15c97cfb"
      },
      "execution_count": 153,
      "outputs": [
        {
          "output_type": "execute_result",
          "data": {
            "text/plain": [
              "43        77\n",
              "59        25\n",
              "110       45\n",
              "118       44\n",
              "131       50\n",
              "          ..\n",
              "796733    22\n",
              "796736    24\n",
              "796743    30\n",
              "796750    49\n",
              "796752    16\n",
              "Name: ClientCustom_AgeOfPersonNeedingAssistance, Length: 91447, dtype: int64"
            ]
          },
          "metadata": {},
          "execution_count": 153
        }
      ]
    },
    {
      "cell_type": "markdown",
      "source": [
        "## mean age 45 (min 15, max 84)"
      ],
      "metadata": {
        "id": "EkRaGQLD2EyP"
      }
    },
    {
      "cell_type": "code",
      "source": [
        "# https://stackoverflow.com/questions/23199796/detect-and-exclude-outliers-in-a-pandas-dataframe\n",
        "\n",
        "q_low = age.quantile(0.01)\n",
        "q_hi  = age.quantile(0.99)\n",
        "\n",
        "age_filtered = age[(age < q_hi) & (age > q_low)]\n",
        "\n",
        "age_filtered.describe().astype(np.int64)"
      ],
      "metadata": {
        "colab": {
          "base_uri": "https://localhost:8080/"
        },
        "id": "o4TCTc-k1Xya",
        "outputId": "b9d790c4-6cc7-4514-bb0c-1122d9bb0d38"
      },
      "execution_count": 159,
      "outputs": [
        {
          "output_type": "execute_result",
          "data": {
            "text/plain": [
              "count    89400\n",
              "mean        45\n",
              "std         16\n",
              "min         15\n",
              "25%         31\n",
              "50%         45\n",
              "75%         58\n",
              "max         84\n",
              "Name: ClientCustom_AgeOfPersonNeedingAssistance, dtype: int64"
            ]
          },
          "metadata": {},
          "execution_count": 159
        }
      ]
    },
    {
      "cell_type": "markdown",
      "source": [
        "## Veterans"
      ],
      "metadata": {
        "id": "3zC_4VVKHIKa"
      }
    },
    {
      "cell_type": "code",
      "source": [
        "clients.ClientOption_VeteranStatusOptionlist.value_counts()"
      ],
      "metadata": {
        "colab": {
          "base_uri": "https://localhost:8080/"
        },
        "id": "uslC0q2KG8et",
        "outputId": "b8fb382a-8729-4a07-9e71-59c03950120c"
      },
      "execution_count": 11,
      "outputs": [
        {
          "output_type": "execute_result",
          "data": {
            "text/plain": [
              "[]                      672889\n",
              "['No']                   91217\n",
              "['N/A']                  27131\n",
              "['Yes']                   5317\n",
              "['Yes', 'No']              100\n",
              "['No', 'N/A']               97\n",
              "['Yes', 'N/A']               7\n",
              "['Yes', 'No', 'N/A']         3\n",
              "Name: ClientOption_VeteranStatusOptionlist, dtype: int64"
            ]
          },
          "metadata": {},
          "execution_count": 11
        }
      ]
    },
    {
      "cell_type": "code",
      "source": [
        "plt.pie(sorted({(v) for k, v in clients.ClientOption_VeteranStatusOptionlist.value_counts().items()}, reverse=True)[1:4])\n",
        "plt.legend([\"no Veteran\", \"N/A\", \"Veteran\"])\n",
        "plt.show()"
      ],
      "metadata": {
        "colab": {
          "base_uri": "https://localhost:8080/",
          "height": 248
        },
        "id": "1CdU7n0ui4f6",
        "outputId": "ef819144-1683-4401-aa01-319ebbd417a0"
      },
      "execution_count": 26,
      "outputs": [
        {
          "output_type": "display_data",
          "data": {
            "text/plain": [
              "<Figure size 432x288 with 1 Axes>"
            ],
            "image/png": "[encoded data removed]"
          },
          "metadata": {}
        }
      ]
    },
    {
      "cell_type": "markdown",
      "source": [
        "## rare data on Ethnicity"
      ],
      "metadata": {
        "id": "imiJhGVc4M_3"
      }
    },
    {
      "cell_type": "code",
      "source": [
        "clients.ClientCustom_EthnicityOther[clients.ClientCustom_EthnicityOther.notna()].value_counts()"
      ],
      "metadata": {
        "colab": {
          "base_uri": "https://localhost:8080/"
        },
        "id": "VWKc7NWU3p5S",
        "outputId": "670eb04e-5a37-4c7a-d754-3ae84951ecd1"
      },
      "execution_count": 163,
      "outputs": [
        {
          "output_type": "execute_result",
          "data": {
            "text/plain": [
              "Unknown                       39\n",
              "mixed                         11\n",
              "Arabic                         5\n",
              "Biracial                       5\n",
              "Hmong                          4\n",
              "                              ..\n",
              "cilcian                        1\n",
              "Serbian                        1\n",
              "MIXED, UNSPECIFIED             1\n",
              "Caller simply said \"other\"     1\n",
              "Morroco                        1\n",
              "Name: ClientCustom_EthnicityOther, Length: 106, dtype: int64"
            ]
          },
          "metadata": {},
          "execution_count": 163
        }
      ]
    },
    {
      "cell_type": "markdown",
      "source": [
        "# Preferred Languages"
      ],
      "metadata": {
        "id": "0CWGIVcbHZ9Q"
      }
    },
    {
      "cell_type": "code",
      "source": [
        "clients.ClientOption_PreferredLanguageOfCaller.value_counts()"
      ],
      "metadata": {
        "colab": {
          "base_uri": "https://localhost:8080/"
        },
        "id": "reZbmIFTHHtu",
        "outputId": "8d499a6a-c718-40f9-bb02-4484f2cc68b4"
      },
      "execution_count": 13,
      "outputs": [
        {
          "output_type": "execute_result",
          "data": {
            "text/plain": [
              "[]                            671829\n",
              "['English']                   114121\n",
              "['Spanish']                     7961\n",
              "['Undetermined']                1286\n",
              "['Declined']                     567\n",
              "['Other']                        545\n",
              "['American Sign Language']       174\n",
              "['Hmong']                         91\n",
              "['Chinese']                       52\n",
              "['French']                        34\n",
              "['Vietnamese']                    31\n",
              "['Russian']                       20\n",
              "['German']                        20\n",
              "['Korean']                        15\n",
              "['Italian']                       10\n",
              "['Tagalog']                        5\n",
              "Name: ClientOption_PreferredLanguageOfCaller, dtype: int64"
            ]
          },
          "metadata": {},
          "execution_count": 13
        }
      ]
    },
    {
      "cell_type": "markdown",
      "source": [
        "# socioeconomic factors"
      ],
      "metadata": {
        "id": "-8e9JToC9VBL"
      }
    },
    {
      "cell_type": "markdown",
      "source": [
        "## non english speakers with lower ADI"
      ],
      "metadata": {
        "id": "fT3GPXysLbVr"
      }
    },
    {
      "cell_type": "code",
      "source": [
        "print(clients[clients.ClientOption_PreferredLanguageOfCaller==\"['English']\"].ADI_STATERANK.mean())\n",
        "print(clients[clients.ClientOption_PreferredLanguageOfCaller==\"['Spanish']\"].ADI_STATERANK.mean())\n",
        "print(clients[clients.ClientOption_PreferredLanguageOfCaller!=\"['English']\"].ADI_STATERANK.mean())\n"
      ],
      "metadata": {
        "colab": {
          "base_uri": "https://localhost:8080/"
        },
        "id": "FaTRSLtdH4MG",
        "outputId": "8c246d4b-289e-4b2c-a516-19b22d450f2c"
      },
      "execution_count": 14,
      "outputs": [
        {
          "output_type": "stream",
          "name": "stdout",
          "text": [
            "6.838418515905455\n",
            "6.376187202764509\n",
            "5.742406586030799\n"
          ]
        }
      ]
    },
    {
      "cell_type": "markdown",
      "source": [
        "## Clients almost equally distrib regarding Area Deprivation Index ADI"
      ],
      "metadata": {
        "id": "6JbSri0bGlYr"
      }
    },
    {
      "cell_type": "markdown",
      "source": [
        "## RPL Theme\n",
        "\n",
        "The four themes in the SVI tool are:\n",
        "- Socioeconomic status - income, poverty, employment and education.\n",
        "- Household composition - age, single parenting and disability.\n",
        "- Minority status and language - race, ethnicity.\n",
        "- English Language Proficiency, housing and transportation - housing structure, crowding and vehicle access."
      ],
      "metadata": {
        "id": "77nzq4Ua6SPc"
      }
    },
    {
      "cell_type": "code",
      "source": [
        "clients[[\"RPL_THEMES\", \"RPL_THEME1\", \"RPL_THEME2\", \"RPL_THEME3\", \"RPL_THEME4\"]].describe()"
      ],
      "metadata": {
        "colab": {
          "base_uri": "https://localhost:8080/",
          "height": 0
        },
        "id": "iIuggJt_6OJk",
        "outputId": "f17321b1-97b2-4f04-a1a1-1da931676e33"
      },
      "execution_count": 170,
      "outputs": [
        {
          "output_type": "execute_result",
          "data": {
            "text/plain": [
              "          RPL_THEMES     RPL_THEME1     RPL_THEME2     RPL_THEME3  \\\n",
              "count  779225.000000  779225.000000  779225.000000  779225.000000   \n",
              "mean        0.682957       0.601629       0.612291       0.819041   \n",
              "std         0.305410       0.362435       0.332014       0.214595   \n",
              "min         0.000000       0.000000       0.000000       0.000000   \n",
              "25%         0.408500       0.211300       0.267600       0.732400   \n",
              "50%         0.690100       0.549300       0.732400       0.915500   \n",
              "75%         1.000000       1.000000       0.929600       0.985900   \n",
              "max         1.000000       1.000000       1.000000       1.000000   \n",
              "\n",
              "          RPL_THEME4  \n",
              "count  779225.000000  \n",
              "mean        0.745665  \n",
              "std         0.266190  \n",
              "min         0.000000  \n",
              "25%         0.591500  \n",
              "50%         0.845100  \n",
              "75%         0.971800  \n",
              "max         1.000000  "
            ],
            "text/html": [
              "\n",
              "  <div id=\"df-c034635b-aa8e-47ec-af38-41cf572fe8f4\">\n",
              "    <div class=\"colab-df-container\">\n",
              "      <div>\n",
              "<style scoped>\n",
              "    .dataframe tbody tr th:only-of-type {\n",
              "        vertical-align: middle;\n",
              "    }\n",
              "\n",
              "    .dataframe tbody tr th {\n",
              "        vertical-align: top;\n",
              "    }\n",
              "\n",
              "    .dataframe thead th {\n",
              "        text-align: right;\n",
              "    }\n",
              "</style>\n",
              "<table border=\"1\" class=\"dataframe\">\n",
              "  <thead>\n",
              "    <tr style=\"text-align: right;\">\n",
              "      <th></th>\n",
              "      <th>RPL_THEMES</th>\n",
              "      <th>RPL_THEME1</th>\n",
              "      <th>RPL_THEME2</th>\n",
              "      <th>RPL_THEME3</th>\n",
              "      <th>RPL_THEME4</th>\n",
              "    </tr>\n",
              "  </thead>\n",
              "  <tbody>\n",
              "    <tr>\n",
              "      <th>count</th>\n",
              "      <td>779225.000000</td>\n",
              "      <td>779225.000000</td>\n",
              "      <td>779225.000000</td>\n",
              "      <td>779225.000000</td>\n",
              "      <td>779225.000000</td>\n",
              "    </tr>\n",
              "    <tr>\n",
              "      <th>mean</th>\n",
              "      <td>0.682957</td>\n",
              "      <td>0.601629</td>\n",
              "      <td>0.612291</td>\n",
              "      <td>0.819041</td>\n",
              "      <td>0.745665</td>\n",
              "    </tr>\n",
              "    <tr>\n",
              "      <th>std</th>\n",
              "      <td>0.305410</td>\n",
              "      <td>0.362435</td>\n",
              "      <td>0.332014</td>\n",
              "      <td>0.214595</td>\n",
              "      <td>0.266190</td>\n",
              "    </tr>\n",
              "    <tr>\n",
              "      <th>min</th>\n",
              "      <td>0.000000</td>\n",
              "      <td>0.000000</td>\n",
              "      <td>0.000000</td>\n",
              "      <td>0.000000</td>\n",
              "      <td>0.000000</td>\n",
              "    </tr>\n",
              "    <tr>\n",
              "      <th>25%</th>\n",
              "      <td>0.408500</td>\n",
              "      <td>0.211300</td>\n",
              "      <td>0.267600</td>\n",
              "      <td>0.732400</td>\n",
              "      <td>0.591500</td>\n",
              "    </tr>\n",
              "    <tr>\n",
              "      <th>50%</th>\n",
              "      <td>0.690100</td>\n",
              "      <td>0.549300</td>\n",
              "      <td>0.732400</td>\n",
              "      <td>0.915500</td>\n",
              "      <td>0.845100</td>\n",
              "    </tr>\n",
              "    <tr>\n",
              "      <th>75%</th>\n",
              "      <td>1.000000</td>\n",
              "      <td>1.000000</td>\n",
              "      <td>0.929600</td>\n",
              "      <td>0.985900</td>\n",
              "      <td>0.971800</td>\n",
              "    </tr>\n",
              "    <tr>\n",
              "      <th>max</th>\n",
              "      <td>1.000000</td>\n",
              "      <td>1.000000</td>\n",
              "      <td>1.000000</td>\n",
              "      <td>1.000000</td>\n",
              "      <td>1.000000</td>\n",
              "    </tr>\n",
              "  </tbody>\n",
              "</table>\n",
              "</div>\n",
              "      <button class=\"colab-df-convert\" onclick=\"convertToInteractive('df-c034635b-aa8e-47ec-af38-41cf572fe8f4')\"\n",
              "              title=\"Convert this dataframe to an interactive table.\"\n",
              "              style=\"display:none;\">\n",
              "        \n",
              "  <svg xmlns=\"http://www.w3.org/2000/svg\" height=\"24px\"viewBox=\"0 0 24 24\"\n",
              "       width=\"24px\">\n",
              "    <path d=\"M0 0h24v24H0V0z\" fill=\"none\"/>\n",
              "    <path d=\"M18.56 5.44l.94 2.06.94-2.06 2.06-.94-2.06-.94-.94-2.06-.94 2.06-2.06.94zm-11 1L8.5 8.5l.94-2.06 2.06-.94-2.06-.94L8.5 2.5l-.94 2.06-2.06.94zm10 10l.94 2.06.94-2.06 2.06-.94-2.06-.94-.94-2.06-.94 2.06-2.06.94z\"/><path d=\"M17.41 7.96l-1.37-1.37c-.4-.4-.92-.59-1.43-.59-.52 0-1.04.2-1.43.59L10.3 9.45l-7.72 7.72c-.78.78-.78 2.05 0 2.83L4 21.41c.39.39.9.59 1.41.59.51 0 1.02-.2 1.41-.59l7.78-7.78 2.81-2.81c.8-.78.8-2.07 0-2.86zM5.41 20L4 18.59l7.72-7.72 1.47 1.35L5.41 20z\"/>\n",
              "  </svg>\n",
              "      </button>\n",
              "      \n",
              "  <style>\n",
              "    .colab-df-container {\n",
              "      display:flex;\n",
              "      flex-wrap:wrap;\n",
              "      gap: 12px;\n",
              "    }\n",
              "\n",
              "    .colab-df-convert {\n",
              "      background-color: #E8F0FE;\n",
              "      border: none;\n",
              "      border-radius: 50%;\n",
              "      cursor: pointer;\n",
              "      display: none;\n",
              "      fill: #1967D2;\n",
              "      height: 32px;\n",
              "      padding: 0 0 0 0;\n",
              "      width: 32px;\n",
              "    }\n",
              "\n",
              "    .colab-df-convert:hover {\n",
              "      background-color: #E2EBFA;\n",
              "      box-shadow: 0px 1px 2px rgba(60, 64, 67, 0.3), 0px 1px 3px 1px rgba(60, 64, 67, 0.15);\n",
              "      fill: #174EA6;\n",
              "    }\n",
              "\n",
              "    [theme=dark] .colab-df-convert {\n",
              "      background-color: #3B4455;\n",
              "      fill: #D2E3FC;\n",
              "    }\n",
              "\n",
              "    [theme=dark] .colab-df-convert:hover {\n",
              "      background-color: #434B5C;\n",
              "      box-shadow: 0px 1px 3px 1px rgba(0, 0, 0, 0.15);\n",
              "      filter: drop-shadow(0px 1px 2px rgba(0, 0, 0, 0.3));\n",
              "      fill: #FFFFFF;\n",
              "    }\n",
              "  </style>\n",
              "\n",
              "      <script>\n",
              "        const buttonEl =\n",
              "          document.querySelector('#df-c034635b-aa8e-47ec-af38-41cf572fe8f4 button.colab-df-convert');\n",
              "        buttonEl.style.display =\n",
              "          google.colab.kernel.accessAllowed ? 'block' : 'none';\n",
              "\n",
              "        async function convertToInteractive(key) {\n",
              "          const element = document.querySelector('#df-c034635b-aa8e-47ec-af38-41cf572fe8f4');\n",
              "          const dataTable =\n",
              "            await google.colab.kernel.invokeFunction('convertToInteractive',\n",
              "                                                     [key], {});\n",
              "          if (!dataTable) return;\n",
              "\n",
              "          const docLinkHtml = 'Like what you see? Visit the ' +\n",
              "            '<a target=\"_blank\" href=https://colab.research.google.com/notebooks/data_table.ipynb>data table notebook</a>'\n",
              "            + ' to learn more about interactive tables.';\n",
              "          element.innerHTML = '';\n",
              "          dataTable['output_type'] = 'display_data';\n",
              "          await google.colab.output.renderOutput(dataTable, element);\n",
              "          const docLink = document.createElement('div');\n",
              "          docLink.innerHTML = docLinkHtml;\n",
              "          element.appendChild(docLink);\n",
              "        }\n",
              "      </script>\n",
              "    </div>\n",
              "  </div>\n",
              "  "
            ]
          },
          "metadata": {},
          "execution_count": 170
        }
      ]
    },
    {
      "cell_type": "markdown",
      "source": [
        "# Geographic Features"
      ],
      "metadata": {
        "id": "MDDWwypMkG0N"
      }
    },
    {
      "cell_type": "code",
      "source": [
        "clients.ADI_STATERANK.hist()\n",
        "# seems like clients living in areas with higher standard of living are also calling UWWi ?\n",
        "# interpretation of ADI required"
      ],
      "metadata": {
        "colab": {
          "base_uri": "https://localhost:8080/",
          "height": 282
        },
        "id": "HM8rE6drF-ss",
        "outputId": "a92a97e6-2d1b-4d0f-d113-d339abf8528f"
      },
      "execution_count": 10,
      "outputs": [
        {
          "output_type": "execute_result",
          "data": {
            "text/plain": [
              "<matplotlib.axes._subplots.AxesSubplot at 0x7fb0cba82d60>"
            ]
          },
          "metadata": {},
          "execution_count": 10
        },
        {
          "output_type": "display_data",
          "data": {
            "text/plain": [
              "<Figure size 432x288 with 1 Axes>"
            ],
            "image/png": "[encoded data removed]"
          },
          "metadata": {
            "needs_background": "light"
          }
        }
      ]
    },
    {
      "cell_type": "markdown",
      "source": [
        "## basic NLP to remove city duplicates"
      ],
      "metadata": {
        "id": "B8xCPKjvnXSG"
      }
    },
    {
      "cell_type": "code",
      "source": [
        "cities = list(clients.ClientAddressus_ClientAddressus_city.value_counts().index)\n",
        "len(cities)\n",
        "# according to google there are 804 cities in WI --> duplicates"
      ],
      "metadata": {
        "colab": {
          "base_uri": "https://localhost:8080/"
        },
        "id": "P-fhHvgHiyH3",
        "outputId": "26e9159a-3352-4b60-a60a-6e03c44b04d1"
      },
      "execution_count": 61,
      "outputs": [
        {
          "output_type": "execute_result",
          "data": {
            "text/plain": [
              "4997"
            ]
          },
          "metadata": {},
          "execution_count": 61
        }
      ]
    },
    {
      "cell_type": "code",
      "source": [
        "# make lower and removing whitespaces - reduces duplicates by 1/4\n",
        "cities = list(pd.Series([c.lower().strip() for c in cities]).unique())\n",
        "len(cities)"
      ],
      "metadata": {
        "colab": {
          "base_uri": "https://localhost:8080/"
        },
        "id": "iVo6r4VYkYwU",
        "outputId": "d454243c-9302-4be7-a383-439a46dcfa53"
      },
      "execution_count": 62,
      "outputs": [
        {
          "output_type": "execute_result",
          "data": {
            "text/plain": [
              "3358"
            ]
          },
          "metadata": {},
          "execution_count": 62
        }
      ]
    },
    {
      "cell_type": "code",
      "source": [
        "! pip install python-Levenshtein\n",
        "from Levenshtein import distance as levenshtein_distance"
      ],
      "metadata": {
        "colab": {
          "base_uri": "https://localhost:8080/"
        },
        "id": "4GVwEmHolCPk",
        "outputId": "7b39f265-e984-4f44-e219-b08163c86aff"
      },
      "execution_count": 41,
      "outputs": [
        {
          "output_type": "stream",
          "name": "stdout",
          "text": [
            "Looking in indexes: https://pypi.org/simple, https://us-python.pkg.dev/colab-wheels/public/simple/\n",
            "Collecting python-Levenshtein\n",
            "  Downloading python_Levenshtein-0.20.8-py3-none-any.whl (9.4 kB)\n",
            "Collecting Levenshtein==0.20.8\n",
            "  Downloading Levenshtein-0.20.8-cp38-cp38-manylinux_2_17_x86_64.manylinux2014_x86_64.whl (174 kB)\n",
            "\u001b[K     |████████████████████████████████| 174 kB 5.1 MB/s \n",
            "\u001b[?25hCollecting rapidfuzz<3.0.0,>=2.3.0\n",
            "  Downloading rapidfuzz-2.13.3-cp38-cp38-manylinux_2_17_x86_64.manylinux2014_x86_64.whl (2.2 MB)\n",
            "\u001b[K     |████████████████████████████████| 2.2 MB 51.4 MB/s \n",
            "\u001b[?25hInstalling collected packages: rapidfuzz, Levenshtein, python-Levenshtein\n",
            "Successfully installed Levenshtein-0.20.8 python-Levenshtein-0.20.8 rapidfuzz-2.13.3\n"
          ]
        }
      ]
    },
    {
      "cell_type": "code",
      "source": [
        "# https://codereview.stackexchange.com/questions/217065/calculate-levenshtein-distance-between-two-strings-in-python\n",
        "\n",
        "similar_cities = dict()\n",
        "\n",
        "for c1 in cities:\n",
        "  for c2 in cities:\n",
        "    if c1 != c2:\n",
        "      ld = levenshtein_distance(c1, c2)\n",
        "      similarity = 1 - ld / max(len(c1), len(c2))\n",
        "      if similarity > 0.85:\n",
        "        if c1 not in similar_cities.keys() or c2 not in similar_cities.keys():\n",
        "          similar_cities[c1] = set()\n",
        "          similar_cities[c1].add(c2)\n",
        "        elif c1 in similar_cities.keys():\n",
        "          similar_cities[c1].add(c2)\n",
        "        elif c2 in similar_cities.keys():\n",
        "          similar_cities[c2].add(c1)\n",
        "        else:\n",
        "          print(c1, c2, similarity)\n",
        "\n",
        "similar_cities"
      ],
      "metadata": {
        "colab": {
          "base_uri": "https://localhost:8080/"
        },
        "id": "G6ZrZzdClRN2",
        "outputId": "f366fb12-171f-4037-a7d0-660452bcf5cd"
      },
      "execution_count": 110,
      "outputs": [
        {
          "output_type": "execute_result",
          "data": {
            "text/plain": [
              "{'milwaukee': {'milwakee'},\n",
              " 'madison': {'msdison'},\n",
              " 'green bay': {'greenbay'},\n",
              " 'la crosse': {'lacrosse'},\n",
              " 'appleton': {'appleto'},\n",
              " 'kenosha': {'kenosha`'},\n",
              " 'janesville': {'janesvielle'},\n",
              " 'fond du lac': {'fon du lac'},\n",
              " 'west bend': {'westbend'},\n",
              " 'wisconsin rapids': {'wisconsin rapid'},\n",
              " 'sheboygan': {'sheyboygan'},\n",
              " 'west allis': {'west allies'},\n",
              " 'middleton': {'middletown'},\n",
              " 'menomonee falls': {'menonomee falls'},\n",
              " 'south milwaukee': {'south miwaukee'},\n",
              " 'brookfield': {'broomfield'},\n",
              " 'cudahy': {'cudahay'},\n",
              " 'oconomowoc': {'occonomowoc'},\n",
              " 'germantown': {'hermantown'},\n",
              " 'wauwatosa': {'wawatosa'},\n",
              " 'pewaukee': {'pewakee'},\n",
              " 'muskego': {'muskegon'},\n",
              " 'deforest': {'de forest'},\n",
              " 'grafton': {'granton'},\n",
              " 'shawano': {'shanwano'},\n",
              " 'west salem': {'west saleem'},\n",
              " 'mc farland': {'mcfarland'},\n",
              " 'de forest': {'deforest'},\n",
              " 'wautoma': {'waucoma'},\n",
              " 'twin lakes': {'twin lake'},\n",
              " 'oconto falls': {'ocontofalls'},\n",
              " 'medford': {'bedford'},\n",
              " 'allenton': {'allentown'},\n",
              " 'baldwin': {'ballwin'},\n",
              " 'osceola': {'oceola'},\n",
              " 'sheboygan falls': {'sheboygan fls'},\n",
              " 'mayville': {'rayville'},\n",
              " 'chicago': {'chicagp'},\n",
              " 'franksville': {'frankville'},\n",
              " 'belleville': {'bellville'},\n",
              " 'houston': {'houlton'},\n",
              " 'bristol': {'bristow'},\n",
              " 'frederic': {'frederick'},\n",
              " 'mcfarland': {'mc farland'},\n",
              " 'chatfield': {'hatfield'},\n",
              " 'nashotah': {'nashota'},\n",
              " 'hilbert': {'gilbert'},\n",
              " 'preston': {'creston'},\n",
              " 'clinton': {'clifton'},\n",
              " 'darlington': {'arlington'},\n",
              " 'grand marsh': {'grand march'},\n",
              " 'clayton': {'slayton'},\n",
              " 'mt pleasant': {'mt. pleasant'},\n",
              " 'brandon': {'bandon'},\n",
              " 'warrens': {'warren'},\n",
              " 'crandon': {'brandon'},\n",
              " 'birnamwood': {'dirnamwood'},\n",
              " 'palmyra': {'almyra'},\n",
              " 'bayside': {'wayside'},\n",
              " 'mc gregor': {'mcgregor'},\n",
              " 'gillett': {'gillette'},\n",
              " 'mountain': {'fountain'},\n",
              " 'arlington': {'darlington'},\n",
              " 'cuba city': {'yuba city'},\n",
              " 'rosendale': {'rosedale'},\n",
              " 'lacrosse': {'la crosse'},\n",
              " 'south range': {'south orange'},\n",
              " 'soldiers grove': {'soldier grove'},\n",
              " 'pembine': {'pembina'},\n",
              " 'de soto': {'desoto'},\n",
              " 'holcombe': {'holcomb'},\n",
              " 'washburn': {'ashburn'},\n",
              " 'eldorado': {'el dorado'},\n",
              " 'chaseburg': {'chaseberg'},\n",
              " 'bayfield': {'hayfield'},\n",
              " 'houlton': {'moulton'},\n",
              " 'reeseville': {'reesevillle'},\n",
              " 'curtiss': {'curtis'},\n",
              " 'bayview': {'bay view'},\n",
              " 'athelstane': {'athelstan'},\n",
              " 'granton': {'grafton'},\n",
              " 'wauzeka': {'waubeka'},\n",
              " 'lewiston': {'clewiston'},\n",
              " 'winnebago': {'winebago'},\n",
              " 'shullsburg': {'shullsberg'},\n",
              " 'portland': {'cortland'},\n",
              " 'st francis': {'st. francis'},\n",
              " 'newburg': {'newburgh'},\n",
              " 'belmont': {'belmond'},\n",
              " 'houghton': {'haughton'},\n",
              " 'sheldon': {'shelton'},\n",
              " 'waucoma': {'wautoma'},\n",
              " 'fountain': {'mountain'},\n",
              " 'woodman': {'goodman'},\n",
              " 's milwaukee': {'w milwaukee'},\n",
              " 'hillpoint': {'hill point'},\n",
              " 'nichols': {'nicholls'},\n",
              " 'high bridge': {'high ridge'},\n",
              " 'caroline': {'carolina'},\n",
              " 'riceville': {'niceville'},\n",
              " 'fort wayne': {'fort payne'},\n",
              " 'milwuakee': {'milwakee'},\n",
              " 'lafayette': {'la fayette'},\n",
              " 'pittsburgh': {'pittsburg'},\n",
              " 'roseville': {'rossville'},\n",
              " 'garland': {'arland'},\n",
              " 'milwauke': {'milwaukke'},\n",
              " 'rockton': {'brockton'},\n",
              " 'goodman': {'woodman'},\n",
              " 'grand view': {'grandview'},\n",
              " 'milford': {'gilford'},\n",
              " 'warren': {'warrens'},\n",
              " 'hayfield': {'hatfield'},\n",
              " 'barstow': {'bartow'},\n",
              " 'winter haven': {'winterhaven'},\n",
              " 'edmond': {'redmond'},\n",
              " 'chandler': {'candler'},\n",
              " 'waubeka': {'wauzeka'},\n",
              " 'muskegon': {'muskego'},\n",
              " 'bay view': {'bayview'},\n",
              " 'gainesville': {'painesville'},\n",
              " 'holland': {'tolland'},\n",
              " 'north lake': {'northlake'},\n",
              " 'peterson': {'paterson'},\n",
              " 'milwaukie': {'milwaukke'},\n",
              " 'st. louis': {'st louis'},\n",
              " 'charleston': {'charlestown'},\n",
              " 'algona': {'algonac'},\n",
              " 'elizabethtown': {'elizabethton'},\n",
              " 'rapid city': {'rapids city'},\n",
              " 'huntington': {'huntingdon'},\n",
              " 'greenbay': {'green bay'},\n",
              " 'sartell': {'martell'},\n",
              " 'gilbert': {'hilbert'},\n",
              " 'charlestown': {'charleston'},\n",
              " 'sanford': {'stanford'},\n",
              " 'wawatosa': {'wauwatosa'},\n",
              " 'painesville': {'gainesville'},\n",
              " 'broomfield': {'bloomfield'},\n",
              " 'ocontofalls': {'oconto falls'},\n",
              " 'hermantown': {'germantown'},\n",
              " 'bartow': {'barstow'},\n",
              " 'creston': {'preston'},\n",
              " 'bloomfield': {'broomfield'},\n",
              " 'denton': {'odenton'},\n",
              " 'randalia': {'vandalia'},\n",
              " 'frederick': {'frederic'},\n",
              " 'kellner': {'keller'},\n",
              " 'bellwood': {'dellwood'},\n",
              " 'silver spring': {'silver springs'},\n",
              " 'pittsburg': {'pittsburgh'},\n",
              " 'martell': {'sartell'},\n",
              " 'nicholls': {'nichols'},\n",
              " 'frankville': {'franksville'},\n",
              " 'rapids city': {'rapid city'},\n",
              " 'west chester': {'westchester'},\n",
              " 'desoto': {'de soto'},\n",
              " 'northlake': {'north lake'},\n",
              " 'gillette': {'gillett'},\n",
              " 'ballwin': {'baldwin'},\n",
              " 'lynnwood': {'lynwood'},\n",
              " 'carlton': {'carleton'},\n",
              " 'milaukee': {'miwaukee'},\n",
              " 'crossville': {'rossville'},\n",
              " 'minnesota lake': {'minnesota lk'},\n",
              " 'stanton': {'swanton'},\n",
              " 'hatfield': {'chatfield', 'hayfield'},\n",
              " 'middletown': {'fiddletown'},\n",
              " 'wascott': {'walcott'},\n",
              " 'kingwood': {'ringwood'},\n",
              " 'clifton': {'clinton'},\n",
              " 'haughton': {'houghton'},\n",
              " 'bedford': {'medford'},\n",
              " 'wayside': {'bayside'},\n",
              " 'coeur d alene': {\"coeur d'alene\"},\n",
              " 'caryville': {'maryville'},\n",
              " 'westbend': {'west bend'},\n",
              " 'menomonee fls': {'menomonee fall'},\n",
              " 'woodbridge': {'woodridge'},\n",
              " 'holcomb': {'holcombe'},\n",
              " 'westchester': {'west chester'},\n",
              " 'menomnee falls': {'menomonee fall'},\n",
              " 'vandalia': {'randalia'},\n",
              " 'kenosha`': {'kenosha'},\n",
              " 'niceville': {'riceville'},\n",
              " 'winterhaven': {'winter haven'},\n",
              " 'twin lake': {'twin lakes'},\n",
              " 'garrison': {'harrison'},\n",
              " 'fiddletown': {'middletown'},\n",
              " 'menomonie falls': {'menomonee fall'},\n",
              " 'victory': {'victor'},\n",
              " 'bristow': {'bristol'},\n",
              " 'bellville': {'belleville'},\n",
              " 'wisconsin rapid': {'wisconsin rapids'},\n",
              " 'milawukee': {'milaukee'},\n",
              " 'candler': {'chandler'},\n",
              " 'appleto': {'appleton'},\n",
              " 'athelstan': {'athelstane'},\n",
              " 'edmonds': {'edmond'},\n",
              " 'high ridge': {'high bridge'},\n",
              " 'lake park heights': {'oak park heights'},\n",
              " 'bardstown': {'beardstown'},\n",
              " 'charlton': {'carlton'},\n",
              " 'silver springs': {'silver spring'},\n",
              " 'ringwood': {'kingwood'},\n",
              " 'mcgregor': {'mc gregor'},\n",
              " 'marysville': {'maryville'},\n",
              " 'moulton': {'houlton'},\n",
              " 'reesevillle': {'reeseville'},\n",
              " 'newburgh': {'newburg'},\n",
              " 'kingman': {'kinsman'},\n",
              " 'msdison': {'madison'},\n",
              " 'odenton': {'denton'},\n",
              " 'menomonee  falls': {'menomonee fall'},\n",
              " 'yuba city': {'cuba city'},\n",
              " 'fort payne': {'fort wayne'},\n",
              " 'millburn': {'millbury'},\n",
              " 'west allies': {'west allis'},\n",
              " 'allentown': {'allenton'},\n",
              " 'rosedale': {'rosendale'},\n",
              " 'milwauikee': {'milwauukee'},\n",
              " 'pewakee': {'pewaukee'},\n",
              " 'williamstown': {'williamston'},\n",
              " 'milwauukee': {'milwauikee', 'milwaukee'},\n",
              " 'coalville': {'colville'},\n",
              " 'la fayette': {'lafayette'},\n",
              " 'oak park heights': {'lake park heights'},\n",
              " 'occonomowoc': {'oconomowoc'},\n",
              " 'west saleem': {'west salem'},\n",
              " 'granada': {'grenada'},\n",
              " 'miwaukee': {'milaukee', 'milwaukee'},\n",
              " 'sand lake': {'sandlake'},\n",
              " 'milwaukee`': {'milwaukee'},\n",
              " 'brainerd': {'brainard'},\n",
              " 'carleton': {'carlton'},\n",
              " 'maryville': {'caryville', 'marysville', 'mayville'},\n",
              " 'shelton': {'sheldon'},\n",
              " 'grand march': {'grand marsh'},\n",
              " 'sandlake': {'sand lake'},\n",
              " 'nashota': {'nashotah'},\n",
              " 'ashburn': {'washburn'},\n",
              " 'redding': {'reading'},\n",
              " \"coeur d'alene\": {'coeur d alene'},\n",
              " 'granville': {'grayville'},\n",
              " 'grayville': {'rayville'},\n",
              " 'grandview': {'grand view'},\n",
              " 'bollingbrook': {'bolingbrook'},\n",
              " 'bandon': {'brandon'},\n",
              " 'st. francis': {'st francis'},\n",
              " 'rossville': {'crossville', 'roseville'},\n",
              " 'south miwaukee': {'south milwaukee'},\n",
              " 'woodridge': {'woodbridge'},\n",
              " 'w milwaukee': {'s milwaukee'},\n",
              " 'menomonee fall': {'menomnee falls',\n",
              "  'menomonee  falls',\n",
              "  'menomonee falls',\n",
              "  'menomonee fls',\n",
              "  'menomonie falls'},\n",
              " 'granbury': {'cranbury'},\n",
              " 'la verne': {'la vergne'},\n",
              " 'arland': {'garland'},\n",
              " 'reading': {'redding'},\n",
              " 'slayton': {'clayton'},\n",
              " 'chaseberg': {'chaseburg'},\n",
              " 'sheboygan fls': {'sheboygan falls'},\n",
              " 'soldier grove': {'soldiers grove'},\n",
              " 'denison': {'jenison'},\n",
              " 'shellsburg': {'shullsburg'},\n",
              " 'rayville': {'grayville', 'mayville'},\n",
              " 'stanford': {'stafford'},\n",
              " 'belmond': {'belmont'},\n",
              " 'jamesville': {'janesville'},\n",
              " 'dellwood': {'bellwood'},\n",
              " 'el dorado': {'eldorado'},\n",
              " 'janeville': {'janesville'},\n",
              " 'carolina': {'caroline'},\n",
              " 'algonac': {'algona'},\n",
              " 'fon du lac': {'fond du lac'},\n",
              " 'keller': {'kellner'},\n",
              " 'la vergne': {'la verne'},\n",
              " 'mt. pleasant': {'mt pleasant'},\n",
              " 'chicagp': {'chicago'},\n",
              " 'minnesota lk': {'minnesota lake'},\n",
              " 'swanton': {'stanton'},\n",
              " 'kinsman': {'kingman'},\n",
              " 'huntingdon': {'huntington'},\n",
              " 'beardstown': {'bardstown'},\n",
              " 'elizabethton': {'elizabethtown'},\n",
              " 'paterson': {'peterson'},\n",
              " 'st louis': {'st. louis'},\n",
              " 'shullsberg': {'shullsburg'},\n",
              " 'lynwood': {'lynnwood'},\n",
              " 'williamston': {'williamstown'},\n",
              " 'hill point': {'hillpoint'},\n",
              " 'harrison': {'garrison'},\n",
              " 'menonomee falls': {'menomonee falls'},\n",
              " 'pembina': {'pembine'},\n",
              " 'sumterville': {'summerville'},\n",
              " 'bolingbrook': {'bollingbrook'},\n",
              " 'cranbury': {'granbury'},\n",
              " 'millbury': {'millburn'},\n",
              " 'walcott': {'wascott'},\n",
              " 'milwaukke': {'milwauke', 'milwaukee', 'milwaukie'},\n",
              " 'cudahay': {'cudahy'},\n",
              " 'colville': {'coalville'},\n",
              " 'winebago': {'winnebago'},\n",
              " 'shanwano': {'shawano'},\n",
              " 'milwakee': {'milwaukee', 'milwuakee'},\n",
              " 'south orange': {'south range'},\n",
              " 'tolland': {'holland'},\n",
              " 'janesvielle': {'janesville'},\n",
              " 'gilford': {'milford'},\n",
              " 'victor': {'victory'},\n",
              " 'brockton': {'rockton'},\n",
              " 'summerville': {'sumterville'},\n",
              " 'cortland': {'portland'},\n",
              " 'brainard': {'brainerd'},\n",
              " 'redmond': {'edmond'},\n",
              " 'dirnamwood': {'birnamwood'},\n",
              " 'grenada': {'granada'},\n",
              " 'curtis': {'curtiss'},\n",
              " 'almyra': {'palmyra'},\n",
              " 'jenison': {'denison'},\n",
              " 'clewiston': {'lewiston'},\n",
              " 'sheyboygan': {'sheboygan'},\n",
              " 'oceola': {'osceola'},\n",
              " 'stafford': {'stanford'}}"
            ]
          },
          "metadata": {},
          "execution_count": 110
        }
      ]
    },
    {
      "cell_type": "markdown",
      "source": [
        "## common cities of clients"
      ],
      "metadata": {
        "id": "6zzi_3SRyrW9"
      }
    },
    {
      "cell_type": "code",
      "source": [
        "common_cities = pd.Series(pd.Series([c.lower().strip() for c in clients.ClientAddressus_ClientAddressus_city if type(c)==str]).value_counts()[:6])\n",
        "print(common_cities)\n",
        "plt.pie(common_cities)\n",
        "plt.legend(list(common_cities.index))\n",
        "plt.show()"
      ],
      "metadata": {
        "colab": {
          "base_uri": "https://localhost:8080/",
          "height": 370
        },
        "id": "Ly6RUAF2w_Pz",
        "outputId": "8a94d942-79d4-4c73-8de9-406efce17ede"
      },
      "execution_count": 125,
      "outputs": [
        {
          "output_type": "stream",
          "name": "stdout",
          "text": [
            "milwaukee    247473\n",
            "madison       96098\n",
            "la crosse     25844\n",
            "green bay     24015\n",
            "wausau        22268\n",
            "racine        20106\n",
            "dtype: int64\n"
          ]
        },
        {
          "output_type": "display_data",
          "data": {
            "text/plain": [
              "<Figure size 432x288 with 1 Axes>"
            ],
            "image/png": "[encoded data removed]"
          },
          "metadata": {}
        }
      ]
    },
    {
      "cell_type": "markdown",
      "source": [
        "## common client counties"
      ],
      "metadata": {
        "id": "zCBPOt0_y1qW"
      }
    },
    {
      "cell_type": "code",
      "source": [
        "common = pd.Series(pd.Series([c.lower().strip() for c in clients.ClientAddressus_ClientAddressus_county if type(c)==str]).value_counts()[:10])\n",
        "print(common)\n",
        "plt.pie(common)\n",
        "plt.legend(list(common.index))\n",
        "plt.show()"
      ],
      "metadata": {
        "colab": {
          "base_uri": "https://localhost:8080/",
          "height": 439
        },
        "id": "rZzF-VcWyvEY",
        "outputId": "fa9044b8-8ead-4d6e-f4bf-bb865b54fec9"
      },
      "execution_count": 127,
      "outputs": [
        {
          "output_type": "stream",
          "name": "stdout",
          "text": [
            "milwaukee    271879\n",
            "dane         123650\n",
            "la crosse     31740\n",
            "marathon      31649\n",
            "waukesha      28043\n",
            "brown         27637\n",
            "racine        25333\n",
            "winnebago     22317\n",
            "portage       19934\n",
            "rock          18828\n",
            "dtype: int64\n"
          ]
        },
        {
          "output_type": "display_data",
          "data": {
            "text/plain": [
              "<Figure size 432x288 with 1 Axes>"
            ],
            "image/png": "[encoded data removed]"
          },
          "metadata": {}
        }
      ]
    },
    {
      "cell_type": "markdown",
      "source": [
        "## client states WI >> MN>IA>TX>IL>MI"
      ],
      "metadata": {
        "id": "_XiTxRsWzBcd"
      }
    },
    {
      "cell_type": "code",
      "source": [
        "common = pd.Series(pd.Series([c.lower().strip() for c in clients.ClientAddressus_ClientAddressus_state if type(c)==str]).value_counts()[1:10])\n",
        "print(common)\n",
        "plt.pie(common)\n",
        "plt.legend(list(common.index))\n",
        "plt.show()"
      ],
      "metadata": {
        "colab": {
          "base_uri": "https://localhost:8080/",
          "height": 422
        },
        "id": "ak3c-bc7zEQL",
        "outputId": "c06d7efb-66ef-4629-ceac-55ef7af855bc"
      },
      "execution_count": 130,
      "outputs": [
        {
          "output_type": "stream",
          "name": "stdout",
          "text": [
            "mn    7737\n",
            "ia    3103\n",
            "tx    1767\n",
            "il    1702\n",
            "mi    1623\n",
            "fl     448\n",
            "ca     434\n",
            "in     309\n",
            "oh     282\n",
            "dtype: int64\n"
          ]
        },
        {
          "output_type": "display_data",
          "data": {
            "text/plain": [
              "<Figure size 432x288 with 1 Axes>"
            ],
            "image/png": "[encoded data removed]"
          },
          "metadata": {}
        }
      ]
    },
    {
      "cell_type": "markdown",
      "source": [
        "# Clients Accounts: Creation & Editing "
      ],
      "metadata": {
        "id": "E7YI5oUY5644"
      }
    },
    {
      "cell_type": "code",
      "source": [
        "created = pd.to_datetime(clients.Client_CreateStamp)"
      ],
      "metadata": {
        "id": "C4TsHIjE4xOg"
      },
      "execution_count": 166,
      "outputs": []
    },
    {
      "cell_type": "code",
      "source": [
        "edited = pd.to_datetime(clients.Client_EditStamp)"
      ],
      "metadata": {
        "id": "NbBMuYTy6AUg"
      },
      "execution_count": 167,
      "outputs": []
    },
    {
      "cell_type": "code",
      "source": [
        "created.hist(bins=6*12)"
      ],
      "metadata": {
        "colab": {
          "base_uri": "https://localhost:8080/",
          "height": 282
        },
        "id": "R993Q_it8NaM",
        "outputId": "11f049ea-5d93-4292-8f76-18cc2202354b"
      },
      "execution_count": 177,
      "outputs": [
        {
          "output_type": "execute_result",
          "data": {
            "text/plain": [
              "<matplotlib.axes._subplots.AxesSubplot at 0x7fb0b6c33790>"
            ]
          },
          "metadata": {},
          "execution_count": 177
        },
        {
          "output_type": "display_data",
          "data": {
            "text/plain": [
              "<Figure size 432x288 with 1 Axes>"
            ],
            "image/png": "[encoded data removed]"
          },
          "metadata": {
            "needs_background": "light"
          }
        }
      ]
    },
    {
      "cell_type": "code",
      "source": [
        "edited.hist(bins=6)"
      ],
      "metadata": {
        "colab": {
          "base_uri": "https://localhost:8080/",
          "height": 282
        },
        "id": "CFycqT2b8Tt-",
        "outputId": "3e9882e7-70d7-4e8b-f6f7-f48a0e5693fe"
      },
      "execution_count": 176,
      "outputs": [
        {
          "output_type": "execute_result",
          "data": {
            "text/plain": [
              "<matplotlib.axes._subplots.AxesSubplot at 0x7fb0b6232a90>"
            ]
          },
          "metadata": {},
          "execution_count": 176
        },
        {
          "output_type": "display_data",
          "data": {
            "text/plain": [
              "<Figure size 432x288 with 1 Axes>"
            ],
            "image/png": "[encoded data removed]"
          },
          "metadata": {
            "needs_background": "light"
          }
        }
      ]
    }
  ]
}