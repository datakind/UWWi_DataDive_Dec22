{
 "cells": [
  {
   "cell_type": "markdown",
   "metadata": {},
   "source": [
    "# Setting up"
   ]
  },
  {
   "cell_type": "code",
   "execution_count": 4,
   "metadata": {},
   "outputs": [],
   "source": [
    "import pandas as pd \n",
    "import numpy as np\n",
    "import sklearn"
   ]
  },
  {
   "cell_type": "code",
   "execution_count": 5,
   "metadata": {},
   "outputs": [],
   "source": [
    "interaction_2020_path = \"../uwwi_datasets/uwwi_dataset_interactions/uwwi_dataset_interactions_2020.csv\"\n",
    "interaction_2021_path = \"../uwwi_datasets/uwwi_dataset_interactions/uwwi_dataset_interactions_2021.csv\"\n",
    "interaction_2022_path = \"../uwwi_datasets/uwwi_dataset_interactions/uwwi_dataset_interactions_2022.csv\"\n",
    "agencies_path = \"../uwwi_datasets/uwwi_dataset_agencies.csv\"\n",
    "clients_path = \"../uwwi_datasets/uwwi_dataset_clients_v2.csv\"\n",
    "services_path = \"../uwwi_datasets/uwwi_dataset_services.csv\"\n",
    "sites_path = \"../uwwi_datasets/uwwi_dataset_sites.csv\""
   ]
  },
  {
   "cell_type": "code",
   "execution_count": 6,
   "metadata": {},
   "outputs": [],
   "source": [
    "import chardet\n",
    "def get_encoding(file_path):\n",
    "\n",
    "    with open(file_path,'rb') as f:\n",
    "            data = f.read(10000)\n",
    "    return chardet.detect(data).get(\"encoding\")"
   ]
  },
  {
   "cell_type": "markdown",
   "metadata": {},
   "source": [
    "# Getting into Clients"
   ]
  },
  {
   "cell_type": "code",
   "execution_count": 235,
   "metadata": {},
   "outputs": [
    {
     "name": "stderr",
     "output_type": "stream",
     "text": [
      "C:\\Users\\Siddiquee\\AppData\\Local\\Temp\\ipykernel_5156\\595301242.py:2: DtypeWarning: Columns (8) have mixed types. Specify dtype option on import or set low_memory=False.\n",
      "  df = pd.read_csv(file_path, sep=',')\n"
     ]
    }
   ],
   "source": [
    "file_path = clients_path\n",
    "df = pd.read_csv(file_path, sep=',')\n",
    "# df.head(5)"
   ]
  },
  {
   "cell_type": "code",
   "execution_count": 236,
   "metadata": {},
   "outputs": [],
   "source": [
    "df = df[(df.ClientAddressus_ClientAddressus_state.notna()) & (df.ClientAddressus_ClientAddressus_county.notna())]\n",
    "df.ClientAddressus_ClientAddressus_state = df.ClientAddressus_ClientAddressus_state.str.lower().str.strip().astype(\"string\")\n",
    "df.ClientAddressus_ClientAddressus_county = df.ClientAddressus_ClientAddressus_county.str.lower().str.strip().astype(\"string\")"
   ]
  },
  {
   "cell_type": "code",
   "execution_count": 187,
   "metadata": {},
   "outputs": [],
   "source": [
    "counties = df[df.ClientAddressus_ClientAddressus_state.str.lower() == 'wi'].ClientAddressus_ClientAddressus_county.unique().tolist()\n",
    "counties = list(set([str(name).strip().lower() for name in counties]))\n",
    "counties.sort()\n",
    "# counties\n",
    "with open('./county_names_clients.txt', 'w') as file:\n",
    "    for line in counties:\n",
    "        file.write(f\"{line}\\n\")\n",
    "# df.ClientAddressus_ClientAddressus_county[df.ClientAddressus_ClientAddressus_state.isna()]"
   ]
  },
  {
   "cell_type": "code",
   "execution_count": 158,
   "metadata": {},
   "outputs": [
    {
     "data": {
      "text/html": [
       "<div>\n",
       "<style scoped>\n",
       "    .dataframe tbody tr th:only-of-type {\n",
       "        vertical-align: middle;\n",
       "    }\n",
       "\n",
       "    .dataframe tbody tr th {\n",
       "        vertical-align: top;\n",
       "    }\n",
       "\n",
       "    .dataframe thead th {\n",
       "        text-align: right;\n",
       "    }\n",
       "</style>\n",
       "<table border=\"1\" class=\"dataframe\">\n",
       "  <thead>\n",
       "    <tr style=\"text-align: right;\">\n",
       "      <th></th>\n",
       "      <th>Client_Id</th>\n",
       "      <th>Client_CreateStamp</th>\n",
       "      <th>Client_EditStamp</th>\n",
       "      <th>ClientOption_PreferredLanguageOfCaller</th>\n",
       "      <th>ClientSystem_PreferredLanguageOther</th>\n",
       "      <th>ClientAddressus_ClientAddressus_city</th>\n",
       "      <th>ClientAddressus_ClientAddressus_county</th>\n",
       "      <th>ClientAddressus_ClientAddressus_state</th>\n",
       "      <th>ClientAddressus_ClientAddressus_zip</th>\n",
       "      <th>ClientCustom_AgeOfPersonNeedingAssistance</th>\n",
       "      <th>ClientCustom_EthnicityOther</th>\n",
       "      <th>ClientOption_GenderOptionId</th>\n",
       "      <th>ClientOption_VeteranStatusOptionlist</th>\n",
       "    </tr>\n",
       "  </thead>\n",
       "  <tbody>\n",
       "  </tbody>\n",
       "</table>\n",
       "</div>"
      ],
      "text/plain": [
       "Empty DataFrame\n",
       "Columns: [Client_Id, Client_CreateStamp, Client_EditStamp, ClientOption_PreferredLanguageOfCaller, ClientSystem_PreferredLanguageOther, ClientAddressus_ClientAddressus_city, ClientAddressus_ClientAddressus_county, ClientAddressus_ClientAddressus_state, ClientAddressus_ClientAddressus_zip, ClientCustom_AgeOfPersonNeedingAssistance, ClientCustom_EthnicityOther, ClientOption_GenderOptionId, ClientOption_VeteranStatusOptionlist]\n",
       "Index: []"
      ]
     },
     "execution_count": 158,
     "metadata": {},
     "output_type": "execute_result"
    }
   ],
   "source": [
    "# df.loc[(df.ClientAddressus_ClientAddressus_state.str.lower() == 'wi') & (df.ClientAddressus_ClientAddressus_county.str.strip().str.lower() == ''), 'ClientAddressus_ClientAddressus_county'] = 'milwaukee'\n",
    "# df[(df.ClientAddressus_ClientAddressus_state.str.lower() == 'wi') & (df.ClientAddressus_ClientAddressus_county.str.strip().str.lower() == '')]"
   ]
  },
  {
   "cell_type": "code",
   "execution_count": 165,
   "metadata": {},
   "outputs": [
    {
     "data": {
      "text/plain": [
       "[]"
      ]
     },
     "execution_count": 165,
     "metadata": {},
     "output_type": "execute_result"
    }
   ],
   "source": [
    "cities = df[(df.ClientAddressus_ClientAddressus_state.str.lower() == 'wi') & (df.ClientAddressus_ClientAddressus_county.str.strip().str.lower() == 'wi')].ClientAddressus_ClientAddressus_city.tolist()\n",
    "cities = list(set([str(city).strip().lower() for city in cities]))\n",
    "cities"
   ]
  },
  {
   "cell_type": "markdown",
   "metadata": {},
   "source": [
    "## cleaning and standardizing counties\n",
    "\n",
    "in total 116 modifications are required to standardize the county names in the client csv file so that it can be mapped with SVI county data."
   ]
  },
  {
   "cell_type": "code",
   "execution_count": 237,
   "metadata": {},
   "outputs": [],
   "source": [
    "# for state and  county 'wi'\n",
    "# wausau -> marathon \n",
    "# waukesha -> waukesha\n",
    "# milwaukee -> milwaukee\n",
    "# miwaukee -> milwaukee\n",
    "# columbus -> columbia\n",
    "# racine -> racine\n",
    "# madison -> dane\n",
    "# rothschild -> marathon\n",
    "\n",
    "# # for state wi and  county 'wisconsin' \n",
    "# sun prairie -> dane\n",
    "# spring green -> sauk\n",
    "# baldwin -> st. croix\n",
    "# deerbrook -> langlade \n",
    "# onalaska -> la crosse\n",
    "# milwaukee -> milwaukee\n",
    "# mcfarland -> dane\n",
    "# fitchburg -> dane\n",
    "# madison -> dane\n",
    "\n",
    "# # for state and  county 'county' \n",
    "# weston -> marathon\n",
    "# milwaukee -> milwaukee\n",
    "\n",
    "df.loc[(df.ClientAddressus_ClientAddressus_state.str.strip().str.lower() == 'wi') \n",
    "    & (df.ClientAddressus_ClientAddressus_county.str.strip().str.lower() == 'wi') \n",
    "    & (df.ClientAddressus_ClientAddressus_city.str.strip().str.lower() == 'wausau'), 'ClientAddressus_ClientAddressus_county'] = 'marathon'\n",
    "\n",
    "df.loc[(df.ClientAddressus_ClientAddressus_state.str.strip().str.lower() == 'wi') \n",
    "    & (df.ClientAddressus_ClientAddressus_county.str.strip().str.lower() == 'wi') \n",
    "    & (df.ClientAddressus_ClientAddressus_city.str.strip().str.lower() == 'waukesha'), 'ClientAddressus_ClientAddressus_county'] = 'waukesha'\n",
    "\n",
    "df.loc[(df.ClientAddressus_ClientAddressus_state.str.strip().str.lower() == 'wi') \n",
    "    & (df.ClientAddressus_ClientAddressus_county.str.strip().str.lower() == 'wi') \n",
    "    & (df.ClientAddressus_ClientAddressus_city.str.strip().str.lower() == 'milwaukee'), 'ClientAddressus_ClientAddressus_county'] = 'milwaukee'\n",
    "\n",
    "df.loc[(df.ClientAddressus_ClientAddressus_state.str.strip().str.lower() == 'wi') \n",
    "    & (df.ClientAddressus_ClientAddressus_county.str.strip().str.lower() == 'wi') \n",
    "    & (df.ClientAddressus_ClientAddressus_city.str.strip().str.lower() == 'miwaukee'), 'ClientAddressus_ClientAddressus_county'] = 'milwaukee'\n",
    "\n",
    "df.loc[(df.ClientAddressus_ClientAddressus_state.str.strip().str.lower() == 'wi') \n",
    "    & (df.ClientAddressus_ClientAddressus_county.str.strip().str.lower() == 'wi') \n",
    "    & (df.ClientAddressus_ClientAddressus_city.str.strip().str.lower() == 'columbus'), 'ClientAddressus_ClientAddressus_county'] = 'columbia'\n",
    "\n",
    "df.loc[(df.ClientAddressus_ClientAddressus_state.str.strip().str.lower() == 'wi') \n",
    "    & (df.ClientAddressus_ClientAddressus_county.str.strip().str.lower() == 'wi') \n",
    "    & (df.ClientAddressus_ClientAddressus_city.str.strip().str.lower() == 'racine'), 'ClientAddressus_ClientAddressus_county'] = 'racine'\n",
    "\n",
    "df.loc[(df.ClientAddressus_ClientAddressus_state.str.strip().str.lower() == 'wi') \n",
    "    & (df.ClientAddressus_ClientAddressus_county.str.strip().str.lower() == 'wi') \n",
    "    & (df.ClientAddressus_ClientAddressus_city.str.strip().str.lower() == 'madison'), 'ClientAddressus_ClientAddressus_county'] = 'dane'\n",
    "\n",
    "df.loc[(df.ClientAddressus_ClientAddressus_state.str.strip().str.lower() == 'wi') \n",
    "    & (df.ClientAddressus_ClientAddressus_county.str.strip().str.lower() == 'wi') \n",
    "    & (df.ClientAddressus_ClientAddressus_city.str.strip().str.lower() == 'rothschild'), 'ClientAddressus_ClientAddressus_county'] = 'marathon'\n",
    "\n",
    "df.loc[(df.ClientAddressus_ClientAddressus_state.str.strip().str.lower() == 'wi') \n",
    "    & (df.ClientAddressus_ClientAddressus_county.str.strip().str.lower() == 'wisconsin') \n",
    "    & (df.ClientAddressus_ClientAddressus_city.str.strip().str.lower() == 'sun prairie'), 'ClientAddressus_ClientAddressus_county'] = 'dane'\n",
    "\n",
    "\n",
    "df.loc[(df.ClientAddressus_ClientAddressus_state.str.strip().str.lower() == 'wi') \n",
    "    & (df.ClientAddressus_ClientAddressus_county.str.strip().str.lower() == 'wisconsin') \n",
    "    & (df.ClientAddressus_ClientAddressus_city.str.strip().str.lower() == 'spring green'), 'ClientAddressus_ClientAddressus_county'] = 'sauk'\n",
    "\n",
    "df.loc[(df.ClientAddressus_ClientAddressus_state.str.strip().str.lower() == 'wi') \n",
    "    & (df.ClientAddressus_ClientAddressus_county.str.strip().str.lower() == 'wisconsin') \n",
    "    & (df.ClientAddressus_ClientAddressus_city.str.strip().str.lower() == 'baldwin'), 'ClientAddressus_ClientAddressus_county'] = 'st. croix'\n",
    "\n",
    "df.loc[(df.ClientAddressus_ClientAddressus_state.str.strip().str.lower() == 'wi') \n",
    "    & (df.ClientAddressus_ClientAddressus_county.str.strip().str.lower() == 'wisconsin') \n",
    "    & (df.ClientAddressus_ClientAddressus_city.str.strip().str.lower() == 'deerbrook'), 'ClientAddressus_ClientAddressus_county'] = 'langlade'\n",
    "\n",
    "df.loc[(df.ClientAddressus_ClientAddressus_state.str.strip().str.lower() == 'wi') \n",
    "    & (df.ClientAddressus_ClientAddressus_county.str.strip().str.lower() == 'wisconsin') \n",
    "    & (df.ClientAddressus_ClientAddressus_city.str.strip().str.lower() == 'onalaska'), 'ClientAddressus_ClientAddressus_county'] = 'la crosse'\n",
    "\n",
    "df.loc[(df.ClientAddressus_ClientAddressus_state.str.strip().str.lower() == 'wi') \n",
    "    & (df.ClientAddressus_ClientAddressus_county.str.strip().str.lower() == 'wisconsin') \n",
    "    & (df.ClientAddressus_ClientAddressus_city.str.strip().str.lower() == 'milwaukee'), 'ClientAddressus_ClientAddressus_county'] = 'milwaukee'\n",
    "\n",
    "df.loc[(df.ClientAddressus_ClientAddressus_state.str.strip().str.lower() == 'wi') \n",
    "    & (df.ClientAddressus_ClientAddressus_county.str.strip().str.lower() == 'wisconsin') \n",
    "    & (df.ClientAddressus_ClientAddressus_city.str.strip().str.lower() == 'mcfarland'), 'ClientAddressus_ClientAddressus_county'] = 'dane'\n",
    "\n",
    "df.loc[(df.ClientAddressus_ClientAddressus_state.str.strip().str.lower() == 'wi') \n",
    "    & (df.ClientAddressus_ClientAddressus_county.str.strip().str.lower() == 'wisconsin') \n",
    "    & (df.ClientAddressus_ClientAddressus_city.str.strip().str.lower() == 'fitchburg'), 'ClientAddressus_ClientAddressus_county'] = 'dane'\n",
    "\n",
    "df.loc[(df.ClientAddressus_ClientAddressus_state.str.strip().str.lower() == 'wi') \n",
    "    & (df.ClientAddressus_ClientAddressus_county.str.strip().str.lower() == 'wisconsin') \n",
    "    & (df.ClientAddressus_ClientAddressus_city.str.strip().str.lower() == 'madison'), 'ClientAddressus_ClientAddressus_county'] = 'dane'\n",
    "\n",
    "df.loc[(df.ClientAddressus_ClientAddressus_state.str.strip().str.lower() == 'wi') \n",
    "    & (df.ClientAddressus_ClientAddressus_county.str.strip().str.lower() == 'county') \n",
    "    & (df.ClientAddressus_ClientAddressus_city.str.strip().str.lower() == 'weston'), 'ClientAddressus_ClientAddressus_county'] = 'marathon'\n",
    "\n",
    "df.loc[(df.ClientAddressus_ClientAddressus_state.str.strip().str.lower() == 'wi') \n",
    "    & (df.ClientAddressus_ClientAddressus_county.str.strip().str.lower() == 'county') \n",
    "    & (df.ClientAddressus_ClientAddressus_city.str.strip().str.lower() == 'milwaukee'), 'ClientAddressus_ClientAddressus_county'] = 'milwaukee'"
   ]
  },
  {
   "cell_type": "code",
   "execution_count": 151,
   "metadata": {},
   "outputs": [],
   "source": [
    "# check the count if necessary\n",
    "# df[(df.ClientAddressus_ClientAddressus_state.str.strip().str.lower() == 'wi') \n",
    "#     & (df.ClientAddressus_ClientAddressus_county.str.strip().str.lower() == 'marathon') \n",
    "#     & (df.ClientAddressus_ClientAddressus_city.str.strip().str.lower() == 'wausau')]"
   ]
  },
  {
   "cell_type": "code",
   "execution_count": 238,
   "metadata": {},
   "outputs": [],
   "source": [
    "# fixing mis-filled county names\n",
    "df.loc[(df.ClientAddressus_ClientAddressus_state.str.lower() == 'wi') & (df.ClientAddressus_ClientAddressus_county.str.strip().str.lower() == ''), 'ClientAddressus_ClientAddressus_county'] = 'milwaukee'\n",
    "df.loc[(df.ClientAddressus_ClientAddressus_state.str.lower() == 'wi') & (df.ClientAddressus_ClientAddressus_county.str.strip().str.lower() == '53172'), 'ClientAddressus_ClientAddressus_county'] = 'milwaukee'\n",
    "df.loc[(df.ClientAddressus_ClientAddressus_state.str.lower() == 'wi') & (df.ClientAddressus_ClientAddressus_county.str.strip().str.lower() == '53206'), 'ClientAddressus_ClientAddressus_county'] = 'milwaukee'\n",
    "df.loc[(df.ClientAddressus_ClientAddressus_state.str.lower() == 'wi') & (df.ClientAddressus_ClientAddressus_county.str.strip().str.lower() == '53208'), 'ClientAddressus_ClientAddressus_county'] = 'milwaukee'\n",
    "df.loc[(df.ClientAddressus_ClientAddressus_state.str.lower() == 'wi') & (df.ClientAddressus_ClientAddressus_county.str.strip().str.lower() == '53910'), 'ClientAddressus_ClientAddressus_county'] = 'Adams'\n",
    "df.loc[(df.ClientAddressus_ClientAddressus_state.str.lower() == 'wi') & (df.ClientAddressus_ClientAddressus_county.str.strip().str.lower() == 'appleton'), 'ClientAddressus_ClientAddressus_county'] = 'outagamie'\n",
    "df.loc[(df.ClientAddressus_ClientAddressus_state.str.lower() == 'wi') & (df.ClientAddressus_ClientAddressus_county.str.strip().str.lower() == 'beloit'), 'ClientAddressus_ClientAddressus_county'] = 'rock'\n",
    "df.loc[(df.ClientAddressus_ClientAddressus_state.str.lower() == 'wi') & (df.ClientAddressus_ClientAddressus_county.str.strip().str.lower() == 'brown county'), 'ClientAddressus_ClientAddressus_county'] = 'brown'\n",
    "df.loc[(df.ClientAddressus_ClientAddressus_state.str.lower() == 'wi') & (df.ClientAddressus_ClientAddressus_county.str.strip().str.lower() == 'brown deer'), 'ClientAddressus_ClientAddressus_county'] = 'milwaukee'\n",
    "df.loc[(df.ClientAddressus_ClientAddressus_state.str.lower() == 'wi') & (df.ClientAddressus_ClientAddressus_county.str.strip().str.lower() == 'bufflo'), 'ClientAddressus_ClientAddressus_county'] = 'buffalo'\n",
    "df.loc[(df.ClientAddressus_ClientAddressus_state.str.lower() == 'wi') & (df.ClientAddressus_ClientAddressus_county.str.strip().str.lower() == 'burlington'), 'ClientAddressus_ClientAddressus_county'] = 'racine'\n",
    "df.loc[(df.ClientAddressus_ClientAddressus_state.str.lower() == 'wi') & (df.ClientAddressus_ClientAddressus_county.str.strip().str.lower() == 'canton'), 'ClientAddressus_ClientAddressus_county'] = 'barron'\n",
    "df.loc[(df.ClientAddressus_ClientAddressus_state.str.lower() == 'wi') & (df.ClientAddressus_ClientAddressus_county.str.strip().str.lower() == 'chippewa county'), 'ClientAddressus_ClientAddressus_county'] = 'chippewa'\n",
    "df.loc[(df.ClientAddressus_ClientAddressus_state.str.lower() == 'wi') & (df.ClientAddressus_ClientAddressus_county.str.strip().str.lower() == 'chippewa falls'), 'ClientAddressus_ClientAddressus_county'] = 'chippewa'\n",
    "df.loc[(df.ClientAddressus_ClientAddressus_state.str.lower() == 'wi') & (df.ClientAddressus_ClientAddressus_county.str.strip().str.lower() == 'columbus'), 'ClientAddressus_ClientAddressus_county'] = 'columbia'\n",
    "df.loc[(df.ClientAddressus_ClientAddressus_state.str.lower() == 'wi') & (df.ClientAddressus_ClientAddressus_county.str.strip().str.lower() == 'cudahy'), 'ClientAddressus_ClientAddressus_county'] = 'milwaukee'\n",
    "df.loc[(df.ClientAddressus_ClientAddressus_state.str.lower() == 'wi') & (df.ClientAddressus_ClientAddressus_county.str.strip().str.lower() == 'dan'), 'ClientAddressus_ClientAddressus_county'] = 'dane'\n",
    "df.loc[(df.ClientAddressus_ClientAddressus_state.str.lower() == 'wi') & (df.ClientAddressus_ClientAddressus_county.str.strip().str.lower() == 'dane county'), 'ClientAddressus_ClientAddressus_county'] = 'dane'\n",
    "df.loc[(df.ClientAddressus_ClientAddressus_state.str.lower() == 'wi') & (df.ClientAddressus_ClientAddressus_county.str.strip().str.lower() == 'fon du lac'), 'ClientAddressus_ClientAddressus_county'] = 'fond du lac'\n",
    "df.loc[(df.ClientAddressus_ClientAddressus_state.str.lower() == 'wi') & (df.ClientAddressus_ClientAddressus_county.str.strip().str.lower() == 'fondulac'), 'ClientAddressus_ClientAddressus_county'] = 'fond du lac'\n",
    "df.loc[(df.ClientAddressus_ClientAddressus_state.str.lower() == 'wi') & (df.ClientAddressus_ClientAddressus_county.str.strip().str.lower() == 'foundulac'), 'ClientAddressus_ClientAddressus_county'] = 'fond du lac'\n",
    "df.loc[(df.ClientAddressus_ClientAddressus_state.str.lower() == 'wi') & (df.ClientAddressus_ClientAddressus_county.str.strip().str.lower() == 'franklin'), 'ClientAddressus_ClientAddressus_county'] = 'milwaukee'\n",
    "df.loc[(df.ClientAddressus_ClientAddressus_state.str.lower() == 'wi') & (df.ClientAddressus_ClientAddressus_county.str.strip().str.lower() == 'glendale'), 'ClientAddressus_ClientAddressus_county'] = 'milwaukee'\n",
    "df.loc[(df.ClientAddressus_ClientAddressus_state.str.lower() == 'wi') & (df.ClientAddressus_ClientAddressus_county.str.strip().str.lower() == 'greenbay'), 'ClientAddressus_ClientAddressus_county'] = 'brown'\n",
    "df.loc[(df.ClientAddressus_ClientAddressus_state.str.lower() == 'wi') & (df.ClientAddressus_ClientAddressus_county.str.strip().str.lower() == 'greenfield'), 'ClientAddressus_ClientAddressus_county'] = 'milwaukee'\n",
    "df.loc[(df.ClientAddressus_ClientAddressus_state.str.lower() == 'wi') & (df.ClientAddressus_ClientAddressus_county.str.strip().str.lower() == 'lacrosse'), 'ClientAddressus_ClientAddressus_county'] = 'la crosse'\n",
    "df.loc[(df.ClientAddressus_ClientAddressus_state.str.lower() == 'wi') & (df.ClientAddressus_ClientAddressus_county.str.strip().str.lower() == 'landlake'), 'ClientAddressus_ClientAddressus_county'] = 'barron'\n",
    "df.loc[(df.ClientAddressus_ClientAddressus_state.str.lower() == 'wi') & (df.ClientAddressus_ClientAddressus_county.str.strip().str.lower() == 'madison'), 'ClientAddressus_ClientAddressus_county'] = 'dane'\n",
    "df.loc[(df.ClientAddressus_ClientAddressus_state.str.lower() == 'wi') & (df.ClientAddressus_ClientAddressus_county.str.strip().str.lower() == 'marshfield'), 'ClientAddressus_ClientAddressus_county'] = 'marathon'\n",
    "df.loc[(df.ClientAddressus_ClientAddressus_state.str.lower() == 'wi') & (df.ClientAddressus_ClientAddressus_county.str.strip().str.lower() == 'miilwaukee'), 'ClientAddressus_ClientAddressus_county'] = 'milwaukee'\n",
    "df.loc[(df.ClientAddressus_ClientAddressus_state.str.lower() == 'wi') & (df.ClientAddressus_ClientAddressus_county.str.strip().str.lower() == 'milaukee'), 'ClientAddressus_ClientAddressus_county'] = 'milwaukee'\n",
    "df.loc[(df.ClientAddressus_ClientAddressus_state.str.lower() == 'wi') & (df.ClientAddressus_ClientAddressus_county.str.strip().str.lower() == 'milwakee'), 'ClientAddressus_ClientAddressus_county'] = 'milwaukee'\n",
    "df.loc[(df.ClientAddressus_ClientAddressus_state.str.lower() == 'wi') & (df.ClientAddressus_ClientAddressus_county.str.strip().str.lower() == 'milwauke'), 'ClientAddressus_ClientAddressus_county'] = 'milwaukee'\n",
    "df.loc[(df.ClientAddressus_ClientAddressus_state.str.lower() == 'wi') & (df.ClientAddressus_ClientAddressus_county.str.strip().str.lower() == 'milwaukee `'), 'ClientAddressus_ClientAddressus_county'] = 'milwaukee'\n",
    "df.loc[(df.ClientAddressus_ClientAddressus_state.str.lower() == 'wi') & (df.ClientAddressus_ClientAddressus_county.str.strip().str.lower() == 'milwaukee county'), 'ClientAddressus_ClientAddressus_county'] = 'milwaukee'\n",
    "df.loc[(df.ClientAddressus_ClientAddressus_state.str.lower() == 'wi') & (df.ClientAddressus_ClientAddressus_county.str.strip().str.lower() == 'milwaukeecaller says she was put out of her moms house today and seeking shelter.'), 'ClientAddressus_ClientAddressus_county'] = 'milwaukee'\n",
    "df.loc[(df.ClientAddressus_ClientAddressus_state.str.lower() == 'wi') & (df.ClientAddressus_ClientAddressus_county.str.strip().str.lower() == 'milwaukkee'), 'ClientAddressus_ClientAddressus_county'] = 'milwaukee'\n",
    "df.loc[(df.ClientAddressus_ClientAddressus_state.str.lower() == 'wi') & (df.ClientAddressus_ClientAddressus_county.str.strip().str.lower() == 'milwuakee'), 'ClientAddressus_ClientAddressus_county'] = 'milwaukee'\n",
    "df.loc[(df.ClientAddressus_ClientAddressus_state.str.lower() == 'wi') & (df.ClientAddressus_ClientAddressus_county.str.strip().str.lower() == 'milwukee'), 'ClientAddressus_ClientAddressus_county'] = 'milwaukee'\n",
    "df.loc[(df.ClientAddressus_ClientAddressus_state.str.lower() == 'wi') & (df.ClientAddressus_ClientAddressus_county.str.strip().str.lower() == 'miwaukee'), 'ClientAddressus_ClientAddressus_county'] = 'milwaukee'\n",
    "df.loc[(df.ClientAddressus_ClientAddressus_state.str.lower() == 'wi') & (df.ClientAddressus_ClientAddressus_county.str.strip().str.lower() == 'mukwango'), 'ClientAddressus_ClientAddressus_county'] = 'walworth'\n",
    "df.loc[(df.ClientAddressus_ClientAddressus_state.str.lower() == 'wi') & (df.ClientAddressus_ClientAddressus_county.str.strip().str.lower() == 'onieda'), 'ClientAddressus_ClientAddressus_county'] = 'oneida'\n",
    "df.loc[(df.ClientAddressus_ClientAddressus_state.str.lower() == 'wi') & (df.ClientAddressus_ClientAddressus_county.str.strip().str.lower() == 'oshkosh'), 'ClientAddressus_ClientAddressus_county'] = 'winnebago'\n",
    "df.loc[(df.ClientAddressus_ClientAddressus_state.str.lower() == 'wi') & (df.ClientAddressus_ClientAddressus_county.str.strip().str.lower() == 'out'), 'ClientAddressus_ClientAddressus_county'] = 'outagamie'\n",
    "df.loc[(df.ClientAddressus_ClientAddressus_state.str.lower() == 'wi') & (df.ClientAddressus_ClientAddressus_county.str.strip().str.lower() == 'outagmie'), 'ClientAddressus_ClientAddressus_county'] = 'outagamie'\n",
    "df.loc[(df.ClientAddressus_ClientAddressus_state.str.lower() == 'wi') & (df.ClientAddressus_ClientAddressus_county.str.strip().str.lower() == 'outgamie'), 'ClientAddressus_ClientAddressus_county'] = 'outagamie'\n",
    "df.loc[(df.ClientAddressus_ClientAddressus_state.str.lower() == 'wi') & (df.ClientAddressus_ClientAddressus_county.str.strip().str.lower() == 'ozaikee'), 'ClientAddressus_ClientAddressus_county'] = 'ozaukee'\n",
    "df.loc[(df.ClientAddressus_ClientAddressus_state.str.lower() == 'wi') & (df.ClientAddressus_ClientAddressus_county.str.strip().str.lower() == 'ozakee'), 'ClientAddressus_ClientAddressus_county'] = 'ozaukee'\n",
    "df.loc[(df.ClientAddressus_ClientAddressus_state.str.lower() == 'wi') & (df.ClientAddressus_ClientAddressus_county.str.strip().str.lower() == 'plover'), 'ClientAddressus_ClientAddressus_county'] = 'portage'\n",
    "df.loc[(df.ClientAddressus_ClientAddressus_state.str.lower() == 'wi') & (df.ClientAddressus_ClientAddressus_county.str.strip().str.lower() == 'racince'), 'ClientAddressus_ClientAddressus_county'] = 'racine'\n",
    "df.loc[(df.ClientAddressus_ClientAddressus_state.str.lower() == 'wi') & (df.ClientAddressus_ClientAddressus_county.str.strip().str.lower() == 'rhinelander'), 'ClientAddressus_ClientAddressus_county'] = 'oneida'\n",
    "df.loc[(df.ClientAddressus_ClientAddressus_state.str.lower() == 'wi') & (df.ClientAddressus_ClientAddressus_county.str.strip().str.lower() == 'rice lake'), 'ClientAddressus_ClientAddressus_county'] = 'barron'\n",
    "df.loc[(df.ClientAddressus_ClientAddressus_state.str.lower() == 'wi') & (df.ClientAddressus_ClientAddressus_county.str.strip().str.lower() == 'ridgeland'), 'ClientAddressus_ClientAddressus_county'] = 'richland'\n",
    "df.loc[(df.ClientAddressus_ClientAddressus_state.str.lower() == 'wi') & (df.ClientAddressus_ClientAddressus_county.str.strip().str.lower() == 'rock county'), 'ClientAddressus_ClientAddressus_county'] = 'rock'\n",
    "df.loc[(df.ClientAddressus_ClientAddressus_state.str.lower() == 'wi') & (df.ClientAddressus_ClientAddressus_county.str.strip().str.lower() == 'rock county'), 'ClientAddressus_ClientAddressus_county'] = 'rock'\n",
    "df.loc[(df.ClientAddressus_ClientAddressus_state.str.lower() == 'wi') & (df.ClientAddressus_ClientAddressus_county.str.strip().str.lower() == 'rock608-758-0974'), 'ClientAddressus_ClientAddressus_county'] = 'rock'\n",
    "df.loc[(df.ClientAddressus_ClientAddressus_state.str.lower() == 'wi') & (df.ClientAddressus_ClientAddressus_county.str.strip().str.lower() == 'saint croix'), 'ClientAddressus_ClientAddressus_county'] = 'st. croix'\n",
    "df.loc[(df.ClientAddressus_ClientAddressus_state.str.lower() == 'wi') & (df.ClientAddressus_ClientAddressus_county.str.strip().str.lower() == 'shanwano'), 'ClientAddressus_ClientAddressus_county'] = 'shawano'\n",
    "df.loc[(df.ClientAddressus_ClientAddressus_state.str.lower() == 'wi') & (df.ClientAddressus_ClientAddressus_county.str.strip().str.lower() == 'shawno'), 'ClientAddressus_ClientAddressus_county'] = 'shawano'\n",
    "df.loc[(df.ClientAddressus_ClientAddressus_state.str.lower() == 'wi') & (df.ClientAddressus_ClientAddressus_county.str.strip().str.lower() == 'st croix'), 'ClientAddressus_ClientAddressus_county'] = 'st. croix'\n",
    "df.loc[(df.ClientAddressus_ClientAddressus_state.str.lower() == 'wi') & (df.ClientAddressus_ClientAddressus_county.str.strip().str.lower() == 'st. croix county'), 'ClientAddressus_ClientAddressus_county'] = 'st. croix'\n",
    "df.loc[(df.ClientAddressus_ClientAddressus_state.str.lower() == 'wi') & (df.ClientAddressus_ClientAddressus_county.str.strip().str.lower() == 'st. joseph'), 'ClientAddressus_ClientAddressus_county'] = 'st. croix'\n",
    "df.loc[(df.ClientAddressus_ClientAddressus_state.str.lower() == 'wi') & (df.ClientAddressus_ClientAddressus_county.str.strip().str.lower() == 'sturtevant'), 'ClientAddressus_ClientAddressus_county'] = 'racine'\n",
    "df.loc[(df.ClientAddressus_ClientAddressus_state.str.lower() == 'wi') & (df.ClientAddressus_ClientAddressus_county.str.strip().str.lower() == 'suamico'), 'ClientAddressus_ClientAddressus_county'] = 'brown'\n",
    "df.loc[(df.ClientAddressus_ClientAddressus_state.str.lower() == 'wi') & (df.ClientAddressus_ClientAddressus_county.str.strip().str.lower() == 'sussex'), 'ClientAddressus_ClientAddressus_county'] = 'waukesha'\n",
    "df.loc[(df.ClientAddressus_ClientAddressus_state.str.lower() == 'wi') & (df.ClientAddressus_ClientAddressus_county.str.strip().str.lower() == 'th'), 'ClientAddressus_ClientAddressus_county'] = 'taylor'\n",
    "df.loc[(df.ClientAddressus_ClientAddressus_state.str.lower() == 'wi') & (df.ClientAddressus_ClientAddressus_county.str.strip().str.lower() == 'verona'), 'ClientAddressus_ClientAddressus_county'] = 'vernon'\n",
    "df.loc[(df.ClientAddressus_ClientAddressus_state.str.lower() == 'wi') & (df.ClientAddressus_ClientAddressus_county.str.strip().str.lower() == 'verona'), 'ClientAddressus_ClientAddressus_county'] = 'vernon'\n",
    "df.loc[(df.ClientAddressus_ClientAddressus_state.str.lower() == 'wi') & (df.ClientAddressus_ClientAddressus_county.str.strip().str.lower() == 'walwork'), 'ClientAddressus_ClientAddressus_county'] = 'walworth'\n",
    "df.loc[(df.ClientAddressus_ClientAddressus_state.str.lower() == 'wi') & (df.ClientAddressus_ClientAddressus_county.str.strip().str.lower() == 'walworthy'), 'ClientAddressus_ClientAddressus_county'] = 'walworth'\n",
    "df.loc[(df.ClientAddressus_ClientAddressus_state.str.lower() == 'wi') & (df.ClientAddressus_ClientAddressus_county.str.strip().str.lower() == 'washara'), 'ClientAddressus_ClientAddressus_county'] = 'waushara' \n",
    "df.loc[(df.ClientAddressus_ClientAddressus_state.str.lower() == 'wi') & (df.ClientAddressus_ClientAddressus_county.str.strip().str.lower() == 'washbur'), 'ClientAddressus_ClientAddressus_county'] = 'washburn' \n",
    "df.loc[(df.ClientAddressus_ClientAddressus_state.str.lower() == 'wi') & (df.ClientAddressus_ClientAddressus_county.str.strip().str.lower() == 'washing'), 'ClientAddressus_ClientAddressus_county'] = 'washington' \n",
    "df.loc[(df.ClientAddressus_ClientAddressus_state.str.lower() == 'wi') & (df.ClientAddressus_ClientAddressus_county.str.strip().str.lower() == 'washingot'), 'ClientAddressus_ClientAddressus_county'] = 'washington' \n",
    "df.loc[(df.ClientAddressus_ClientAddressus_state.str.lower() == 'wi') & (df.ClientAddressus_ClientAddressus_county.str.strip().str.lower() == 'washingtom'), 'ClientAddressus_ClientAddressus_county'] = 'washington' \n",
    "df.loc[(df.ClientAddressus_ClientAddressus_state.str.lower() == 'wi') & (df.ClientAddressus_ClientAddressus_county.str.strip().str.lower() == 'washinton'), 'ClientAddressus_ClientAddressus_county'] = 'washington' \n",
    "df.loc[(df.ClientAddressus_ClientAddressus_state.str.lower() == 'wi') & (df.ClientAddressus_ClientAddressus_county.str.strip().str.lower() == 'watertown'), 'ClientAddressus_ClientAddressus_county'] = 'dodge' \n",
    "df.loc[(df.ClientAddressus_ClientAddressus_state.str.lower() == 'wi') & (df.ClientAddressus_ClientAddressus_county.str.strip().str.lower() == 'wakeshauea'), 'ClientAddressus_ClientAddressus_county'] = 'waukesha' \n",
    "df.loc[(df.ClientAddressus_ClientAddressus_state.str.lower() == 'wi') & (df.ClientAddressus_ClientAddressus_county.str.strip().str.lower() == 'waukesah'), 'ClientAddressus_ClientAddressus_county'] = 'waukesha' \n",
    "df.loc[(df.ClientAddressus_ClientAddressus_state.str.lower() == 'wi') & (df.ClientAddressus_ClientAddressus_county.str.strip().str.lower() == 'waukesaha'), 'ClientAddressus_ClientAddressus_county'] = 'waukesha' \n",
    "df.loc[(df.ClientAddressus_ClientAddressus_state.str.lower() == 'wi') & (df.ClientAddressus_ClientAddressus_county.str.strip().str.lower() == 'waukesha'), 'ClientAddressus_ClientAddressus_county'] = 'waukesha' \n",
    "df.loc[(df.ClientAddressus_ClientAddressus_state.str.lower() == 'wi') & (df.ClientAddressus_ClientAddressus_county.str.strip().str.lower() == 'waukeshaw'), 'ClientAddressus_ClientAddressus_county'] = 'waukesha' \n",
    "df.loc[(df.ClientAddressus_ClientAddressus_state.str.lower() == 'wi') & (df.ClientAddressus_ClientAddressus_county.str.strip().str.lower() == 'waupaka'), 'ClientAddressus_ClientAddressus_county'] = 'waupaca' \n",
    "df.loc[(df.ClientAddressus_ClientAddressus_state.str.lower() == 'wi') & (df.ClientAddressus_ClientAddressus_county.str.strip().str.lower() == 'wausau'), 'ClientAddressus_ClientAddressus_county'] = 'marathon' \n",
    "df.loc[(df.ClientAddressus_ClientAddressus_state.str.lower() == 'wi') & (df.ClientAddressus_ClientAddressus_county.str.strip().str.lower() == 'wauwatosa'), 'ClientAddressus_ClientAddressus_county'] = 'milwaukee' \n",
    "df.loc[(df.ClientAddressus_ClientAddressus_state.str.lower() == 'wi') & (df.ClientAddressus_ClientAddressus_county.str.strip().str.lower() == 'welworth'), 'ClientAddressus_ClientAddressus_county'] = 'walworth' \n",
    "df.loc[(df.ClientAddressus_ClientAddressus_state.str.lower() == 'wi') & (df.ClientAddressus_ClientAddressus_county.str.strip().str.lower() == 'west allis'), 'ClientAddressus_ClientAddressus_county'] = 'milwaukee' \n",
    "df.loc[(df.ClientAddressus_ClientAddressus_state.str.lower() == 'wi') & (df.ClientAddressus_ClientAddressus_county.str.strip().str.lower() == 'west bend5'), 'ClientAddressus_ClientAddressus_county'] = 'washington' \n",
    "df.loc[(df.ClientAddressus_ClientAddressus_state.str.lower() == 'wi') & (df.ClientAddressus_ClientAddressus_county.str.strip().str.lower() == 'westfield'), 'ClientAddressus_ClientAddressus_county'] = 'marquette' \n",
    "df.loc[(df.ClientAddressus_ClientAddressus_state.str.lower() == 'wi') & (df.ClientAddressus_ClientAddressus_county.str.strip().str.lower() == 'woods'), 'ClientAddressus_ClientAddressus_county'] = 'wood' \n",
    "df.loc[(df.ClientAddressus_ClientAddressus_state.str.lower() == 'wi') & (df.ClientAddressus_ClientAddressus_county.str.strip().str.lower() == 'baron'), 'ClientAddressus_ClientAddressus_county'] = 'barron' \n",
    "df.loc[(df.ClientAddressus_ClientAddressus_state.str.lower() == 'wi') & (df.ClientAddressus_ClientAddressus_county.str.strip().str.lower() == 'landglade'), 'ClientAddressus_ClientAddressus_county'] = 'langlade'"
   ]
  },
  {
   "cell_type": "code",
   "execution_count": 239,
   "metadata": {},
   "outputs": [],
   "source": [
    "df = df.drop(df[(df.ClientAddressus_ClientAddressus_state.str.lower() == 'wi') & (df.ClientAddressus_ClientAddressus_county.str.strip().str.lower() == 'canada')].index)\n",
    "df = df.drop(df[(df.ClientAddressus_ClientAddressus_state.str.lower() == 'wi') & (df.ClientAddressus_ClientAddressus_county.str.strip().str.lower() == 'florida')].index)\n",
    "df = df.drop(df[(df.ClientAddressus_ClientAddressus_state.str.lower() == 'wi') & (df.ClientAddressus_ClientAddressus_county.str.strip().str.lower() == 'macomb')].index)\n",
    "df = df.drop(df[(df.ClientAddressus_ClientAddressus_state.str.lower() == 'wi') & (df.ClientAddressus_ClientAddressus_county.str.strip().str.lower() == 'maricopa')].index)\n",
    "df = df.drop(df[(df.ClientAddressus_ClientAddressus_state.str.lower() == 'wi') & (df.ClientAddressus_ClientAddressus_county.str.strip().str.lower() == 'refused')].index)"
   ]
  },
  {
   "cell_type": "code",
   "execution_count": 240,
   "metadata": {},
   "outputs": [
    {
     "data": {
      "text/plain": [
       "(796761, 13)"
      ]
     },
     "execution_count": 240,
     "metadata": {},
     "output_type": "execute_result"
    }
   ],
   "source": [
    "# should be (796761, 13)\n",
    "df.shape"
   ]
  },
  {
   "cell_type": "markdown",
   "metadata": {},
   "source": [
    "## modifying zip codes\n",
    "11 modifications are required to standardize zip codes"
   ]
  },
  {
   "cell_type": "code",
   "execution_count": null,
   "metadata": {},
   "outputs": [],
   "source": [
    "#identifying problematic zip codes with - in the middle\n",
    "\n",
    "df.ClientAddressus_ClientAddressus_zip = df.ClientAddressus_ClientAddressus_zip.astype(\"string\")\n",
    "zip_code_list = df.ClientAddressus_ClientAddressus_zip.str.strip().str.lower().unique().tolist()\n",
    "zip_code_list = list(set([str(name).strip().lower() for name in zip_code_list]))\n",
    "zip_code_list = [item for item in zip_code_list if len(item) > 7]\n",
    "zip_code_list.sort()\n",
    "\n",
    "with open('./zip_code_list.txt', 'w') as file:\n",
    "    for line in zip_code_list:\n",
    "        file.write(f\"{line}\\n\")"
   ]
  },
  {
   "cell_type": "code",
   "execution_count": 241,
   "metadata": {},
   "outputs": [],
   "source": [
    "df.loc[df.ClientAddressus_ClientAddressus_zip == '53205-2427', 'ClientAddressus_ClientAddressus_zip'] = '53205'\n",
    "df.loc[df.ClientAddressus_ClientAddressus_zip == '53211-1046', 'ClientAddressus_ClientAddressus_zip'] = '53211'\n",
    "df.loc[df.ClientAddressus_ClientAddressus_zip == '53216-2258', 'ClientAddressus_ClientAddressus_zip'] = '53216'\n",
    "df.loc[df.ClientAddressus_ClientAddressus_zip == '53216-2509', 'ClientAddressus_ClientAddressus_zip'] = '53216'\n",
    "df.loc[df.ClientAddressus_ClientAddressus_zip == '53216-3029', 'ClientAddressus_ClientAddressus_zip'] = '53216'\n",
    "df.loc[df.ClientAddressus_ClientAddressus_zip == '53219-1208', 'ClientAddressus_ClientAddressus_zip'] = '53219'\n",
    "df.loc[df.ClientAddressus_ClientAddressus_zip == '53223-2963', 'ClientAddressus_ClientAddressus_zip'] = '53223'\n",
    "df.loc[df.ClientAddressus_ClientAddressus_zip == '53562-5641', 'ClientAddressus_ClientAddressus_zip'] = '53562'\n",
    "df.loc[df.ClientAddressus_ClientAddressus_zip == '53744-5901', 'ClientAddressus_ClientAddressus_zip'] = '53744'\n",
    "df.loc[df.ClientAddressus_ClientAddressus_zip == '54002-9332', 'ClientAddressus_ClientAddressus_zip'] = '54002'\n",
    "df.loc[df.ClientAddressus_ClientAddressus_zip == '54241-9410', 'ClientAddressus_ClientAddressus_zip'] = '54241'"
   ]
  },
  {
   "cell_type": "code",
   "execution_count": 242,
   "metadata": {},
   "outputs": [
    {
     "data": {
      "text/plain": [
       "(796761, 13)"
      ]
     },
     "execution_count": 242,
     "metadata": {},
     "output_type": "execute_result"
    }
   ],
   "source": [
    "df.shape"
   ]
  },
  {
   "cell_type": "markdown",
   "metadata": {},
   "source": [
    "# ADI Scores"
   ]
  },
  {
   "cell_type": "code",
   "execution_count": 244,
   "metadata": {},
   "outputs": [
    {
     "data": {
      "text/html": [
       "<div>\n",
       "<style scoped>\n",
       "    .dataframe tbody tr th:only-of-type {\n",
       "        vertical-align: middle;\n",
       "    }\n",
       "\n",
       "    .dataframe tbody tr th {\n",
       "        vertical-align: top;\n",
       "    }\n",
       "\n",
       "    .dataframe thead th {\n",
       "        text-align: right;\n",
       "    }\n",
       "</style>\n",
       "<table border=\"1\" class=\"dataframe\">\n",
       "  <thead>\n",
       "    <tr style=\"text-align: right;\">\n",
       "      <th></th>\n",
       "      <th>ZIP_4</th>\n",
       "      <th>GISJOIN</th>\n",
       "      <th>FIPS</th>\n",
       "      <th>ADI_NATRANK</th>\n",
       "      <th>ADI_STATERANK</th>\n",
       "      <th>TYPE</th>\n",
       "    </tr>\n",
       "  </thead>\n",
       "  <tbody>\n",
       "    <tr>\n",
       "      <th>0</th>\n",
       "      <td>530010064</td>\n",
       "      <td>G55011700110002</td>\n",
       "      <td>5.511701e+11</td>\n",
       "      <td>47</td>\n",
       "      <td>4</td>\n",
       "      <td></td>\n",
       "    </tr>\n",
       "    <tr>\n",
       "      <th>1</th>\n",
       "      <td>530010061</td>\n",
       "      <td>G55011700110002</td>\n",
       "      <td>5.511701e+11</td>\n",
       "      <td>47</td>\n",
       "      <td>4</td>\n",
       "      <td></td>\n",
       "    </tr>\n",
       "    <tr>\n",
       "      <th>2</th>\n",
       "      <td>530010063</td>\n",
       "      <td>G55011700110002</td>\n",
       "      <td>5.511701e+11</td>\n",
       "      <td>47</td>\n",
       "      <td>4</td>\n",
       "      <td></td>\n",
       "    </tr>\n",
       "    <tr>\n",
       "      <th>3</th>\n",
       "      <td>530010049</td>\n",
       "      <td>G55011700112001</td>\n",
       "      <td>5.511701e+11</td>\n",
       "      <td>45</td>\n",
       "      <td>3</td>\n",
       "      <td></td>\n",
       "    </tr>\n",
       "    <tr>\n",
       "      <th>4</th>\n",
       "      <td>530010050</td>\n",
       "      <td>G55011700112001</td>\n",
       "      <td>5.511701e+11</td>\n",
       "      <td>45</td>\n",
       "      <td>3</td>\n",
       "      <td></td>\n",
       "    </tr>\n",
       "  </tbody>\n",
       "</table>\n",
       "</div>"
      ],
      "text/plain": [
       "       ZIP_4          GISJOIN          FIPS ADI_NATRANK ADI_STATERANK TYPE\n",
       "0  530010064  G55011700110002  5.511701e+11          47             4     \n",
       "1  530010061  G55011700110002  5.511701e+11          47             4     \n",
       "2  530010063  G55011700110002  5.511701e+11          47             4     \n",
       "3  530010049  G55011700112001  5.511701e+11          45             3     \n",
       "4  530010050  G55011700112001  5.511701e+11          45             3     "
      ]
     },
     "execution_count": 244,
     "metadata": {},
     "output_type": "execute_result"
    }
   ],
   "source": [
    "SOCIOECONOMIC_FILE = '../external_datasets/socioeconomic_dataset/socioeconomic_scores_zipcode.csv'\n",
    "df_socioec_scores = pd.read_csv(SOCIOECONOMIC_FILE)\n",
    "df_socioec_scores.head(5)"
   ]
  },
  {
   "cell_type": "code",
   "execution_count": 245,
   "metadata": {},
   "outputs": [],
   "source": [
    "def clean_adi(df_original):\n",
    "    \n",
    "    # Let's create the cleaned dataset\n",
    "    df_clean = df_original.copy()\n",
    "    \n",
    "    # Extract only 5 digits from zipcode\n",
    "    df_clean['ZIP'] = df_clean['ZIP_4'].astype(str).str[:5]\n",
    "    \n",
    "    # Remove zipcodes that don't have a valid decile\n",
    "    df_clean = df_clean.loc[(df_clean.ADI_STATERANK!='GQ') &\n",
    "                                         (df_clean.ADI_STATERANK!='PH') &\n",
    "                                          (df_clean.ADI_STATERANK!='GQ-PH') &\n",
    "                                        (~df_clean.ADI_STATERANK.isna())\n",
    "                                         ]\n",
    "    # Transform state rank to integer\n",
    "    df_clean['ADI_STATERANK'] = df_clean['ADI_STATERANK'].astype(int)\n",
    "    \n",
    "    # IMPORTANT: Assign each zipcode the average rank from their block neighborhoods \n",
    "    df_clean = df_clean[['ZIP','ADI_STATERANK']].groupby(['ZIP']).\\\n",
    "                                                                agg({'ADI_STATERANK':'mean'}).reset_index()\n",
    "    \n",
    "    \n",
    "    return df_clean[['ZIP','ADI_STATERANK']]"
   ]
  },
  {
   "cell_type": "code",
   "execution_count": 246,
   "metadata": {},
   "outputs": [
    {
     "data": {
      "text/html": [
       "<div>\n",
       "<style scoped>\n",
       "    .dataframe tbody tr th:only-of-type {\n",
       "        vertical-align: middle;\n",
       "    }\n",
       "\n",
       "    .dataframe tbody tr th {\n",
       "        vertical-align: top;\n",
       "    }\n",
       "\n",
       "    .dataframe thead th {\n",
       "        text-align: right;\n",
       "    }\n",
       "</style>\n",
       "<table border=\"1\" class=\"dataframe\">\n",
       "  <thead>\n",
       "    <tr style=\"text-align: right;\">\n",
       "      <th></th>\n",
       "      <th>ZIP</th>\n",
       "      <th>ADI_STATERANK</th>\n",
       "    </tr>\n",
       "  </thead>\n",
       "  <tbody>\n",
       "    <tr>\n",
       "      <th>0</th>\n",
       "      <td>53001</td>\n",
       "      <td>3.680292</td>\n",
       "    </tr>\n",
       "    <tr>\n",
       "      <th>1</th>\n",
       "      <td>53002</td>\n",
       "      <td>4.310638</td>\n",
       "    </tr>\n",
       "    <tr>\n",
       "      <th>2</th>\n",
       "      <td>53003</td>\n",
       "      <td>2.000000</td>\n",
       "    </tr>\n",
       "    <tr>\n",
       "      <th>3</th>\n",
       "      <td>53004</td>\n",
       "      <td>2.960118</td>\n",
       "    </tr>\n",
       "    <tr>\n",
       "      <th>4</th>\n",
       "      <td>53005</td>\n",
       "      <td>1.497231</td>\n",
       "    </tr>\n",
       "  </tbody>\n",
       "</table>\n",
       "</div>"
      ],
      "text/plain": [
       "     ZIP  ADI_STATERANK\n",
       "0  53001       3.680292\n",
       "1  53002       4.310638\n",
       "2  53003       2.000000\n",
       "3  53004       2.960118\n",
       "4  53005       1.497231"
      ]
     },
     "execution_count": 246,
     "metadata": {},
     "output_type": "execute_result"
    }
   ],
   "source": [
    "df_socioec_scores = clean_adi(df_socioec_scores)\n",
    "df_socioec_scores.head(5)"
   ]
  },
  {
   "cell_type": "code",
   "execution_count": 210,
   "metadata": {},
   "outputs": [
    {
     "data": {
      "text/html": [
       "<div>\n",
       "<style scoped>\n",
       "    .dataframe tbody tr th:only-of-type {\n",
       "        vertical-align: middle;\n",
       "    }\n",
       "\n",
       "    .dataframe tbody tr th {\n",
       "        vertical-align: top;\n",
       "    }\n",
       "\n",
       "    .dataframe thead th {\n",
       "        text-align: right;\n",
       "    }\n",
       "</style>\n",
       "<table border=\"1\" class=\"dataframe\">\n",
       "  <thead>\n",
       "    <tr style=\"text-align: right;\">\n",
       "      <th></th>\n",
       "      <th>ZIP</th>\n",
       "      <th>ADI_STATERANK</th>\n",
       "    </tr>\n",
       "  </thead>\n",
       "  <tbody>\n",
       "  </tbody>\n",
       "</table>\n",
       "</div>"
      ],
      "text/plain": [
       "Empty DataFrame\n",
       "Columns: [ZIP, ADI_STATERANK]\n",
       "Index: []"
      ]
     },
     "execution_count": 210,
     "metadata": {},
     "output_type": "execute_result"
    }
   ],
   "source": [
    "# df[['ZIP, COUNT']].groupby(['ZIP']).count()\n",
    "# ['ADI_STATERANK']\n",
    "counting = df.groupby([\"ZIP\"]).count().reset_index()\n",
    "counting[counting.ADI_STATERANK > 1]"
   ]
  },
  {
   "cell_type": "code",
   "execution_count": 252,
   "metadata": {},
   "outputs": [
    {
     "data": {
      "text/plain": [
       "Index(['Client_Id', 'Client_CreateStamp', 'Client_EditStamp',\n",
       "       'ClientOption_PreferredLanguageOfCaller',\n",
       "       'ClientSystem_PreferredLanguageOther',\n",
       "       'ClientAddressus_ClientAddressus_city',\n",
       "       'ClientAddressus_ClientAddressus_county',\n",
       "       'ClientAddressus_ClientAddressus_state',\n",
       "       'ClientAddressus_ClientAddressus_zip',\n",
       "       'ClientCustom_AgeOfPersonNeedingAssistance',\n",
       "       'ClientCustom_EthnicityOther', 'ClientOption_GenderOptionId',\n",
       "       'ClientOption_VeteranStatusOptionlist', 'ADI_STATERANK'],\n",
       "      dtype='object')"
      ]
     },
     "execution_count": 252,
     "metadata": {},
     "output_type": "execute_result"
    }
   ],
   "source": [
    "df_socioec_scores.rename(columns={'ZIP':'ClientAddressus_ClientAddressus_zip'}, inplace=True)\n",
    "df = pd.merge(df, df_socioec_scores, on=['ClientAddressus_ClientAddressus_zip'], how='left')\n",
    "df.columns"
   ]
  },
  {
   "cell_type": "markdown",
   "metadata": {},
   "source": [
    "# Incorporating SVI Dataset"
   ]
  },
  {
   "cell_type": "code",
   "execution_count": 253,
   "metadata": {},
   "outputs": [],
   "source": [
    "census_svi_path = \"../external_datasets/Wisconsin_CENSUS_SVI.csv\"\n",
    "county_svi_path = \"../external_datasets/Wisconsin_COUNTY_SVI.csv\""
   ]
  },
  {
   "cell_type": "code",
   "execution_count": 254,
   "metadata": {},
   "outputs": [],
   "source": [
    "svi_county_df = pd.read_csv(county_svi_path, sep=',')\n",
    "# svi_county_df.head(5)"
   ]
  },
  {
   "cell_type": "code",
   "execution_count": 255,
   "metadata": {},
   "outputs": [],
   "source": [
    "svi_county_df = svi_county_df[svi_county_df.COUNTY.notna()]\n",
    "svi_county_df.COUNTY = svi_county_df.COUNTY.astype(\"string\")\n",
    "svi_county_df.COUNTY = svi_county_df.COUNTY.str.strip().str.lower()\n",
    "# svi_county_df.COUNTY"
   ]
  },
  {
   "cell_type": "code",
   "execution_count": 88,
   "metadata": {},
   "outputs": [],
   "source": [
    "# counties = list(set([str(name).strip() for name in svi_county_df.COUNTY]))\n",
    "# counties.sort()\n",
    "# with open('./wisconsin_county_names_svi.txt', 'w') as file:\n",
    "#     for line in counties:\n",
    "#         file.write(f\"{line}\\n\")"
   ]
  },
  {
   "cell_type": "code",
   "execution_count": 256,
   "metadata": {},
   "outputs": [],
   "source": [
    "svi_2 = svi_county_df[['COUNTY', 'RPL_THEMES', 'RPL_THEME1', 'RPL_THEME2', 'RPL_THEME3', 'RPL_THEME4']]\n",
    "# svi_2"
   ]
  },
  {
   "cell_type": "code",
   "execution_count": 257,
   "metadata": {},
   "outputs": [
    {
     "name": "stderr",
     "output_type": "stream",
     "text": [
      "C:\\Users\\Siddiquee\\AppData\\Local\\Temp\\ipykernel_5156\\2399554523.py:1: SettingWithCopyWarning: \n",
      "A value is trying to be set on a copy of a slice from a DataFrame\n",
      "\n",
      "See the caveats in the documentation: https://pandas.pydata.org/pandas-docs/stable/user_guide/indexing.html#returning-a-view-versus-a-copy\n",
      "  svi_2.rename(columns={'COUNTY':'ClientAddressus_ClientAddressus_county'}, inplace=True)\n"
     ]
    }
   ],
   "source": [
    "svi_2.rename(columns={'COUNTY':'ClientAddressus_ClientAddressus_county'}, inplace=True)\n",
    "df = pd.merge(df, svi_2, on=['ClientAddressus_ClientAddressus_county'], how='left')"
   ]
  },
  {
   "cell_type": "code",
   "execution_count": 258,
   "metadata": {},
   "outputs": [
    {
     "data": {
      "text/plain": [
       "Index(['Client_Id', 'Client_CreateStamp', 'Client_EditStamp',\n",
       "       'ClientOption_PreferredLanguageOfCaller',\n",
       "       'ClientSystem_PreferredLanguageOther',\n",
       "       'ClientAddressus_ClientAddressus_city',\n",
       "       'ClientAddressus_ClientAddressus_county',\n",
       "       'ClientAddressus_ClientAddressus_state',\n",
       "       'ClientAddressus_ClientAddressus_zip',\n",
       "       'ClientCustom_AgeOfPersonNeedingAssistance',\n",
       "       'ClientCustom_EthnicityOther', 'ClientOption_GenderOptionId',\n",
       "       'ClientOption_VeteranStatusOptionlist', 'ADI_STATERANK', 'RPL_THEMES',\n",
       "       'RPL_THEME1', 'RPL_THEME2', 'RPL_THEME3', 'RPL_THEME4'],\n",
       "      dtype='object')"
      ]
     },
     "execution_count": 258,
     "metadata": {},
     "output_type": "execute_result"
    }
   ],
   "source": [
    "df.columns"
   ]
  },
  {
   "cell_type": "code",
   "execution_count": 261,
   "metadata": {},
   "outputs": [],
   "source": [
    "df.to_csv('./client_data_with_ADI_SVI_Indices.csv.zip', sep=',', encoding='utf-8', index=False, compression='zip')"
   ]
  }
 ],
 "metadata": {
  "kernelspec": {
   "display_name": "Python 3.10.8 64-bit",
   "language": "python",
   "name": "python3"
  },
  "language_info": {
   "codemirror_mode": {
    "name": "ipython",
    "version": 3
   },
   "file_extension": ".py",
   "mimetype": "text/x-python",
   "name": "python",
   "nbconvert_exporter": "python",
   "pygments_lexer": "ipython3",
   "version": "3.10.8"
  },
  "orig_nbformat": 4,
  "vscode": {
   "interpreter": {
    "hash": "26de051ba29f2982a8de78e945f0abaf191376122a1563185a90213a26c5da77"
   }
  }
 },
 "nbformat": 4,
 "nbformat_minor": 2
}
