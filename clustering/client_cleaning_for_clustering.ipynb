{
 "cells": [
  {
   "cell_type": "code",
   "execution_count": 1,
   "id": "a32c69b0",
   "metadata": {},
   "outputs": [],
   "source": [
    "import pandas as pd\n",
    "import numpy as np\n",
    "import matplotlib.pyplot as plt\n",
    "from sklearn.cluster import KMeans"
   ]
  },
  {
   "cell_type": "markdown",
   "id": "9643a4d0",
   "metadata": {},
   "source": [
    "## Load Data"
   ]
  },
  {
   "cell_type": "markdown",
   "id": "1e7f34b2",
   "metadata": {},
   "source": [
    "Need to further specify data type on import"
   ]
  },
  {
   "cell_type": "code",
   "execution_count": 2,
   "id": "a0b0de11",
   "metadata": {},
   "outputs": [
    {
     "name": "stderr",
     "output_type": "stream",
     "text": [
      "/var/folders/zc/wrqgm3152hg4ydnxhphqd85w0000gn/T/ipykernel_2696/2436151584.py:1: DtypeWarning: Columns (8) have mixed types. Specify dtype option on import or set low_memory=False.\n",
      "  df = pd.read_csv(\"uwwi_dataset_clients.csv\", sep=',',\n"
     ]
    }
   ],
   "source": [
    "df = pd.read_csv(\"uwwi_dataset_clients.csv\", sep=',',\n",
    "                dtype = {'ClientCustom_AgeOfPersonNeedingAssistance': 'Int64'})"
   ]
  },
  {
   "cell_type": "code",
   "execution_count": 3,
   "id": "cb8240c9",
   "metadata": {},
   "outputs": [
    {
     "data": {
      "text/html": [
       "<div>\n",
       "<style scoped>\n",
       "    .dataframe tbody tr th:only-of-type {\n",
       "        vertical-align: middle;\n",
       "    }\n",
       "\n",
       "    .dataframe tbody tr th {\n",
       "        vertical-align: top;\n",
       "    }\n",
       "\n",
       "    .dataframe thead th {\n",
       "        text-align: right;\n",
       "    }\n",
       "</style>\n",
       "<table border=\"1\" class=\"dataframe\">\n",
       "  <thead>\n",
       "    <tr style=\"text-align: right;\">\n",
       "      <th></th>\n",
       "      <th>Client_Id</th>\n",
       "      <th>Client_CreateStamp</th>\n",
       "      <th>Client_EditStamp</th>\n",
       "      <th>ClientOption_PreferredLanguageOfCaller</th>\n",
       "      <th>ClientSystem_PreferredLanguageOther</th>\n",
       "      <th>ClientAddressus_ClientAddressus_city</th>\n",
       "      <th>ClientAddressus_ClientAddressus_county</th>\n",
       "      <th>ClientAddressus_ClientAddressus_state</th>\n",
       "      <th>ClientAddressus_ClientAddressus_zip</th>\n",
       "      <th>ClientCustom_AgeOfPersonNeedingAssistance</th>\n",
       "      <th>ClientCustom_EthnicityOther</th>\n",
       "      <th>ClientOption_GenderOptionId</th>\n",
       "      <th>ClientOption_VeteranStatusOptionlist</th>\n",
       "    </tr>\n",
       "  </thead>\n",
       "  <tbody>\n",
       "    <tr>\n",
       "      <th>0</th>\n",
       "      <td>1</td>\n",
       "      <td>2017-04-07T15:34:04.872169-05:00</td>\n",
       "      <td>2022-04-23T00:53:31.812322-05:00</td>\n",
       "      <td>[]</td>\n",
       "      <td>NaN</td>\n",
       "      <td>FOND DU LAC</td>\n",
       "      <td>FOND DU LAC</td>\n",
       "      <td>WI</td>\n",
       "      <td>54935.0</td>\n",
       "      <td>&lt;NA&gt;</td>\n",
       "      <td>NaN</td>\n",
       "      <td>[]</td>\n",
       "      <td>[]</td>\n",
       "    </tr>\n",
       "    <tr>\n",
       "      <th>1</th>\n",
       "      <td>2</td>\n",
       "      <td>2017-04-10T08:08:10.404723-05:00</td>\n",
       "      <td>2022-04-23T00:53:33.172375-05:00</td>\n",
       "      <td>[]</td>\n",
       "      <td>NaN</td>\n",
       "      <td>MADISON</td>\n",
       "      <td>DANE</td>\n",
       "      <td>WI</td>\n",
       "      <td>53705.0</td>\n",
       "      <td>&lt;NA&gt;</td>\n",
       "      <td>NaN</td>\n",
       "      <td>[]</td>\n",
       "      <td>[]</td>\n",
       "    </tr>\n",
       "    <tr>\n",
       "      <th>2</th>\n",
       "      <td>3</td>\n",
       "      <td>2017-04-10T08:21:14.98351-05:00</td>\n",
       "      <td>2022-02-28T19:01:21.95251-06:00</td>\n",
       "      <td>[]</td>\n",
       "      <td>NaN</td>\n",
       "      <td>NaN</td>\n",
       "      <td>NaN</td>\n",
       "      <td>NaN</td>\n",
       "      <td>54115.0</td>\n",
       "      <td>&lt;NA&gt;</td>\n",
       "      <td>NaN</td>\n",
       "      <td>[]</td>\n",
       "      <td>[]</td>\n",
       "    </tr>\n",
       "    <tr>\n",
       "      <th>3</th>\n",
       "      <td>4</td>\n",
       "      <td>2017-04-10T08:25:16.115921-05:00</td>\n",
       "      <td>2022-04-23T00:53:33.445243-05:00</td>\n",
       "      <td>[]</td>\n",
       "      <td>NaN</td>\n",
       "      <td>MENASHA</td>\n",
       "      <td>WINNEBAGO</td>\n",
       "      <td>WI</td>\n",
       "      <td>54952.0</td>\n",
       "      <td>&lt;NA&gt;</td>\n",
       "      <td>NaN</td>\n",
       "      <td>[]</td>\n",
       "      <td>[]</td>\n",
       "    </tr>\n",
       "    <tr>\n",
       "      <th>4</th>\n",
       "      <td>5</td>\n",
       "      <td>2017-04-10T08:42:59.367602-05:00</td>\n",
       "      <td>2022-04-23T00:53:33.678873-05:00</td>\n",
       "      <td>[]</td>\n",
       "      <td>NaN</td>\n",
       "      <td>NEENAH</td>\n",
       "      <td>WINNEBAGO</td>\n",
       "      <td>WI</td>\n",
       "      <td>54956.0</td>\n",
       "      <td>&lt;NA&gt;</td>\n",
       "      <td>NaN</td>\n",
       "      <td>[]</td>\n",
       "      <td>[]</td>\n",
       "    </tr>\n",
       "  </tbody>\n",
       "</table>\n",
       "</div>"
      ],
      "text/plain": [
       "   Client_Id                Client_CreateStamp  \\\n",
       "0          1  2017-04-07T15:34:04.872169-05:00   \n",
       "1          2  2017-04-10T08:08:10.404723-05:00   \n",
       "2          3   2017-04-10T08:21:14.98351-05:00   \n",
       "3          4  2017-04-10T08:25:16.115921-05:00   \n",
       "4          5  2017-04-10T08:42:59.367602-05:00   \n",
       "\n",
       "                   Client_EditStamp ClientOption_PreferredLanguageOfCaller  \\\n",
       "0  2022-04-23T00:53:31.812322-05:00                                     []   \n",
       "1  2022-04-23T00:53:33.172375-05:00                                     []   \n",
       "2   2022-02-28T19:01:21.95251-06:00                                     []   \n",
       "3  2022-04-23T00:53:33.445243-05:00                                     []   \n",
       "4  2022-04-23T00:53:33.678873-05:00                                     []   \n",
       "\n",
       "  ClientSystem_PreferredLanguageOther ClientAddressus_ClientAddressus_city  \\\n",
       "0                                 NaN                          FOND DU LAC   \n",
       "1                                 NaN                              MADISON   \n",
       "2                                 NaN                                  NaN   \n",
       "3                                 NaN                              MENASHA   \n",
       "4                                 NaN                               NEENAH   \n",
       "\n",
       "  ClientAddressus_ClientAddressus_county  \\\n",
       "0                            FOND DU LAC   \n",
       "1                                   DANE   \n",
       "2                                    NaN   \n",
       "3                              WINNEBAGO   \n",
       "4                              WINNEBAGO   \n",
       "\n",
       "  ClientAddressus_ClientAddressus_state ClientAddressus_ClientAddressus_zip  \\\n",
       "0                                    WI                             54935.0   \n",
       "1                                    WI                             53705.0   \n",
       "2                                   NaN                             54115.0   \n",
       "3                                    WI                             54952.0   \n",
       "4                                    WI                             54956.0   \n",
       "\n",
       "   ClientCustom_AgeOfPersonNeedingAssistance ClientCustom_EthnicityOther  \\\n",
       "0                                       <NA>                         NaN   \n",
       "1                                       <NA>                         NaN   \n",
       "2                                       <NA>                         NaN   \n",
       "3                                       <NA>                         NaN   \n",
       "4                                       <NA>                         NaN   \n",
       "\n",
       "  ClientOption_GenderOptionId ClientOption_VeteranStatusOptionlist  \n",
       "0                          []                                   []  \n",
       "1                          []                                   []  \n",
       "2                          []                                   []  \n",
       "3                          []                                   []  \n",
       "4                          []                                   []  "
      ]
     },
     "execution_count": 3,
     "metadata": {},
     "output_type": "execute_result"
    }
   ],
   "source": [
    "df.head()"
   ]
  },
  {
   "cell_type": "markdown",
   "id": "74b789cf",
   "metadata": {},
   "source": [
    "Subset columns to be used for clustering"
   ]
  },
  {
   "cell_type": "code",
   "execution_count": 4,
   "id": "e3d3868f",
   "metadata": {
    "scrolled": true
   },
   "outputs": [
    {
     "data": {
      "text/html": [
       "<div>\n",
       "<style scoped>\n",
       "    .dataframe tbody tr th:only-of-type {\n",
       "        vertical-align: middle;\n",
       "    }\n",
       "\n",
       "    .dataframe tbody tr th {\n",
       "        vertical-align: top;\n",
       "    }\n",
       "\n",
       "    .dataframe thead th {\n",
       "        text-align: right;\n",
       "    }\n",
       "</style>\n",
       "<table border=\"1\" class=\"dataframe\">\n",
       "  <thead>\n",
       "    <tr style=\"text-align: right;\">\n",
       "      <th></th>\n",
       "      <th>ClientOption_PreferredLanguageOfCaller</th>\n",
       "      <th>ClientOption_GenderOptionId</th>\n",
       "      <th>ClientAddressus_ClientAddressus_zip</th>\n",
       "      <th>ClientCustom_AgeOfPersonNeedingAssistance</th>\n",
       "      <th>ClientCustom_EthnicityOther</th>\n",
       "      <th>ClientOption_VeteranStatusOptionlist</th>\n",
       "    </tr>\n",
       "  </thead>\n",
       "  <tbody>\n",
       "    <tr>\n",
       "      <th>0</th>\n",
       "      <td>[]</td>\n",
       "      <td>[]</td>\n",
       "      <td>54935.0</td>\n",
       "      <td>&lt;NA&gt;</td>\n",
       "      <td>NaN</td>\n",
       "      <td>[]</td>\n",
       "    </tr>\n",
       "    <tr>\n",
       "      <th>1</th>\n",
       "      <td>[]</td>\n",
       "      <td>[]</td>\n",
       "      <td>53705.0</td>\n",
       "      <td>&lt;NA&gt;</td>\n",
       "      <td>NaN</td>\n",
       "      <td>[]</td>\n",
       "    </tr>\n",
       "    <tr>\n",
       "      <th>2</th>\n",
       "      <td>[]</td>\n",
       "      <td>[]</td>\n",
       "      <td>54115.0</td>\n",
       "      <td>&lt;NA&gt;</td>\n",
       "      <td>NaN</td>\n",
       "      <td>[]</td>\n",
       "    </tr>\n",
       "    <tr>\n",
       "      <th>3</th>\n",
       "      <td>[]</td>\n",
       "      <td>[]</td>\n",
       "      <td>54952.0</td>\n",
       "      <td>&lt;NA&gt;</td>\n",
       "      <td>NaN</td>\n",
       "      <td>[]</td>\n",
       "    </tr>\n",
       "    <tr>\n",
       "      <th>4</th>\n",
       "      <td>[]</td>\n",
       "      <td>[]</td>\n",
       "      <td>54956.0</td>\n",
       "      <td>&lt;NA&gt;</td>\n",
       "      <td>NaN</td>\n",
       "      <td>[]</td>\n",
       "    </tr>\n",
       "  </tbody>\n",
       "</table>\n",
       "</div>"
      ],
      "text/plain": [
       "  ClientOption_PreferredLanguageOfCaller ClientOption_GenderOptionId  \\\n",
       "0                                     []                          []   \n",
       "1                                     []                          []   \n",
       "2                                     []                          []   \n",
       "3                                     []                          []   \n",
       "4                                     []                          []   \n",
       "\n",
       "  ClientAddressus_ClientAddressus_zip  \\\n",
       "0                             54935.0   \n",
       "1                             53705.0   \n",
       "2                             54115.0   \n",
       "3                             54952.0   \n",
       "4                             54956.0   \n",
       "\n",
       "   ClientCustom_AgeOfPersonNeedingAssistance ClientCustom_EthnicityOther  \\\n",
       "0                                       <NA>                         NaN   \n",
       "1                                       <NA>                         NaN   \n",
       "2                                       <NA>                         NaN   \n",
       "3                                       <NA>                         NaN   \n",
       "4                                       <NA>                         NaN   \n",
       "\n",
       "  ClientOption_VeteranStatusOptionlist  \n",
       "0                                   []  \n",
       "1                                   []  \n",
       "2                                   []  \n",
       "3                                   []  \n",
       "4                                   []  "
      ]
     },
     "execution_count": 4,
     "metadata": {},
     "output_type": "execute_result"
    }
   ],
   "source": [
    "X = df[['ClientOption_PreferredLanguageOfCaller', 'ClientOption_GenderOptionId', 'ClientAddressus_ClientAddressus_zip', 'ClientCustom_AgeOfPersonNeedingAssistance', 'ClientCustom_EthnicityOther','ClientOption_VeteranStatusOptionlist']].copy()\n",
    "X.head()"
   ]
  },
  {
   "cell_type": "code",
   "execution_count": 12,
   "id": "5c3d8245",
   "metadata": {},
   "outputs": [
    {
     "data": {
      "text/plain": [
       "830456"
      ]
     },
     "execution_count": 12,
     "metadata": {},
     "output_type": "execute_result"
    }
   ],
   "source": [
    "len(X)"
   ]
  },
  {
   "cell_type": "code",
   "execution_count": 13,
   "id": "f1010c64",
   "metadata": {},
   "outputs": [
    {
     "name": "stdout",
     "output_type": "stream",
     "text": [
      "ClientOption_PreferredLanguageOfCaller\n",
      "['[]' \"['Spanish']\" \"['Other']\" \"['English']\" \"['Undetermined']\"\n",
      " \"['Declined']\" \"['Chinese']\" \"['American Sign Language']\" \"['Russian']\"\n",
      " \"['Tagalog']\" \"['German']\" \"['Korean']\" \"['French']\" \"['Vietnamese']\"\n",
      " \"['Italian']\" \"['Hmong']\"]\n",
      "\n",
      "\n",
      "ClientOption_GenderOptionId\n",
      "['[]' \"['Male']\" \"['Female']\" \"['Transgender']\" \"['Unknown']\" \"['Other']\"\n",
      " \"['DO NOT USE - Transgendered Female to Male']\" \"['Refused']\"]\n",
      "\n",
      "\n",
      "ClientAddressus_ClientAddressus_zip\n",
      "[54935.0 53705.0 54115.0 ... 55944.0 33903.0 73667.0]\n",
      "\n",
      "\n",
      "ClientCustom_AgeOfPersonNeedingAssistance\n",
      "<IntegerArray>\n",
      "[<NA>,   38,   77,   40,   25,   45,   44,   50,   19,   56,\n",
      " ...\n",
      "  126,  621,  472,  105, 5555,  -10,  222,  352,  -42,  101]\n",
      "Length: 158, dtype: Int64\n",
      "\n",
      "\n",
      "ClientCustom_EthnicityOther\n",
      "[nan 'Unknown' \"didn't specify, just said other\" 'Uknown'\n",
      " 'White and Hispanic' 'Hmong' 'Mixed' 'mixed' 'Urasian' 'white & hispanic'\n",
      " 'American' 'bi-racial' 'native american and white'\n",
      " 'Mixed Af Amer and White' 'white and 1/4 native american'\n",
      " 'native american and mexican' 'multi-racial' 'From Northern Iraq.'\n",
      " 'white and hispanic' 'white and native american' 'Native and then some'\n",
      " 'mixed little bit of everything' 'BiRacial' 'mixed a whole bunch'\n",
      " 'Arabic' 'Mixed race' 'biracial' 'half native american and half white'\n",
      " 'Middle Eastern' 'Nigeria'\n",
      " 'Caller declined to say what he meant by Other'\n",
      " 'Prefers to be classified as mixed' 'French' 'African'\n",
      " 'Did not wish to specify' 'Peruvian' 'Swahili' 'swahili' 'Did not say'\n",
      " 'Black, white, Indian' 'Caller reports multiple ethnic influences'\n",
      " 'Caller just simply stated \"other\" and did not give further explanation.'\n",
      " 'Caller simply said \"other\"' 'Biracial' 'MIXED, UNSPECIFIED' 'Serbian'\n",
      " 'cilcian' 'didnt ask' 'Latino' 'Caller stated she is bi-racial.'\n",
      " 'white/ african american' 'Caucasin'\n",
      " 'Caller hung up before giving the information' 'Bi-racial' 'India'\n",
      " 'prefers term of MIXED for her family' 'Multi racial.'\n",
      " 'Karo Tribe of Equatorial Africa' 'Farsi' 'Multi cutural' 'Black African'\n",
      " 'Itailian' 'Native American' 'Indian' 'mix' 'Green' 'MULTI RACIAL'\n",
      " 'Caucasian and Afro American' 'Mixed Race' 'Poland' 'Asian/White'\n",
      " 'Haitian' 'Human' 'Jewish' 'Hispanic' 'india' 'Indian?' 'non' 'Ukraine'\n",
      " 'irish' 'black, italian' 'Italian' 'Jamiacan' 'Haiti' 'West Africa'\n",
      " 'Somali' 'Pacific-Islander' 'Jamaican' 'Mulato' 'Congo'\n",
      " 'food stamps application'\n",
      " 'Another phone number: Deb Seal (power of attorney who knows where Jesse is) 715-597-2122'\n",
      " 'HINDI' 'Russian' 'Persian' 'Burmese' 'Pakistani' 'Palestinian'\n",
      " 'Pacific inlander' 'Burma' 'rahinga' 'Arabian' 'Ukrainian' 'Indi'\n",
      " 'Jordanian' 'Iraq' 'Morroco']\n",
      "\n",
      "\n",
      "ClientOption_VeteranStatusOptionlist\n",
      "['[]' \"['No']\" \"['N/A']\" \"['Yes']\" \"['No', 'N/A']\" \"['Yes', 'No']\"\n",
      " \"['Yes', 'N/A']\" \"['Yes', 'No', 'N/A']\"]\n",
      "\n",
      "\n"
     ]
    }
   ],
   "source": [
    "for column in X:\n",
    "    print(column)\n",
    "    print(X[column].unique())\n",
    "    print('\\n')"
   ]
  },
  {
   "cell_type": "code",
   "execution_count": 14,
   "id": "6b494cc8",
   "metadata": {},
   "outputs": [
    {
     "name": "stdout",
     "output_type": "stream",
     "text": [
      "ClientOption_PreferredLanguageOfCaller\n",
      "0\n",
      "\n",
      "\n",
      "ClientOption_GenderOptionId\n",
      "0\n",
      "\n",
      "\n",
      "ClientAddressus_ClientAddressus_zip\n",
      "68132\n",
      "\n",
      "\n",
      "ClientCustom_AgeOfPersonNeedingAssistance\n",
      "737329\n",
      "\n",
      "\n",
      "ClientCustom_EthnicityOther\n",
      "830269\n",
      "\n",
      "\n",
      "ClientOption_VeteranStatusOptionlist\n",
      "0\n",
      "\n",
      "\n"
     ]
    }
   ],
   "source": [
    "for column in X:\n",
    "    print(column)\n",
    "    print(X[column].isna().sum())\n",
    "    print('\\n')"
   ]
  },
  {
   "cell_type": "markdown",
   "id": "5da74519",
   "metadata": {},
   "source": [
    "## Cleaning Data"
   ]
  },
  {
   "cell_type": "code",
   "execution_count": 67,
   "id": "34add897",
   "metadata": {},
   "outputs": [],
   "source": [
    "# ClientOption_PreferredLanguageOfCaller: flatten; replace [] with Na; group 'Undetermined' and 'Declined'\n"
   ]
  },
  {
   "cell_type": "code",
   "execution_count": null,
   "id": "7773af69",
   "metadata": {},
   "outputs": [],
   "source": [
    "# ClientOption_GenderOptionId: flatten; replace [] with Na; reduce to 'Male', 'Female', 'Transgender', 'Other'; replace 'Unknown' with NA"
   ]
  },
  {
   "cell_type": "code",
   "execution_count": null,
   "id": "c8350978",
   "metadata": {},
   "outputs": [],
   "source": [
    "# ClientAddressus_ClientAddressus_zip: convert values from float to int"
   ]
  },
  {
   "cell_type": "code",
   "execution_count": 9,
   "id": "54989885",
   "metadata": {},
   "outputs": [],
   "source": [
    "# ClientCustom_AgeOfPersonNeedingAssistance: change '<N/A>' values to NaN; pandas is importing this in a weird way. Should be ints in normal age ranges\n"
   ]
  },
  {
   "cell_type": "code",
   "execution_count": 8,
   "id": "967b6bdf",
   "metadata": {
    "scrolled": false
   },
   "outputs": [
    {
     "name": "stdout",
     "output_type": "stream",
     "text": [
      "-165\n",
      "596.186820148829\n"
     ]
    }
   ],
   "source": [
    "print(X['ClientCustom_AgeOfPersonNeedingAssistance'].min())\n",
    "print(X['ClientCustom_AgeOfPersonNeedingAssistance'].mean())"
   ]
  },
  {
   "cell_type": "code",
   "execution_count": null,
   "id": "8feeba89",
   "metadata": {},
   "outputs": [],
   "source": [
    "# ClientCustom_EthnicityOther: group like where feasible (e.g. 'Biracial' and 'Mixed race' to reduce total)"
   ]
  },
  {
   "cell_type": "code",
   "execution_count": 16,
   "id": "0fd1b483",
   "metadata": {},
   "outputs": [],
   "source": [
    "# ClientOption_VeteranStatusOptionlist: flatten; change '[]' to NA; investigate why there are 2-3 entries in some columns and reduce to first if possible"
   ]
  },
  {
   "cell_type": "markdown",
   "id": "4ffbdbdf",
   "metadata": {},
   "source": [
    "## EDA"
   ]
  },
  {
   "cell_type": "code",
   "execution_count": null,
   "id": "8722fee6",
   "metadata": {},
   "outputs": [],
   "source": []
  },
  {
   "cell_type": "code",
   "execution_count": null,
   "id": "80474532",
   "metadata": {},
   "outputs": [],
   "source": []
  },
  {
   "cell_type": "markdown",
   "id": "002fbaaa",
   "metadata": {},
   "source": [
    "## K-Means Clustering "
   ]
  },
  {
   "cell_type": "markdown",
   "id": "38203c70",
   "metadata": {},
   "source": [
    "We want to understand different client segments and how they cluster together  "
   ]
  },
  {
   "cell_type": "code",
   "execution_count": 15,
   "id": "6bdf8bcc",
   "metadata": {},
   "outputs": [],
   "source": [
    "# kmeans"
   ]
  },
  {
   "cell_type": "code",
   "execution_count": 28,
   "id": "2f52d0db",
   "metadata": {},
   "outputs": [],
   "source": []
  }
 ],
 "metadata": {
  "kernelspec": {
   "display_name": "Python 3 (ipykernel)",
   "language": "python",
   "name": "python3"
  },
  "language_info": {
   "codemirror_mode": {
    "name": "ipython",
    "version": 3
   },
   "file_extension": ".py",
   "mimetype": "text/x-python",
   "name": "python",
   "nbconvert_exporter": "python",
   "pygments_lexer": "ipython3",
   "version": "3.9.7"
  }
 },
 "nbformat": 4,
 "nbformat_minor": 5
}
